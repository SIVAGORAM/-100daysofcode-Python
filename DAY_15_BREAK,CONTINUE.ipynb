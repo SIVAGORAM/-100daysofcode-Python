{
  "nbformat": 4,
  "nbformat_minor": 0,
  "metadata": {
    "colab": {
      "provenance": [],
      "authorship_tag": "ABX9TyPRVwRAhxD6A2i3hppclhsj",
      "include_colab_link": true
    },
    "kernelspec": {
      "name": "python3",
      "display_name": "Python 3"
    },
    "language_info": {
      "name": "python"
    }
  },
  "cells": [
    {
      "cell_type": "markdown",
      "metadata": {
        "id": "view-in-github",
        "colab_type": "text"
      },
      "source": [
        "<a href=\"https://colab.research.google.com/github/SIVAGORAM/-100daysofcode-Python/blob/main/DAY_15_BREAK%2CCONTINUE.ipynb\" target=\"_parent\"><img src=\"https://colab.research.google.com/assets/colab-badge.svg\" alt=\"Open In Colab\"/></a>"
      ]
    },
    {
      "cell_type": "code",
      "execution_count": null,
      "metadata": {
        "colab": {
          "base_uri": "https://localhost:8080/"
        },
        "id": "oNPskSd3bJL6",
        "outputId": "8ac231a6-b590-49e4-cd96-662b5cb36cb1"
      },
      "outputs": [
        {
          "output_type": "stream",
          "name": "stdout",
          "text": [
            "1 Mississippi\n",
            "2 Mississippi\n",
            "3 Mississippi\n",
            "4 Mississippi\n",
            "5 Mississippi\n",
            "6 Mississippi\n",
            "7 Mississippi\n",
            "8 Mississippi\n",
            "9 Mississippi\n",
            "10 Mississippi\n",
            "11 Mississippi\n",
            "12 Mississippi\n",
            "13 Mississippi\n",
            "14 Mississippi\n",
            "15 Mississippi\n",
            "16 Mississippi\n",
            "17 Mississippi\n",
            "18 Mississippi\n",
            "19 Mississippi\n",
            "20 Mississippi\n",
            "21 Mississippi\n",
            "22 Mississippi\n",
            "23 Mississippi\n",
            "24 Mississippi\n",
            "25 Mississippi\n",
            "26 Mississippi\n",
            "27 Mississippi\n",
            "28 Mississippi\n",
            "29 Mississippi\n",
            "30 Mississippi\n",
            "31 Mississippi\n",
            "32 Mississippi\n",
            "33 Mississippi\n",
            "34 Mississippi\n",
            "35 Mississippi\n",
            "36 Mississippi\n",
            "37 Mississippi\n",
            "38 Mississippi\n",
            "39 Mississippi\n",
            "40 Mississippi\n",
            "41 Mississippi\n",
            "42 Mississippi\n",
            "43 Mississippi\n",
            "44 Mississippi\n",
            "45 Mississippi\n",
            "46 Mississippi\n",
            "47 Mississippi\n",
            "48 Mississippi\n",
            "49 Mississippi\n",
            "50 Thank you\n"
          ]
        }
      ],
      "source": [
        "for i in range(1,101,1):\n",
        "    print(i ,end=\" \")\n",
        "    if(i==50):\n",
        "        break\n",
        "    else:\n",
        "        print(\"Mississippi\")\n",
        "print(\"Thank you\")"
      ]
    },
    {
      "cell_type": "code",
      "source": [
        "# Using break to stop the loop when a condition is met\n",
        "\n",
        "numbers = [1, 2, 3, 4, 5, 6, 7, 8, 9, 10]\n",
        "\n",
        "for number in numbers:\n",
        "    if number == 5:\n",
        "        print(\"Found the number 5! Exiting loop.\")\n",
        "        break\n",
        "    print(\"Currently at:\", number)\n",
        "\n",
        "print(\"Loop ended.\")\n"
      ],
      "metadata": {
        "colab": {
          "base_uri": "https://localhost:8080/"
        },
        "id": "blDyur8RcpCl",
        "outputId": "4132d974-75d9-4077-a52d-66623b9dbb16"
      },
      "execution_count": null,
      "outputs": [
        {
          "output_type": "stream",
          "name": "stdout",
          "text": [
            "Currently at: 1\n",
            "Currently at: 2\n",
            "Currently at: 3\n",
            "Currently at: 4\n",
            "Found the number 5! Exiting loop.\n",
            "Loop ended.\n"
          ]
        }
      ]
    },
    {
      "cell_type": "code",
      "source": [
        "i = 0\n",
        "while True:\n",
        "  print(i)\n",
        "  i = i + 1\n",
        "  if(i%100 == 0):\n",
        "    break"
      ],
      "metadata": {
        "colab": {
          "base_uri": "https://localhost:8080/"
        },
        "id": "V8iIKthWdJ1z",
        "outputId": "149dc46f-c8ad-4441-b651-3d244d3ec3bc"
      },
      "execution_count": null,
      "outputs": [
        {
          "output_type": "stream",
          "name": "stdout",
          "text": [
            "0\n",
            "1\n",
            "2\n",
            "3\n",
            "4\n",
            "5\n",
            "6\n",
            "7\n",
            "8\n",
            "9\n",
            "10\n",
            "11\n",
            "12\n",
            "13\n",
            "14\n",
            "15\n",
            "16\n",
            "17\n",
            "18\n",
            "19\n",
            "20\n",
            "21\n",
            "22\n",
            "23\n",
            "24\n",
            "25\n",
            "26\n",
            "27\n",
            "28\n",
            "29\n",
            "30\n",
            "31\n",
            "32\n",
            "33\n",
            "34\n",
            "35\n",
            "36\n",
            "37\n",
            "38\n",
            "39\n",
            "40\n",
            "41\n",
            "42\n",
            "43\n",
            "44\n",
            "45\n",
            "46\n",
            "47\n",
            "48\n",
            "49\n",
            "50\n",
            "51\n",
            "52\n",
            "53\n",
            "54\n",
            "55\n",
            "56\n",
            "57\n",
            "58\n",
            "59\n",
            "60\n",
            "61\n",
            "62\n",
            "63\n",
            "64\n",
            "65\n",
            "66\n",
            "67\n",
            "68\n",
            "69\n",
            "70\n",
            "71\n",
            "72\n",
            "73\n",
            "74\n",
            "75\n",
            "76\n",
            "77\n",
            "78\n",
            "79\n",
            "80\n",
            "81\n",
            "82\n",
            "83\n",
            "84\n",
            "85\n",
            "86\n",
            "87\n",
            "88\n",
            "89\n",
            "90\n",
            "91\n",
            "92\n",
            "93\n",
            "94\n",
            "95\n",
            "96\n",
            "97\n",
            "98\n",
            "99\n"
          ]
        }
      ]
    },
    {
      "cell_type": "code",
      "source": [
        "for i in [2,3,4,6,8,0]:\n",
        "    if (i%2!=0):\n",
        "        continue\n",
        "    print(i)"
      ],
      "metadata": {
        "colab": {
          "base_uri": "https://localhost:8080/"
        },
        "id": "FtFWIKtlcAW_",
        "outputId": "dd0e6d69-ccb8-42f5-ab57-1327a949a088"
      },
      "execution_count": null,
      "outputs": [
        {
          "output_type": "stream",
          "name": "stdout",
          "text": [
            "2\n",
            "4\n",
            "6\n",
            "8\n",
            "0\n"
          ]
        }
      ]
    },
    {
      "cell_type": "code",
      "source": [
        "# Using continue to skip even numbers\n",
        "\n",
        "numbers = [1, 2, 3, 4, 5, 6, 7, 8, 9, 10]\n",
        "\n",
        "for number in numbers:\n",
        "    if number % 2 == 0:\n",
        "        print(\"Skipping even number:\", number)\n",
        "        continue\n",
        "    print(\"Processing odd number:\", number)\n",
        "\n",
        "print(\"Loop ended.\")\n"
      ],
      "metadata": {
        "colab": {
          "base_uri": "https://localhost:8080/"
        },
        "id": "W29nWtj9cuWY",
        "outputId": "3d745b9a-de73-4362-f05c-0e96fb609c92"
      },
      "execution_count": null,
      "outputs": [
        {
          "output_type": "stream",
          "name": "stdout",
          "text": [
            "Processing odd number: 1\n",
            "Skipping even number: 2\n",
            "Processing odd number: 3\n",
            "Skipping even number: 4\n",
            "Processing odd number: 5\n",
            "Skipping even number: 6\n",
            "Processing odd number: 7\n",
            "Skipping even number: 8\n",
            "Processing odd number: 9\n",
            "Skipping even number: 10\n",
            "Loop ended.\n"
          ]
        }
      ]
    },
    {
      "cell_type": "code",
      "source": [
        "for i in range(12):\n",
        "  if(i == 10):\n",
        "    print(\"Skip the iteration\")\n",
        "    continue\n",
        "  print(\"5 X\", i, \"=\", 5 * i)\n",
        "\n"
      ],
      "metadata": {
        "colab": {
          "base_uri": "https://localhost:8080/"
        },
        "id": "zdlxvG-0dGG_",
        "outputId": "6ca715a6-c6e4-4b5a-ef84-e49f8e5b34ae"
      },
      "execution_count": null,
      "outputs": [
        {
          "output_type": "stream",
          "name": "stdout",
          "text": [
            "5 X 0 = 0\n",
            "5 X 1 = 5\n",
            "5 X 2 = 10\n",
            "5 X 3 = 15\n",
            "5 X 4 = 20\n",
            "5 X 5 = 25\n",
            "5 X 6 = 30\n",
            "5 X 7 = 35\n",
            "5 X 8 = 40\n",
            "5 X 9 = 45\n",
            "Skip the iteration\n",
            "5 X 11 = 55\n"
          ]
        }
      ]
    }
  ]
}