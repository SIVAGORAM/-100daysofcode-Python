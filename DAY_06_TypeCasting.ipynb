{
  "nbformat": 4,
  "nbformat_minor": 0,
  "metadata": {
    "colab": {
      "provenance": [],
      "authorship_tag": "ABX9TyNqC1I8KeFl5Tmh+ABZpMrO",
      "include_colab_link": true
    },
    "kernelspec": {
      "name": "python3",
      "display_name": "Python 3"
    },
    "language_info": {
      "name": "python"
    }
  },
  "cells": [
    {
      "cell_type": "markdown",
      "metadata": {
        "id": "view-in-github",
        "colab_type": "text"
      },
      "source": [
        "<a href=\"https://colab.research.google.com/github/SIVAGORAM/-100daysofcode-Python/blob/main/DAY_06_TypeCasting.ipynb\" target=\"_parent\"><img src=\"https://colab.research.google.com/assets/colab-badge.svg\" alt=\"Open In Colab\"/></a>"
      ]
    },
    {
      "cell_type": "code",
      "execution_count": null,
      "metadata": {
        "colab": {
          "base_uri": "https://localhost:8080/"
        },
        "id": "oAgdYEtqtEKK",
        "outputId": "b2309a62-c2bd-47d6-f058-9443986d9fff"
      },
      "outputs": [
        {
          "output_type": "stream",
          "name": "stdout",
          "text": [
            "3\n",
            "9.9\n"
          ]
        }
      ],
      "source": [
        "a = \"1\"\n",
        "# a = 1\n",
        "b = \"2\"\n",
        "# b = 2\n",
        "print(int(a) + int(b))\n",
        "# Implicit TypeCasting\n",
        "c = 1.9\n",
        "d = 8\n",
        "print(c + d)"
      ]
    },
    {
      "cell_type": "code",
      "source": [
        "string = \"15\"\n",
        "number = 7\n",
        "string_number = int(string) #throws an error if the string is not a valid integer\n",
        "sum= number + string_number\n",
        "print(\"The Sum of both the numbers is: \", sum)"
      ],
      "metadata": {
        "colab": {
          "base_uri": "https://localhost:8080/"
        },
        "id": "n72sfo5htF0Y",
        "outputId": "0e4fa0a2-c1f7-4f08-ad11-14c625d7a70b"
      },
      "execution_count": null,
      "outputs": [
        {
          "output_type": "stream",
          "name": "stdout",
          "text": [
            "The Sum of both the numbers is:  22\n"
          ]
        }
      ]
    },
    {
      "cell_type": "code",
      "source": [
        "# Python automatically converts\n",
        "# a to int\n",
        "a = 7\n",
        "print(type(a))\n",
        "# Python automatically converts b to float\n",
        "b = 3.0\n",
        "print(type(b))\n",
        "# Python automatically converts c to float as it is a float addition\n",
        "c = a + b\n",
        "print(c)\n",
        "print(type(c))"
      ],
      "metadata": {
        "colab": {
          "base_uri": "https://localhost:8080/"
        },
        "id": "AKAkJm3stfKZ",
        "outputId": "d66eb981-c1cc-409d-c275-00b758fe4b3d"
      },
      "execution_count": null,
      "outputs": [
        {
          "output_type": "stream",
          "name": "stdout",
          "text": [
            "<class 'int'>\n",
            "<class 'float'>\n",
            "10.0\n",
            "<class 'float'>\n"
          ]
        }
      ]
    }
  ]
}