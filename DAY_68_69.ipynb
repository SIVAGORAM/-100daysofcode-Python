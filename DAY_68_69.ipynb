{
  "nbformat": 4,
  "nbformat_minor": 0,
  "metadata": {
    "colab": {
      "provenance": [],
      "authorship_tag": "ABX9TyOaOGCFvBAhRnwaC0SUaogs",
      "include_colab_link": true
    },
    "kernelspec": {
      "name": "python3",
      "display_name": "Python 3"
    },
    "language_info": {
      "name": "python"
    }
  },
  "cells": [
    {
      "cell_type": "markdown",
      "metadata": {
        "id": "view-in-github",
        "colab_type": "text"
      },
      "source": [
        "<a href=\"https://colab.research.google.com/github/SIVAGORAM/-100daysofcode-Python/blob/main/DAY_68_69.ipynb\" target=\"_parent\"><img src=\"https://colab.research.google.com/assets/colab-badge.svg\" alt=\"Open In Colab\"/></a>"
      ]
    },
    {
      "cell_type": "markdown",
      "source": [
        "Static methods in Python:"
      ],
      "metadata": {
        "id": "rleUlMRba64n"
      }
    },
    {
      "cell_type": "code",
      "execution_count": null,
      "metadata": {
        "colab": {
          "base_uri": "https://localhost:8080/"
        },
        "id": "-FMAb2eSa40t",
        "outputId": "ca00cf40-76ea-4ca9-db07-6ff61592e87c"
      },
      "outputs": [
        {
          "output_type": "stream",
          "name": "stdout",
          "text": [
            "3\n"
          ]
        }
      ],
      "source": [
        "class Math:\n",
        "    @staticmethod\n",
        "    def add(a, b):\n",
        "        return a + b\n",
        "\n",
        "result = Math.add(1, 2)\n",
        "print(result) # Output: 3"
      ]
    },
    {
      "cell_type": "markdown",
      "source": [
        "Basic Static Method:\n"
      ],
      "metadata": {
        "id": "jJ8EM80dbQMr"
      }
    },
    {
      "cell_type": "code",
      "source": [
        "class MathOperations:\n",
        "    @staticmethod\n",
        "    def add(x, y):\n",
        "        return x + y\n",
        "\n",
        "    @staticmethod\n",
        "    def subtract(x, y):\n",
        "        return x - y\n",
        "\n",
        "# Usage\n",
        "print(\"Addition:\", MathOperations.add(5, 3))\n",
        "print(\"Subtraction:\", MathOperations.subtract(8, 4))\n"
      ],
      "metadata": {
        "colab": {
          "base_uri": "https://localhost:8080/"
        },
        "id": "Dzm9tY6LbQ2M",
        "outputId": "accaa064-471b-47c4-c72e-ac45c07c43e5"
      },
      "execution_count": null,
      "outputs": [
        {
          "output_type": "stream",
          "name": "stdout",
          "text": [
            "Addition: 8\n",
            "Subtraction: 4\n"
          ]
        }
      ]
    },
    {
      "cell_type": "markdown",
      "source": [
        "Using Static Method as Utility:"
      ],
      "metadata": {
        "id": "hgztmixLbSs0"
      }
    },
    {
      "cell_type": "code",
      "source": [
        "class TemperatureConverter:\n",
        "    @staticmethod\n",
        "    def celsius_to_fahrenheit(celsius):\n",
        "        return (celsius * 9/5) + 32\n",
        "\n",
        "    @staticmethod\n",
        "    def fahrenheit_to_celsius(fahrenheit):\n",
        "        return (fahrenheit - 32) * 5/9\n",
        "\n",
        "# Usage\n",
        "celsius_temp = 20\n",
        "fahrenheit_temp = TemperatureConverter.celsius_to_fahrenheit(celsius_temp)\n",
        "print(f\"{celsius_temp}°C is equal to {fahrenheit_temp}°F\")\n",
        "\n",
        "fahrenheit_temp = 68\n",
        "celsius_temp = TemperatureConverter.fahrenheit_to_celsius(fahrenheit_temp)\n",
        "print(f\"{fahrenheit_temp}°F is equal to {celsius_temp}°C\")\n"
      ],
      "metadata": {
        "colab": {
          "base_uri": "https://localhost:8080/"
        },
        "id": "nmFXtOZ0bU_1",
        "outputId": "61495e8c-4c19-4c80-9097-de359b2b657d"
      },
      "execution_count": null,
      "outputs": [
        {
          "output_type": "stream",
          "name": "stdout",
          "text": [
            "20°C is equal to 68.0°F\n",
            "68°F is equal to 20.0°C\n"
          ]
        }
      ]
    },
    {
      "cell_type": "markdown",
      "source": [
        "Static Method with Class Interaction:"
      ],
      "metadata": {
        "id": "HeR4FT2EbW8W"
      }
    },
    {
      "cell_type": "code",
      "source": [
        "class Circle:\n",
        "    PI = 3.14159\n",
        "\n",
        "    def __init__(self, radius):\n",
        "        self.radius = radius\n",
        "\n",
        "    @staticmethod\n",
        "    def circumference(radius):\n",
        "        return 2 * Circle.PI * radius\n",
        "\n",
        "# Usage\n",
        "radius = 5\n",
        "print(\"Circumference of the circle with radius\", radius, \"is:\", Circle.circumference(radius))\n"
      ],
      "metadata": {
        "colab": {
          "base_uri": "https://localhost:8080/"
        },
        "id": "J-FVnk2GbZpr",
        "outputId": "35f13d3d-3847-41fa-f49e-3dcf70e9ec03"
      },
      "execution_count": null,
      "outputs": [
        {
          "output_type": "stream",
          "name": "stdout",
          "text": [
            "Circumference of the circle with radius 5 is: 31.4159\n"
          ]
        }
      ]
    },
    {
      "cell_type": "code",
      "source": [
        "class Math:\n",
        "  def __init__(self, num):\n",
        "    self.num = num\n",
        "\n",
        "  def addtonum(self, n):\n",
        "    self.num = self.num +n\n",
        "\n",
        "  @staticmethod\n",
        "  def add(a, b):\n",
        "      return a + b\n",
        "\n",
        "result = Math.add(1, 2)\n",
        "print(result) # Output: 3\n",
        "a = Math(5)\n",
        "print(a.num)\n",
        "a.addtonum(6)\n",
        "print(a.num)\n",
        "\n",
        "print(Math.add(7, 2))"
      ],
      "metadata": {
        "colab": {
          "base_uri": "https://localhost:8080/"
        },
        "id": "J5ONkGd-bqbe",
        "outputId": "5446b4bb-9602-43a2-def8-e8a47616aa21"
      },
      "execution_count": null,
      "outputs": [
        {
          "output_type": "stream",
          "name": "stdout",
          "text": [
            "5\n",
            "11\n",
            "9\n"
          ]
        }
      ]
    },
    {
      "cell_type": "code",
      "source": [],
      "metadata": {
        "id": "Y6tHEAmcctfS"
      },
      "execution_count": null,
      "outputs": []
    },
    {
      "cell_type": "code",
      "source": [],
      "metadata": {
        "id": "XBf99NBQctim"
      },
      "execution_count": null,
      "outputs": []
    },
    {
      "cell_type": "markdown",
      "source": [
        "Instance Variables"
      ],
      "metadata": {
        "id": "Xtp3vaz0ct5F"
      }
    },
    {
      "cell_type": "code",
      "source": [
        "class MyClass:\n",
        "    class_variable = 0\n",
        "\n",
        "    def __init__(self):\n",
        "        MyClass.class_variable += 1\n",
        "\n",
        "    def print_class_variable(self):\n",
        "        print(MyClass.class_variable)\n",
        "\n",
        "\n",
        "obj1 = MyClass()\n",
        "obj2 = MyClass()\n",
        "\n",
        "obj1.print_class_variable() # Output: 2\n",
        "obj2.print_class_variable() # Output: 2\n"
      ],
      "metadata": {
        "colab": {
          "base_uri": "https://localhost:8080/"
        },
        "id": "vDdDjsGNcvMZ",
        "outputId": "272f7b72-c896-420a-999e-551e137a5b83"
      },
      "execution_count": null,
      "outputs": [
        {
          "output_type": "stream",
          "name": "stdout",
          "text": [
            "2\n",
            "2\n"
          ]
        }
      ]
    },
    {
      "cell_type": "code",
      "source": [],
      "metadata": {
        "id": "7jpVd3noczuH"
      },
      "execution_count": null,
      "outputs": []
    },
    {
      "cell_type": "code",
      "source": [
        "class MyClass:\n",
        "    def __init__(self, name):\n",
        "        self.name = name\n",
        "\n",
        "    def print_name(self):\n",
        "        print(self.name)\n",
        "\n",
        "obj1 = MyClass(\"John\")\n",
        "obj2 = MyClass(\"Jane\")\n",
        "\n",
        "obj1.print_name() # Output: John\n",
        "obj2.print_name() # Output: Jane"
      ],
      "metadata": {
        "colab": {
          "base_uri": "https://localhost:8080/"
        },
        "id": "n62AdWAHczxg",
        "outputId": "b955e392-8e2f-44f3-bc41-4d96be108b3a"
      },
      "execution_count": null,
      "outputs": [
        {
          "output_type": "stream",
          "name": "stdout",
          "text": [
            "John\n",
            "Jane\n"
          ]
        }
      ]
    },
    {
      "cell_type": "markdown",
      "source": [
        "Static Method with Instance Variables:"
      ],
      "metadata": {
        "id": "cy8JpYb5c_kM"
      }
    },
    {
      "cell_type": "code",
      "source": [
        "class Dog:\n",
        "    def __init__(self, name):\n",
        "        self.name = name\n",
        "\n",
        "    def bark(self):\n",
        "        return f\"{self.name} says Woof!\"\n",
        "\n",
        "    @staticmethod\n",
        "    def info():\n",
        "        return \"I am a static method. I don't have access to instance variables.\"\n",
        "\n",
        "# Usage\n",
        "dog1 = Dog(\"Buddy\")\n",
        "print(dog1.bark())  # Output: \"Buddy says Woof!\"\n",
        "print(Dog.info())   # Output: \"I am a static method. I don't have access to instance variables.\"\n"
      ],
      "metadata": {
        "colab": {
          "base_uri": "https://localhost:8080/"
        },
        "id": "GrKWgiHoc9AO",
        "outputId": "8cff81bd-d834-4893-fda5-d72ddf18e97a"
      },
      "execution_count": null,
      "outputs": [
        {
          "output_type": "stream",
          "name": "stdout",
          "text": [
            "Buddy says Woof!\n",
            "I am a static method. I don't have access to instance variables.\n"
          ]
        }
      ]
    },
    {
      "cell_type": "markdown",
      "source": [
        "Static Method with Class Variables:"
      ],
      "metadata": {
        "id": "ddbEbGBrdGxp"
      }
    },
    {
      "cell_type": "code",
      "source": [
        "class Car:\n",
        "    num_cars = 0  # Class variable\n",
        "\n",
        "    def __init__(self, brand):\n",
        "        self.brand = brand\n",
        "        Car.num_cars += 1  # Increment the class variable on each instance creation\n",
        "\n",
        "    def display_brand(self):\n",
        "        return f\"This car is from {self.brand}\"\n",
        "\n",
        "    @staticmethod\n",
        "    def total_cars():\n",
        "        return f\"Total cars created: {Car.num_cars}\"\n",
        "\n",
        "# Usage\n",
        "car1 = Car(\"Toyota\")\n",
        "car2 = Car(\"Honda\")\n",
        "\n",
        "print(car1.display_brand())  # Output: \"This car is from Toyota\"\n",
        "print(car2.display_brand())  # Output: \"This car is from Honda\"\n",
        "\n",
        "print(Car.total_cars())  # Output: \"Total cars created: 2\"\n"
      ],
      "metadata": {
        "colab": {
          "base_uri": "https://localhost:8080/"
        },
        "id": "KqF2A5OKdEk4",
        "outputId": "e25ae4c6-3add-446b-c499-e5c9dc593ff8"
      },
      "execution_count": null,
      "outputs": [
        {
          "output_type": "stream",
          "name": "stdout",
          "text": [
            "This car is from Toyota\n",
            "This car is from Honda\n",
            "Total cars created: 2\n"
          ]
        }
      ]
    },
    {
      "cell_type": "code",
      "source": [
        "class Employee:\n",
        "  companyName = \"Apple\"\n",
        "  noOfEmployees = 0\n",
        "  def __init__(self, name):\n",
        "    self.name = name\n",
        "    self.raise_amount = 0.02\n",
        "    Employee.noOfEmployees +=1\n",
        "  def showDetails(self):\n",
        "    print(f\"The name of the Employee is {self.name} and the raise amount in {self.noOfEmployees} sized {self.companyName} is {self.raise_amount}\")\n",
        "\n",
        "# Employee.showDetails(emp1)\n",
        "emp1 = Employee(\"SIVA\")\n",
        "emp1.raise_amount = 0.3\n",
        "emp1.companyName = \"Apple India\"\n",
        "emp1.showDetails()\n",
        "Employee.companyName = \"Google\"\n",
        "print(Employee.companyName)\n",
        "\n",
        "emp2 = Employee(\"Rohan\")\n",
        "emp2.companyName = \"Nestle\"\n",
        "emp2.showDetails()"
      ],
      "metadata": {
        "colab": {
          "base_uri": "https://localhost:8080/"
        },
        "id": "alWLfhxWc9C_",
        "outputId": "5e34566a-2a12-42e6-e3b1-248fd5fe65ca"
      },
      "execution_count": null,
      "outputs": [
        {
          "output_type": "stream",
          "name": "stdout",
          "text": [
            "The name of the Employee is SIVA and the raise amount in 1 sized Apple India is 0.3\n",
            "Google\n",
            "The name of the Employee is Rohan and the raise amount in 2 sized Nestle is 0.02\n"
          ]
        }
      ]
    },
    {
      "cell_type": "code",
      "source": [],
      "metadata": {
        "id": "8Gp42osOc9Gh"
      },
      "execution_count": null,
      "outputs": []
    }
  ]
}