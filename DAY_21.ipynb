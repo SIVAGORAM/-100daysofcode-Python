{
  "nbformat": 4,
  "nbformat_minor": 0,
  "metadata": {
    "colab": {
      "provenance": [],
      "authorship_tag": "ABX9TyMpcpSZ44DpXqaJcXc/xAms",
      "include_colab_link": true
    },
    "kernelspec": {
      "name": "python3",
      "display_name": "Python 3"
    },
    "language_info": {
      "name": "python"
    }
  },
  "cells": [
    {
      "cell_type": "markdown",
      "metadata": {
        "id": "view-in-github",
        "colab_type": "text"
      },
      "source": [
        "<a href=\"https://colab.research.google.com/github/SIVAGORAM/-100daysofcode-Python/blob/main/DAY_21.ipynb\" target=\"_parent\"><img src=\"https://colab.research.google.com/assets/colab-badge.svg\" alt=\"Open In Colab\"/></a>"
      ]
    },
    {
      "cell_type": "code",
      "execution_count": null,
      "metadata": {
        "colab": {
          "base_uri": "https://localhost:8080/"
        },
        "id": "Z-y__02WYaVa",
        "outputId": "ce6abc3a-a575-4e88-d817-62d981cac637"
      },
      "outputs": [
        {
          "output_type": "stream",
          "name": "stdout",
          "text": [
            "[1, 2, 2, 3, 5, 4, 6]\n",
            "['Red', 'Green', 'Blue']\n"
          ]
        }
      ],
      "source": [
        "lst1 = [1,2,2,3,5,4,6]\n",
        "lst2 = [\"Red\", \"Green\", \"Blue\"]\n",
        "print(lst1)\n",
        "print(lst2)"
      ]
    },
    {
      "cell_type": "code",
      "source": [
        "details = [\"Abhijeet\", 18, \"FYBScIT\", 9.8]\n",
        "print(details)"
      ],
      "metadata": {
        "colab": {
          "base_uri": "https://localhost:8080/"
        },
        "id": "WDDVPr45YdCp",
        "outputId": "d714157e-a0d5-4f7a-ee93-4d405e917e4b"
      },
      "execution_count": null,
      "outputs": [
        {
          "output_type": "stream",
          "name": "stdout",
          "text": [
            "['Abhijeet', 18, 'FYBScIT', 9.8]\n"
          ]
        }
      ]
    },
    {
      "cell_type": "code",
      "source": [
        "#List Index\n",
        "colors = [\"Red\", \"Green\", \"Blue\", \"Yellow\", \"Green\"]\n",
        "#          [0]      [1]     [2]      [3]      [4]"
      ],
      "metadata": {
        "id": "_7XWBrVDYsaY"
      },
      "execution_count": null,
      "outputs": []
    },
    {
      "cell_type": "code",
      "source": [
        "#Positive Indexing:\n",
        "colors = [\"Red\", \"Green\", \"Blue\", \"Yellow\", \"Green\"]\n",
        "#          [0]      [1]     [2]      [3]      [4]\n",
        "print(colors[2])\n",
        "print(colors[4])\n",
        "print(colors[0])"
      ],
      "metadata": {
        "colab": {
          "base_uri": "https://localhost:8080/"
        },
        "id": "KFIXx75fYtj4",
        "outputId": "70e7d005-914c-40e8-b948-33ad0ccb4e25"
      },
      "execution_count": null,
      "outputs": [
        {
          "output_type": "stream",
          "name": "stdout",
          "text": [
            "Blue\n",
            "Green\n",
            "Red\n"
          ]
        }
      ]
    },
    {
      "cell_type": "code",
      "source": [
        "#Negative Indexing:\n",
        "colors = [\"Red\", \"Green\", \"Blue\", \"Yellow\", \"Green\"]\n",
        "#          [-5]    [-4]    [-3]     [-2]      [-1]\n",
        "print(colors[-1])\n",
        "print(colors[-3])\n",
        "print(colors[-5])"
      ],
      "metadata": {
        "colab": {
          "base_uri": "https://localhost:8080/"
        },
        "id": "Xch3XjQ8Y8_4",
        "outputId": "9bd06a74-91cb-459a-8084-42cfcca650f0"
      },
      "execution_count": null,
      "outputs": [
        {
          "output_type": "stream",
          "name": "stdout",
          "text": [
            "Green\n",
            "Blue\n",
            "Red\n"
          ]
        }
      ]
    },
    {
      "cell_type": "code",
      "source": [
        "#Check whether an item in present in the list?\n",
        "colors = [\"Red\", \"Green\", \"Blue\", \"Yellow\", \"Green\"]\n",
        "if \"Yellow\" in colors:\n",
        "    print(\"Yellow is present.\")\n",
        "else:\n",
        "    print(\"Yellow is absent.\")"
      ],
      "metadata": {
        "colab": {
          "base_uri": "https://localhost:8080/"
        },
        "id": "Y7thaXATZB9w",
        "outputId": "5666b7ee-6ecc-4ab9-eac0-5bf8c7c7b20e"
      },
      "execution_count": null,
      "outputs": [
        {
          "output_type": "stream",
          "name": "stdout",
          "text": [
            "Yellow is present.\n"
          ]
        }
      ]
    },
    {
      "cell_type": "code",
      "source": [
        "colors = [\"Red\", \"Green\", \"Blue\", \"Yellow\", \"Green\"]\n",
        "if \"Orange\" in colors:\n",
        "    print(\"Orange is present.\")\n",
        "else:\n",
        "    print(\"Orange is absent.\")"
      ],
      "metadata": {
        "colab": {
          "base_uri": "https://localhost:8080/"
        },
        "id": "ImK1etGgY9Co",
        "outputId": "e7d4ea6b-072f-4d38-a2e3-a5fc2b51521f"
      },
      "execution_count": null,
      "outputs": [
        {
          "output_type": "stream",
          "name": "stdout",
          "text": [
            "Orange is absent.\n"
          ]
        }
      ]
    },
    {
      "cell_type": "code",
      "source": [
        "# Range of Index:\n",
        "# Syntax:\n",
        "\n",
        "# listName[start : end : jumpIndex]\n"
      ],
      "metadata": {
        "id": "n1ITV5N-Y9Fw"
      },
      "execution_count": null,
      "outputs": []
    },
    {
      "cell_type": "code",
      "source": [
        "#Example: printing elements within a particular range:\n",
        "animals = [\"cat\", \"dog\", \"bat\", \"mouse\", \"pig\", \"horse\", \"donkey\", \"goat\", \"cow\"]\n",
        "print(animals[3:7])\t#using positive indexes\n",
        "print(animals[-7:-2])\t#using negative indexes'"
      ],
      "metadata": {
        "colab": {
          "base_uri": "https://localhost:8080/"
        },
        "id": "wgdajgWEZQ-v",
        "outputId": "83de4664-20ae-4b59-8f08-e26c279b376d"
      },
      "execution_count": null,
      "outputs": [
        {
          "output_type": "stream",
          "name": "stdout",
          "text": [
            "['mouse', 'pig', 'horse', 'donkey']\n",
            "['bat', 'mouse', 'pig', 'horse', 'donkey']\n"
          ]
        }
      ]
    },
    {
      "cell_type": "code",
      "source": [
        "#Example: printing all element from a given index till the end\n",
        "animals = [\"cat\", \"dog\", \"bat\", \"mouse\", \"pig\", \"horse\", \"donkey\", \"goat\", \"cow\"]\n",
        "print(animals[4:])\t#using positive indexes\n",
        "print(animals[-4:])\t#using negative indexes"
      ],
      "metadata": {
        "colab": {
          "base_uri": "https://localhost:8080/"
        },
        "id": "tO2OVMqkZWLC",
        "outputId": "4895bacb-6f3e-4b24-c5d3-b16b4e8991c2"
      },
      "execution_count": null,
      "outputs": [
        {
          "output_type": "stream",
          "name": "stdout",
          "text": [
            "['pig', 'horse', 'donkey', 'goat', 'cow']\n",
            "['horse', 'donkey', 'goat', 'cow']\n"
          ]
        }
      ]
    },
    {
      "cell_type": "code",
      "source": [
        "# Example: printing all elements from start to a given index\n",
        "animals = [\"cat\", \"dog\", \"bat\", \"mouse\", \"pig\", \"horse\", \"donkey\", \"goat\", \"cow\"]\n",
        "print(animals[:6])\t#using positive indexes\n",
        "print(animals[:-3])\t#using negative indexes"
      ],
      "metadata": {
        "colab": {
          "base_uri": "https://localhost:8080/"
        },
        "id": "KpiUxSSRZWNz",
        "outputId": "eb983323-f423-4330-b469-61cdbc208ca0"
      },
      "execution_count": null,
      "outputs": [
        {
          "output_type": "stream",
          "name": "stdout",
          "text": [
            "['cat', 'dog', 'bat', 'mouse', 'pig', 'horse']\n",
            "['cat', 'dog', 'bat', 'mouse', 'pig', 'horse']\n"
          ]
        }
      ]
    },
    {
      "cell_type": "code",
      "source": [
        "#Example: Printing alternate values\n",
        "animals = [\"cat\", \"dog\", \"bat\", \"mouse\", \"pig\", \"horse\", \"donkey\", \"goat\", \"cow\"]\n",
        "print(animals[::2])\t\t#using positive indexes\n",
        "print(animals[-8:-1:2])\t#using negative indexes"
      ],
      "metadata": {
        "colab": {
          "base_uri": "https://localhost:8080/"
        },
        "id": "hXIWCcBYZcox",
        "outputId": "783c2d3c-4f16-493a-977d-500e96ae4752"
      },
      "execution_count": null,
      "outputs": [
        {
          "output_type": "stream",
          "name": "stdout",
          "text": [
            "['cat', 'bat', 'pig', 'donkey', 'cow']\n",
            "['dog', 'mouse', 'horse', 'goat']\n"
          ]
        }
      ]
    },
    {
      "cell_type": "code",
      "source": [
        "#Example: printing every 3rd consecutive value withing a given range\n",
        "animals = [\"cat\", \"dog\", \"bat\", \"mouse\", \"pig\", \"horse\", \"donkey\", \"goat\", \"cow\"]\n",
        "print(animals[1:8:3])"
      ],
      "metadata": {
        "colab": {
          "base_uri": "https://localhost:8080/"
        },
        "id": "tjeSi31DZjGU",
        "outputId": "71dc7f57-5744-4bac-f1b5-df03208f1e88"
      },
      "execution_count": null,
      "outputs": [
        {
          "output_type": "stream",
          "name": "stdout",
          "text": [
            "['dog', 'pig', 'goat']\n"
          ]
        }
      ]
    },
    {
      "cell_type": "code",
      "source": [
        "#List Comprehension"
      ],
      "metadata": {
        "id": "DYD5YB_BZmwq"
      },
      "execution_count": null,
      "outputs": []
    },
    {
      "cell_type": "code",
      "source": [
        "#Example 1: Accepts items with the small letter “o” in the new list\n",
        "names = [\"Milo\", \"Sarah\", \"Bruno\", \"Anastasia\", \"Rosa\"]\n",
        "namesWith_O = [item for item in names if \"o\" in item]\n",
        "print(namesWith_O)"
      ],
      "metadata": {
        "colab": {
          "base_uri": "https://localhost:8080/"
        },
        "id": "1ZlS0z9DZ51g",
        "outputId": "e6139642-6a5b-48f1-cdff-90951081cccf"
      },
      "execution_count": null,
      "outputs": [
        {
          "output_type": "stream",
          "name": "stdout",
          "text": [
            "['Milo', 'Bruno', 'Rosa']\n"
          ]
        }
      ]
    },
    {
      "cell_type": "code",
      "source": [
        "#Example 2: Accepts items which have more than 4 letters\n",
        "names = [\"Milo\", \"Sarah\", \"Bruno\", \"Anastasia\", \"Rosa\"]\n",
        "namesWith_O = [item for item in names if (len(item) > 4)]\n",
        "print(namesWith_O)"
      ],
      "metadata": {
        "colab": {
          "base_uri": "https://localhost:8080/"
        },
        "id": "i7rjH7qGZ9b9",
        "outputId": "08f073d1-1d38-4b49-b0d1-b2e5316a24cb"
      },
      "execution_count": null,
      "outputs": [
        {
          "output_type": "stream",
          "name": "stdout",
          "text": [
            "['Sarah', 'Bruno', 'Anastasia']\n"
          ]
        }
      ]
    },
    {
      "cell_type": "code",
      "source": [
        "marks = [3, 5, 6, \"SIVA\", True, 6, 7 , 2, 32, 345, 23]\n",
        "print(marks)\n",
        "print(type(marks))\n",
        "print(marks[0])\n",
        "print(marks[1])\n",
        "print(marks[2])\n",
        "print(marks[3])\n",
        "print(marks[4])\n",
        "print(marks[5])\n",
        "\n",
        "print(marks[-3]) # Negative index\n",
        "print(marks[len(marks)-3]) # Positive index\n",
        "print(marks[5-3]) # Positive index\n",
        "print(marks[2]) # Positive index\n",
        "\n",
        "if \"6\" in marks:\n",
        "  print(\"Yes\")\n",
        "else:\n",
        "  print(\"No\")\n",
        "\n",
        "# Same thing applies for strings as well!\n",
        "if \"SI\" in \"SIVA\":\n",
        "  print(\"Yes\")\n",
        "\n",
        "print(marks[0:7])\n",
        "print(marks[1:9])\n",
        "print(marks[1:9:3])\n",
        "\n",
        "lst = [i*i for i in range(10)]\n",
        "print(lst)\n",
        "lst = [i*i for i in range(10) if i%2==0]\n",
        "print(lst)"
      ],
      "metadata": {
        "colab": {
          "base_uri": "https://localhost:8080/"
        },
        "id": "sLirwZPAaBPY",
        "outputId": "79b57da0-2b2c-49ac-d78f-96db8016bfbc"
      },
      "execution_count": null,
      "outputs": [
        {
          "output_type": "stream",
          "name": "stdout",
          "text": [
            "[3, 5, 6, 'SIVA', True, 6, 7, 2, 32, 345, 23]\n",
            "<class 'list'>\n",
            "3\n",
            "5\n",
            "6\n",
            "SIVA\n",
            "True\n",
            "6\n",
            "32\n",
            "32\n",
            "6\n",
            "6\n",
            "No\n",
            "Yes\n",
            "[3, 5, 6, 'SIVA', True, 6, 7]\n",
            "[5, 6, 'SIVA', True, 6, 7, 2, 32]\n",
            "[5, True, 2]\n",
            "[0, 1, 4, 9, 16, 25, 36, 49, 64, 81]\n",
            "[0, 4, 16, 36, 64]\n"
          ]
        }
      ]
    }
  ]
}