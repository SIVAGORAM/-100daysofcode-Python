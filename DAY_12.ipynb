{
  "nbformat": 4,
  "nbformat_minor": 0,
  "metadata": {
    "colab": {
      "provenance": [],
      "authorship_tag": "ABX9TyPoAZDmb92cgNHDMvh4/J30",
      "include_colab_link": true
    },
    "kernelspec": {
      "name": "python3",
      "display_name": "Python 3"
    },
    "language_info": {
      "name": "python"
    }
  },
  "cells": [
    {
      "cell_type": "markdown",
      "metadata": {
        "id": "view-in-github",
        "colab_type": "text"
      },
      "source": [
        "<a href=\"https://colab.research.google.com/github/SIVAGORAM/-100daysofcode-Python/blob/main/DAY_12.ipynb\" target=\"_parent\"><img src=\"https://colab.research.google.com/assets/colab-badge.svg\" alt=\"Open In Colab\"/></a>"
      ]
    },
    {
      "cell_type": "code",
      "execution_count": null,
      "metadata": {
        "id": "4kbeA4t69MRG"
      },
      "outputs": [],
      "source": [
        "# match variable_name:\n",
        "#             case ‘pattern1’ : //statement1\n",
        "#             case ‘pattern2’ : //statement2\n",
        "#             …\n",
        "#             case ‘pattern n’ : //statement n"
      ]
    },
    {
      "cell_type": "code",
      "source": [
        "x = 4\n",
        "# x is the variable to match\n",
        "match x:\n",
        "    # if x is 0\n",
        "    case 0:\n",
        "        print(\"x is zero\")\n",
        "    # case with if-condition\n",
        "    case 4 if x % 2 == 0:\n",
        "        print(\"x % 2 == 0 and case is 4\")\n",
        "    # Empty case with if-condition\n",
        "    case _ if x < 10:\n",
        "        print(\"x is < 10\")\n",
        "    # default case(will only be matched if the above cases were not matched)\n",
        "    # so it is basically just an else:\n",
        "    case _:\n",
        "        print(x)"
      ],
      "metadata": {
        "colab": {
          "base_uri": "https://localhost:8080/"
        },
        "id": "GDWfCrN89Wup",
        "outputId": "ff1f6036-4122-4b04-8dc1-d60a60598c40"
      },
      "execution_count": null,
      "outputs": [
        {
          "output_type": "stream",
          "name": "stdout",
          "text": [
            "x % 2 == 0 and case is 4\n"
          ]
        }
      ]
    },
    {
      "cell_type": "code",
      "source": [
        "\n",
        "x = int(input(\"Enter the value of x: \"))\n",
        "# x is the variable to match\n",
        "match x:\n",
        "    # if x is 0\n",
        "    case 0:\n",
        "        print(\"x is zero\")\n",
        "    # case with if-condition\n",
        "    case 4:\n",
        "        print(\"case is 4\")\n",
        "\n",
        "    case _ if x!=90:\n",
        "        print(x, \"is not 90\")\n",
        "    case _ if x!=80:\n",
        "        print(x, \"is not 80\")\n",
        "    case _:\n",
        "        print(x)"
      ],
      "metadata": {
        "colab": {
          "base_uri": "https://localhost:8080/"
        },
        "id": "MSEUCzTo9fVz",
        "outputId": "8350cd52-33d8-446a-fa4c-a3bac2519bc3"
      },
      "execution_count": null,
      "outputs": [
        {
          "output_type": "stream",
          "name": "stdout",
          "text": [
            "Enter the value of x: 90\n",
            "90 is not 80\n"
          ]
        }
      ]
    }
  ]
}