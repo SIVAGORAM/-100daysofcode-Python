{
  "nbformat": 4,
  "nbformat_minor": 0,
  "metadata": {
    "colab": {
      "provenance": [],
      "authorship_tag": "ABX9TyO9FcRCElF43DZPuws+2A4m",
      "include_colab_link": true
    },
    "kernelspec": {
      "name": "python3",
      "display_name": "Python 3"
    },
    "language_info": {
      "name": "python"
    }
  },
  "cells": [
    {
      "cell_type": "markdown",
      "metadata": {
        "id": "view-in-github",
        "colab_type": "text"
      },
      "source": [
        "<a href=\"https://colab.research.google.com/github/SIVAGORAM/-100daysofcode-Python/blob/main/DAY_90_92.ipynb\" target=\"_parent\"><img src=\"https://colab.research.google.com/assets/colab-badge.svg\" alt=\"Open In Colab\"/></a>"
      ]
    },
    {
      "cell_type": "markdown",
      "source": [
        "Generators in Python"
      ],
      "metadata": {
        "id": "FxKpb4iGvyVU"
      }
    },
    {
      "cell_type": "code",
      "source": [
        "def my_generator():\n",
        "    for i in range(5):\n",
        "        yield i\n",
        "\n",
        "gen = my_generator()\n",
        "print(next(gen))\n",
        "print(next(gen))\n",
        "print(next(gen))\n",
        "print(next(gen))\n",
        "print(next(gen))\n"
      ],
      "metadata": {
        "colab": {
          "base_uri": "https://localhost:8080/"
        },
        "id": "23dTaLZevzOV",
        "outputId": "e496da00-cefc-488a-f270-667c5bf5b7c8"
      },
      "execution_count": null,
      "outputs": [
        {
          "output_type": "stream",
          "name": "stdout",
          "text": [
            "0\n",
            "1\n",
            "2\n",
            "3\n",
            "4\n"
          ]
        }
      ]
    },
    {
      "cell_type": "code",
      "source": [
        "gen = my_generator()\n",
        "for i in gen:\n",
        "    print(i)\n"
      ],
      "metadata": {
        "colab": {
          "base_uri": "https://localhost:8080/"
        },
        "id": "NjUHXjWdv2kq",
        "outputId": "5e860a88-51df-461e-cd44-6a88a8ab2fd2"
      },
      "execution_count": null,
      "outputs": [
        {
          "output_type": "stream",
          "name": "stdout",
          "text": [
            "0\n",
            "1\n",
            "2\n",
            "3\n",
            "4\n"
          ]
        }
      ]
    },
    {
      "cell_type": "code",
      "source": [
        "def simple_generator():\n",
        "    yield 1\n",
        "    yield 2\n",
        "    yield 3\n",
        "\n",
        "# Usage\n",
        "gen = simple_generator()\n",
        "for value in gen:\n",
        "    print(value)\n"
      ],
      "metadata": {
        "colab": {
          "base_uri": "https://localhost:8080/"
        },
        "id": "4tA3MNShv4U5",
        "outputId": "7cc4e96d-0e35-4c92-b2b2-c20a93b53fe6"
      },
      "execution_count": null,
      "outputs": [
        {
          "output_type": "stream",
          "name": "stdout",
          "text": [
            "1\n",
            "2\n",
            "3\n"
          ]
        }
      ]
    },
    {
      "cell_type": "markdown",
      "source": [
        "Example 2: Generator for Fibonacci Sequence\n",
        "python\n"
      ],
      "metadata": {
        "id": "MV1pAKLewKij"
      }
    },
    {
      "cell_type": "code",
      "source": [
        "def fibonacci(n):\n",
        "    a, b = 0, 1\n",
        "    count = 0\n",
        "    while count < n:\n",
        "        yield a\n",
        "        a, b = b, a + b\n",
        "        count += 1\n",
        "\n",
        "# Usage\n",
        "fib = fibonacci(10)\n",
        "for value in fib:\n",
        "    print(value)\n"
      ],
      "metadata": {
        "colab": {
          "base_uri": "https://localhost:8080/"
        },
        "id": "VGcuC4yhwKEE",
        "outputId": "43b0b11f-3b90-48b5-d6fd-853651d9031f"
      },
      "execution_count": null,
      "outputs": [
        {
          "output_type": "stream",
          "name": "stdout",
          "text": [
            "0\n",
            "1\n",
            "1\n",
            "2\n",
            "3\n",
            "5\n",
            "8\n",
            "13\n",
            "21\n",
            "34\n"
          ]
        }
      ]
    },
    {
      "cell_type": "markdown",
      "source": [
        "Generator Expression"
      ],
      "metadata": {
        "id": "dAatUHo_wOcV"
      }
    },
    {
      "cell_type": "code",
      "source": [
        "# Generator expression for squares of numbers\n",
        "squares = (x * x for x in range(10))\n",
        "\n",
        "# Usage\n",
        "for square in squares:\n",
        "    print(square)\n"
      ],
      "metadata": {
        "colab": {
          "base_uri": "https://localhost:8080/"
        },
        "id": "SoIVMStQwPAA",
        "outputId": "8ea3d1c1-8387-4e0e-fe78-d33d5f9d2549"
      },
      "execution_count": null,
      "outputs": [
        {
          "output_type": "stream",
          "name": "stdout",
          "text": [
            "0\n",
            "1\n",
            "4\n",
            "9\n",
            "16\n",
            "25\n",
            "36\n",
            "49\n",
            "64\n",
            "81\n"
          ]
        }
      ]
    },
    {
      "cell_type": "markdown",
      "source": [
        "Generator with send Method"
      ],
      "metadata": {
        "id": "d6WCqHpZwUyT"
      }
    },
    {
      "cell_type": "code",
      "source": [
        "def generator_with_send():\n",
        "    while True:\n",
        "        value = (yield)\n",
        "        print(f\"Received value: {value}\")\n",
        "\n",
        "# Usage\n",
        "gen = generator_with_send()\n",
        "next(gen)  # Prime the generator\n",
        "gen.send(10)\n",
        "gen.send(20)\n",
        "gen.close()\n"
      ],
      "metadata": {
        "colab": {
          "base_uri": "https://localhost:8080/"
        },
        "id": "UyfN6iSEwUaX",
        "outputId": "54275254-f60e-4a70-d173-4f6df309e39b"
      },
      "execution_count": null,
      "outputs": [
        {
          "output_type": "stream",
          "name": "stdout",
          "text": [
            "Received value: 10\n",
            "Received value: 20\n"
          ]
        }
      ]
    },
    {
      "cell_type": "markdown",
      "source": [
        " Chaining Generators"
      ],
      "metadata": {
        "id": "OZv-yhAowch3"
      }
    },
    {
      "cell_type": "code",
      "source": [
        "def generator1():\n",
        "    for i in range(10):\n",
        "        yield i\n",
        "\n",
        "def generator2(gen):\n",
        "    for value in gen:\n",
        "        yield value * value\n",
        "\n",
        "# Usage\n",
        "gen1 = generator1()\n",
        "gen2 = generator2(gen1)\n",
        "\n",
        "for value in gen2:\n",
        "    print(value)\n"
      ],
      "metadata": {
        "colab": {
          "base_uri": "https://localhost:8080/"
        },
        "id": "S5iJFzd5wcG1",
        "outputId": "2153e37d-74ac-4d14-9634-a29149283276"
      },
      "execution_count": null,
      "outputs": [
        {
          "output_type": "stream",
          "name": "stdout",
          "text": [
            "0\n",
            "1\n",
            "4\n",
            "9\n",
            "16\n",
            "25\n",
            "36\n",
            "49\n",
            "64\n",
            "81\n"
          ]
        }
      ]
    },
    {
      "cell_type": "code",
      "source": [],
      "metadata": {
        "id": "_YP5pBO4wwP6"
      },
      "execution_count": null,
      "outputs": []
    },
    {
      "cell_type": "markdown",
      "source": [
        "Function Caching in Python"
      ],
      "metadata": {
        "id": "nk06JvJZwxVJ"
      }
    },
    {
      "cell_type": "code",
      "source": [
        "import functools\n",
        "\n",
        "@functools.lru_cache(maxsize=None)\n",
        "def fib(n):\n",
        "    if n < 2:\n",
        "        return n\n",
        "    return fib(n-1) + fib(n-2)\n",
        "\n",
        "print(fib(20))\n",
        "# Output: 6765"
      ],
      "metadata": {
        "colab": {
          "base_uri": "https://localhost:8080/"
        },
        "id": "U9jVfwcewwSR",
        "outputId": "1a8b92f3-6f9d-4bd1-f675-fc5bb5bccaf1"
      },
      "execution_count": null,
      "outputs": [
        {
          "output_type": "stream",
          "name": "stdout",
          "text": [
            "6765\n"
          ]
        }
      ]
    },
    {
      "cell_type": "code",
      "source": [
        "from functools import lru_cache\n",
        "import time\n",
        "\n",
        "@lru_cache(maxsize=None)  # Cache all calls\n",
        "def slow_function(n):\n",
        "    time.sleep(2)  # Simulate a time-consuming operation\n",
        "    return n * n\n",
        "\n",
        "# Usage\n",
        "print(slow_function(2))  # This call will take 2 seconds\n",
        "print(slow_function(2))  # This call will be instantaneous due to caching\n"
      ],
      "metadata": {
        "colab": {
          "base_uri": "https://localhost:8080/"
        },
        "id": "N13HBxzcwwUr",
        "outputId": "a553b016-3b07-40aa-d855-43b5eb39ec63"
      },
      "execution_count": null,
      "outputs": [
        {
          "output_type": "stream",
          "name": "stdout",
          "text": [
            "4\n",
            "4\n"
          ]
        }
      ]
    },
    {
      "cell_type": "code",
      "source": [
        "from functools import lru_cache\n",
        "import time\n",
        "\n",
        "@lru_cache(maxsize=3)  # Cache up to 3 unique calls\n",
        "def slow_function(n):\n",
        "    time.sleep(2)  # Simulate a time-consuming operation\n",
        "    return n * n\n",
        "\n",
        "# Usage\n",
        "print(slow_function(1))  # This call will take 2 seconds\n",
        "print(slow_function(2))  # This call will take 2 seconds\n",
        "print(slow_function(3))  # This call will take 2 seconds\n",
        "print(slow_function(1))  # This call will be instantaneous due to caching\n",
        "print(slow_function(4))  # This call will take 2 seconds\n",
        "print(slow_function(2))  # This call will be instantaneous due to caching\n",
        "print(slow_function(3))  # This call will be instantaneous due to caching\n",
        "print(slow_function(1))  # This call will take 2 seconds because (1) was evicted from cache\n"
      ],
      "metadata": {
        "colab": {
          "base_uri": "https://localhost:8080/"
        },
        "id": "lZB-_HUdwwYR",
        "outputId": "f899f67d-e421-4694-ba1f-3ff50a46b9fe"
      },
      "execution_count": null,
      "outputs": [
        {
          "output_type": "stream",
          "name": "stdout",
          "text": [
            "1\n",
            "4\n",
            "9\n",
            "1\n",
            "16\n",
            "4\n",
            "9\n",
            "1\n"
          ]
        }
      ]
    }
  ]
}