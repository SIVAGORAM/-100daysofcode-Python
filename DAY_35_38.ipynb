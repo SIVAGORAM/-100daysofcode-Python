{
  "nbformat": 4,
  "nbformat_minor": 0,
  "metadata": {
    "colab": {
      "provenance": [],
      "authorship_tag": "ABX9TyPhEP/bl2muTsEZnk0NVAE1",
      "include_colab_link": true
    },
    "kernelspec": {
      "name": "python3",
      "display_name": "Python 3"
    },
    "language_info": {
      "name": "python"
    }
  },
  "cells": [
    {
      "cell_type": "markdown",
      "metadata": {
        "id": "view-in-github",
        "colab_type": "text"
      },
      "source": [
        "<a href=\"https://colab.research.google.com/github/SIVAGORAM/-100daysofcode-Python/blob/main/DAY_35_38.ipynb\" target=\"_parent\"><img src=\"https://colab.research.google.com/assets/colab-badge.svg\" alt=\"Open In Colab\"/></a>"
      ]
    },
    {
      "cell_type": "markdown",
      "source": [
        "Python - else in Loop"
      ],
      "metadata": {
        "id": "Ie4gHhOPudvW"
      }
    },
    {
      "cell_type": "code",
      "execution_count": null,
      "metadata": {
        "id": "8utX56bhspWb"
      },
      "outputs": [],
      "source": [
        "#Syntax\n",
        "for counter in sequence:\n",
        "    #Statements inside for loop block\n",
        "else:\n",
        "    #Statements inside else block"
      ]
    },
    {
      "cell_type": "code",
      "source": [
        "#Example:\n",
        "for x in range(5):\n",
        "    print (\"iteration no {} in for loop\".format(x+1))\n",
        "else:\n",
        "    print (\"else block in loop\")\n",
        "print (\"Out of loop\")"
      ],
      "metadata": {
        "colab": {
          "base_uri": "https://localhost:8080/"
        },
        "id": "sT7NeeguukmP",
        "outputId": "b2d495a0-bdf4-4f6f-b418-cf3c4497e470"
      },
      "execution_count": 1,
      "outputs": [
        {
          "output_type": "stream",
          "name": "stdout",
          "text": [
            "iteration no 1 in for loop\n",
            "iteration no 2 in for loop\n",
            "iteration no 3 in for loop\n",
            "iteration no 4 in for loop\n",
            "iteration no 5 in for loop\n",
            "else block in loop\n",
            "Out of loop\n"
          ]
        }
      ]
    },
    {
      "cell_type": "code",
      "source": [
        "i = 0\n",
        "while i<7:\n",
        "  print(i)\n",
        "  i = i + 1\n",
        "  # if i == 4:\n",
        "  #   break\n",
        "\n",
        "else:\n",
        "  print(\"Sorry no i\")\n",
        "\n",
        "for x in range(5):\n",
        "    print (\"iteration no {} in for loop\".format(x+1))\n",
        "else:\n",
        "    print (\"else block in loop\")\n",
        "print (\"Out of loop\")"
      ],
      "metadata": {
        "colab": {
          "base_uri": "https://localhost:8080/"
        },
        "id": "ZjVGQ4oQukpE",
        "outputId": "e76bafd8-fb75-4fac-9568-00b9c5bd0e2c"
      },
      "execution_count": 2,
      "outputs": [
        {
          "output_type": "stream",
          "name": "stdout",
          "text": [
            "0\n",
            "1\n",
            "2\n",
            "3\n",
            "4\n",
            "5\n",
            "6\n",
            "Sorry no i\n",
            "iteration no 1 in for loop\n",
            "iteration no 2 in for loop\n",
            "iteration no 3 in for loop\n",
            "iteration no 4 in for loop\n",
            "iteration no 5 in for loop\n",
            "else block in loop\n",
            "Out of loop\n"
          ]
        }
      ]
    },
    {
      "cell_type": "code",
      "source": [],
      "metadata": {
        "id": "WRw5PNjDukrS"
      },
      "execution_count": null,
      "outputs": []
    },
    {
      "cell_type": "markdown",
      "source": [
        "**Exception Handling**"
      ],
      "metadata": {
        "id": "sF_3gQ4UvVhh"
      }
    },
    {
      "cell_type": "code",
      "source": [
        "# Syntax:\n",
        "try:\n",
        "     #statements which could generate\n",
        "     #exception\n",
        "except:\n",
        "     #Soloution of generated exception"
      ],
      "metadata": {
        "id": "a-3PNXCDukuy"
      },
      "execution_count": null,
      "outputs": []
    },
    {
      "cell_type": "code",
      "source": [
        "# Example:\n",
        "try:\n",
        "    num = int(input(\"Enter an integer: \"))\n",
        "except ValueError:\n",
        "    print(\"Number entered is not an integer.\")"
      ],
      "metadata": {
        "colab": {
          "base_uri": "https://localhost:8080/"
        },
        "id": "kLE2ILSzvh85",
        "outputId": "f024c485-fab5-475e-f7f9-2b3c27dcb883"
      },
      "execution_count": 4,
      "outputs": [
        {
          "output_type": "stream",
          "name": "stdout",
          "text": [
            "Enter an integer: ew\n",
            "Number entered is not an integer.\n"
          ]
        }
      ]
    },
    {
      "cell_type": "code",
      "source": [
        "a = input(\"Enter the number: \")\n",
        "print(f\"Multiplication table of {a} is: \")\n",
        "try:\n",
        "  for i in range(1, 11):\n",
        "    print(f\"{int(a)} X {i} = {int(a)*i}\")\n",
        "except:\n",
        "  print(\"Invalid  Input!\")\n",
        "\n",
        "print(\"Some imp lines of code\")\n",
        "print(\"End of program\")\n",
        "\n"
      ],
      "metadata": {
        "colab": {
          "base_uri": "https://localhost:8080/"
        },
        "id": "JnHYSGMpvtFK",
        "outputId": "9334da6b-22b5-43df-802b-900d3ee1941a"
      },
      "execution_count": 6,
      "outputs": [
        {
          "output_type": "stream",
          "name": "stdout",
          "text": [
            "Enter the number: 10\n",
            "Multiplication table of 10 is: \n",
            "10 X 1 = 10\n",
            "10 X 2 = 20\n",
            "10 X 3 = 30\n",
            "10 X 4 = 40\n",
            "10 X 5 = 50\n",
            "10 X 6 = 60\n",
            "10 X 7 = 70\n",
            "10 X 8 = 80\n",
            "10 X 9 = 90\n",
            "10 X 10 = 100\n",
            "Some imp lines of code\n",
            "End of program\n"
          ]
        }
      ]
    },
    {
      "cell_type": "code",
      "source": [
        "try:\n",
        "    num = int(input(\"Enter an integer: \"))\n",
        "    a = [6, 3]\n",
        "    print(a[num])\n",
        "except ValueError:\n",
        "    print(\"Number entered is not an integer.\")\n",
        "\n",
        "except IndexError:\n",
        "  print(\"Index Error\")"
      ],
      "metadata": {
        "colab": {
          "base_uri": "https://localhost:8080/"
        },
        "id": "VDxwos9pvwXU",
        "outputId": "5798e790-31ad-44b5-8036-e06730fb32a3"
      },
      "execution_count": 10,
      "outputs": [
        {
          "output_type": "stream",
          "name": "stdout",
          "text": [
            "Enter an integer: 2\n",
            "Index Error\n"
          ]
        }
      ]
    },
    {
      "cell_type": "code",
      "source": [
        "# Basic Examples:\n",
        "# 1. Division by zero error handling:\n",
        "\n",
        "try:\n",
        "    num1 = int(input(\"Enter numerator: \"))\n",
        "    num2 = int(input(\"Enter denominator: \"))\n",
        "    result = num1 / num2\n",
        "    print(\"Result:\", result)\n",
        "except ZeroDivisionError:\n",
        "    print(\"Error: Division by zero\")\n"
      ],
      "metadata": {
        "colab": {
          "base_uri": "https://localhost:8080/"
        },
        "id": "ltWv_ZfSxIVW",
        "outputId": "eaab23d7-a205-470c-a387-dd00a105bc18"
      },
      "execution_count": 12,
      "outputs": [
        {
          "output_type": "stream",
          "name": "stdout",
          "text": [
            "Enter numerator: 1\n",
            "Enter denominator: 2\n",
            "Result: 0.5\n"
          ]
        }
      ]
    },
    {
      "cell_type": "code",
      "source": [
        "#  Handling invalid input:\n",
        "\n",
        "try:\n",
        "    with open('example.txt', 'r') as file:\n",
        "        data = file.read()\n",
        "        print(\"Data from file:\", data)\n",
        "except FileNotFoundError:\n",
        "    print(\"Error: File not found!\")\n",
        "except IOError:\n",
        "    print(\"Error: Unable to read the file.\")\n",
        "else:\n",
        "    print(\"File read successfully.\")\n"
      ],
      "metadata": {
        "colab": {
          "base_uri": "https://localhost:8080/"
        },
        "id": "GG6nBQPSxIX8",
        "outputId": "e5b8cecf-9e4d-43b0-b13e-ad0ec669bb40"
      },
      "execution_count": 13,
      "outputs": [
        {
          "output_type": "stream",
          "name": "stdout",
          "text": [
            "Error: File not found!\n"
          ]
        }
      ]
    },
    {
      "cell_type": "code",
      "source": [
        "# Handling IndexError:\n",
        "\n",
        "try:\n",
        "    my_list = [1, 2, 3]\n",
        "    print(my_list[3])\n",
        "except IndexError:\n",
        "    print(\"Index out of range!\")\n"
      ],
      "metadata": {
        "colab": {
          "base_uri": "https://localhost:8080/"
        },
        "id": "YWk_CjAlxIaT",
        "outputId": "83271a9f-7b1f-4758-a4ac-439c45afe5f9"
      },
      "execution_count": 14,
      "outputs": [
        {
          "output_type": "stream",
          "name": "stdout",
          "text": [
            "Index out of range!\n"
          ]
        }
      ]
    },
    {
      "cell_type": "code",
      "source": [
        "# Handling KeyError:\n",
        "\n",
        "try:\n",
        "    my_dict = {'a': 1, 'b': 2}\n",
        "    print(my_dict['c'])\n",
        "except KeyError:\n",
        "    print(\"Key not found in dictionary!\")\n"
      ],
      "metadata": {
        "colab": {
          "base_uri": "https://localhost:8080/"
        },
        "id": "jol90fKixIcd",
        "outputId": "d750f994-922b-46e0-8679-39461c80ea1c"
      },
      "execution_count": 15,
      "outputs": [
        {
          "output_type": "stream",
          "name": "stdout",
          "text": [
            "Key not found in dictionary!\n"
          ]
        }
      ]
    },
    {
      "cell_type": "code",
      "source": [
        "# Handling File Open Error:\n",
        "\n",
        "try:\n",
        "    with open(\"nonexistent_file.txt\", \"r\") as file:\n",
        "        data = file.read()\n",
        "    print(data)\n",
        "except FileNotFoundError:\n",
        "    print(\"File not found!\")\n"
      ],
      "metadata": {
        "colab": {
          "base_uri": "https://localhost:8080/"
        },
        "id": "8tnPLPo_xIgF",
        "outputId": "29498a94-85f6-4ecf-d709-2bda79240fbe"
      },
      "execution_count": 16,
      "outputs": [
        {
          "output_type": "stream",
          "name": "stdout",
          "text": [
            "File not found!\n"
          ]
        }
      ]
    },
    {
      "cell_type": "code",
      "source": [
        "# Reading from a file and handling file not found error:\n",
        "\n",
        "try:\n",
        "    with open('example.txt', 'r') as file:\n",
        "        data = file.read()\n",
        "        print(\"Data from file:\", data)\n",
        "except FileNotFoundError:\n",
        "    print(\"Error: File not found!\")\n",
        "except IOError:\n",
        "    print(\"Error: Unable to read the file.\")\n",
        "else:\n",
        "    print(\"File read successfully.\")\n"
      ],
      "metadata": {
        "colab": {
          "base_uri": "https://localhost:8080/"
        },
        "id": "TlNi13LFxy3v",
        "outputId": "e93e508a-30f9-47c9-fae7-dc14c23c63ba"
      },
      "execution_count": 24,
      "outputs": [
        {
          "output_type": "stream",
          "name": "stdout",
          "text": [
            "Error: File not found!\n"
          ]
        }
      ]
    },
    {
      "cell_type": "code",
      "source": [
        "# Handling multiple exceptions:\n",
        "\n",
        "try:\n",
        "    x = int(input(\"Enter a number: \"))\n",
        "    y = 10 / x\n",
        "    print(\"Result:\", y)\n",
        "except ValueError:\n",
        "    print(\"Invalid input! Please enter a valid number.\")\n",
        "except ZeroDivisionError:\n",
        "    print(\"Cannot divide by zero!\")\n",
        "except Exception as e:\n",
        "    print(\"An error occurred:\", e)\n"
      ],
      "metadata": {
        "colab": {
          "base_uri": "https://localhost:8080/"
        },
        "id": "NNtdFdFnxy56",
        "outputId": "d8b8fc27-bba0-4b14-cc5b-be9f913eaf82"
      },
      "execution_count": 25,
      "outputs": [
        {
          "output_type": "stream",
          "name": "stdout",
          "text": [
            "Enter a number: 10\n",
            "Result: 1.0\n"
          ]
        }
      ]
    },
    {
      "cell_type": "code",
      "source": [
        "# Custom exception handling:\n",
        "\n",
        "class MyCustomError(Exception):\n",
        "    def __init__(self, value):\n",
        "        self.value = value\n",
        "\n",
        "    def __str__(self):\n",
        "        return repr(self.value)\n",
        "\n",
        "try:\n",
        "    raise MyCustomError(\"This is a custom error message.\")\n",
        "except MyCustomError as e:\n",
        "    print(\"Custom error caught:\", e.value)\n"
      ],
      "metadata": {
        "colab": {
          "base_uri": "https://localhost:8080/"
        },
        "id": "6eSsuDxWxy9i",
        "outputId": "a575f8e2-8092-4119-e803-a4ae5563af4d"
      },
      "execution_count": 26,
      "outputs": [
        {
          "output_type": "stream",
          "name": "stdout",
          "text": [
            "Custom error caught: This is a custom error message.\n"
          ]
        }
      ]
    },
    {
      "cell_type": "code",
      "source": [
        "# Handling Assertion Error:\n",
        "\n",
        "try:\n",
        "    x = 10\n",
        "    assert x < 5, \"Assertion Error: x is not less than 5\"\n",
        "except AssertionError as e:\n",
        "    print(e)\n"
      ],
      "metadata": {
        "colab": {
          "base_uri": "https://localhost:8080/"
        },
        "id": "MccQWGEpyj9e",
        "outputId": "df31069b-f296-4ffa-8bcb-145f6187bbf1"
      },
      "execution_count": 27,
      "outputs": [
        {
          "output_type": "stream",
          "name": "stdout",
          "text": [
            "Assertion Error: x is not less than 5\n"
          ]
        }
      ]
    },
    {
      "cell_type": "code",
      "source": [
        "# Handling Multiple Exceptions with One Except Block:\n",
        "\n",
        "try:\n",
        "    x = 10\n",
        "    y = 0\n",
        "    result = x / y\n",
        "    print(result)\n",
        "except (ZeroDivisionError, TypeError) as e:\n",
        "    print(\"An error occurred:\", e)\n"
      ],
      "metadata": {
        "colab": {
          "base_uri": "https://localhost:8080/"
        },
        "id": "EuUfeDfMykAs",
        "outputId": "14622018-0a3a-4a65-d581-39517cecd8d2"
      },
      "execution_count": 28,
      "outputs": [
        {
          "output_type": "stream",
          "name": "stdout",
          "text": [
            "An error occurred: division by zero\n"
          ]
        }
      ]
    },
    {
      "cell_type": "code",
      "source": [
        "# Handling Unknown Errors:\n",
        "\n",
        "try:\n",
        "    result = 10 / 0\n",
        "    print(result)\n",
        "except Exception as e:\n",
        "    print(\"An unknown error occurred:\", e)\n"
      ],
      "metadata": {
        "colab": {
          "base_uri": "https://localhost:8080/"
        },
        "id": "WW8ZtpadzE44",
        "outputId": "861ed51f-db94-480c-a403-fd19ad7d1efb"
      },
      "execution_count": 29,
      "outputs": [
        {
          "output_type": "stream",
          "name": "stdout",
          "text": [
            "An unknown error occurred: division by zero\n"
          ]
        }
      ]
    },
    {
      "cell_type": "markdown",
      "source": [
        "**Finally Clause**"
      ],
      "metadata": {
        "id": "pw4Yg14z0nmA"
      }
    },
    {
      "cell_type": "code",
      "source": [
        "# Syntax:\n",
        "try:\n",
        "   #statements which could generate\n",
        "   #exception\n",
        "except:\n",
        "   #solution of generated exception\n",
        "finally:\n",
        "    #block of code which is going to\n",
        "    #execute in any situation"
      ],
      "metadata": {
        "id": "BQuzNSmq0mvp"
      },
      "execution_count": null,
      "outputs": []
    },
    {
      "cell_type": "code",
      "source": [
        "#Example:\n",
        "try:\n",
        "    num = int(input(\"Enter an integer: \"))\n",
        "except ValueError:\n",
        "    print(\"Number entered is not an integer.\")\n",
        "else:\n",
        "    print(\"Integer Accepted.\")\n",
        "finally:\n",
        "    print(\"This block is always executed.\")"
      ],
      "metadata": {
        "colab": {
          "base_uri": "https://localhost:8080/"
        },
        "id": "kev28MRN0xPz",
        "outputId": "5d471a25-d5d2-491d-d18a-51c7a34d012c"
      },
      "execution_count": 31,
      "outputs": [
        {
          "output_type": "stream",
          "name": "stdout",
          "text": [
            "Enter an integer: 3.12\n",
            "Number entered is not an integer.\n",
            "This block is always executed.\n"
          ]
        }
      ]
    },
    {
      "cell_type": "code",
      "source": [
        "def func1():\n",
        "  try:\n",
        "    l = [1, 5, 6, 7]\n",
        "    i = int(input(\"Enter the index: \"))\n",
        "    print(l[i])\n",
        "    return 1\n",
        "  except:\n",
        "    print(\"Some error occurred\")\n",
        "    return 0\n",
        "\n",
        "  finally:\n",
        "    print(\"I am always executed\")\n",
        "\n",
        "\n",
        "x = func1()\n",
        "print(x)"
      ],
      "metadata": {
        "colab": {
          "base_uri": "https://localhost:8080/"
        },
        "id": "p-SlDAwj0xTX",
        "outputId": "a0cc62fc-f8b2-41bf-f06f-95de7ec1db43"
      },
      "execution_count": 33,
      "outputs": [
        {
          "output_type": "stream",
          "name": "stdout",
          "text": [
            "Enter the index: 2\n",
            "6\n",
            "I am always executed\n",
            "1\n"
          ]
        }
      ]
    },
    {
      "cell_type": "code",
      "source": [
        "try:\n",
        "    x = int(input(\"Enter a number: \"))\n",
        "    y = 10 / x\n",
        "    print(\"Result:\", y)\n",
        "except ValueError:\n",
        "    print(\"Invalid input! Please enter a valid number.\")\n",
        "except ZeroDivisionError:\n",
        "    print(\"Cannot divide by zero!\")\n",
        "else:\n",
        "    print(\"No exception occurred.\")\n",
        "finally:\n",
        "    print(\"This is always executed.\")\n"
      ],
      "metadata": {
        "colab": {
          "base_uri": "https://localhost:8080/"
        },
        "id": "cIbewgEA1EGn",
        "outputId": "fd14c150-d72c-499b-c1e3-648fb2156c9a"
      },
      "execution_count": 34,
      "outputs": [
        {
          "output_type": "stream",
          "name": "stdout",
          "text": [
            "Enter a number: 10\n",
            "Result: 1.0\n",
            "No exception occurred.\n",
            "This is always executed.\n"
          ]
        }
      ]
    },
    {
      "cell_type": "code",
      "source": [
        "# Division with Exception Handling:\n",
        "try:\n",
        "    numerator = int(input(\"Enter numerator: \"))\n",
        "    denominator = int(input(\"Enter denominator: \"))\n",
        "    result = numerator / denominator\n",
        "    print(\"Result:\", result)\n",
        "except ValueError:\n",
        "    print(\"Please enter valid integers.\")\n",
        "except ZeroDivisionError:\n",
        "    print(\"Cannot divide by zero.\")\n",
        "finally:\n",
        "    pr1int(\"Execution completed.\")\n"
      ],
      "metadata": {
        "colab": {
          "base_uri": "https://localhost:8080/"
        },
        "id": "aD7PJebH1du8",
        "outputId": "1bbc8001-065c-420a-df71-bf26cdc64b90"
      },
      "execution_count": 36,
      "outputs": [
        {
          "output_type": "stream",
          "name": "stdout",
          "text": [
            "Enter numerator: 100\n",
            "Enter denominator: 10\n",
            "Result: 10.0\n",
            "Execution completed.\n"
          ]
        }
      ]
    },
    {
      "cell_type": "code",
      "source": [
        "#File Handling with Exception Handling:\n",
        "\n",
        "try:\n",
        "    file_name = input(\"Enter file name: \")\n",
        "    with open(file_name, 'r') as file:\n",
        "        content = file.read()\n",
        "    print(\"File content:\")\n",
        "    print(content)\n",
        "except FileNotFoundError:\n",
        "    print(f\"File '{file_name}' not found.\")\n",
        "except IOError:\n",
        "    print(\"Error reading file.\")\n",
        "finally:\n",
        "    print(\"File handling completed.\")\n",
        "\n"
      ],
      "metadata": {
        "colab": {
          "base_uri": "https://localhost:8080/"
        },
        "id": "hi7vpmae1dxj",
        "outputId": "488ba829-2943-496f-b53b-f36cf7aefeb6"
      },
      "execution_count": 37,
      "outputs": [
        {
          "output_type": "stream",
          "name": "stdout",
          "text": [
            "Enter file name: SIVA.pdf\n",
            "File 'SIVA.pdf' not found.\n",
            "File handling completed.\n"
          ]
        }
      ]
    },
    {
      "cell_type": "code",
      "source": [
        "#Input Validation with Exception Handling:\n",
        "\n",
        "try:\n",
        "    age = int(input(\"Enter your age: \"))\n",
        "    if age < 0:\n",
        "        raise ValueError(\"Age cannot be negative.\")\n",
        "    print(\"Your age is:\", age)\n",
        "except ValueError as ve:\n",
        "    print(\"Error:\", ve)\n",
        "finally:\n",
        "    print(\"Input validation completed.\")\n"
      ],
      "metadata": {
        "colab": {
          "base_uri": "https://localhost:8080/"
        },
        "id": "O3PcxIFA1dzw",
        "outputId": "1d401dfa-0c8b-4275-bde1-97d8ad08a893"
      },
      "execution_count": 38,
      "outputs": [
        {
          "output_type": "stream",
          "name": "stdout",
          "text": [
            "Enter your age: 20\n",
            "Your age is: 20\n",
            "Input validation completed.\n"
          ]
        }
      ]
    },
    {
      "cell_type": "code",
      "source": [
        "#Safe Division:\n",
        "\n",
        "def safe_divide(a, b):\n",
        "    try:\n",
        "        result = a / b\n",
        "        print(\"Result:\", result)\n",
        "    except ZeroDivisionError:\n",
        "        print(\"Cannot divide by zero!\")\n",
        "    finally:\n",
        "        print(\"Division operation completed.\")\n",
        "\n",
        "# Example usage\n",
        "safe_divide(10, 2)\n",
        "safe_divide(5, 0)\n"
      ],
      "metadata": {
        "colab": {
          "base_uri": "https://localhost:8080/"
        },
        "id": "aKeQfNsM1d3G",
        "outputId": "643712bb-3f75-4bbf-e7de-3056f8b29eb4"
      },
      "execution_count": 39,
      "outputs": [
        {
          "output_type": "stream",
          "name": "stdout",
          "text": [
            "Result: 5.0\n",
            "Division operation completed.\n",
            "Cannot divide by zero!\n",
            "Division operation completed.\n"
          ]
        }
      ]
    },
    {
      "cell_type": "code",
      "source": [
        "# File Reading:\n",
        "\n",
        "def read_file(file_name):\n",
        "    try:\n",
        "        with open(file_name, 'r') as file:\n",
        "            content = file.read()\n",
        "            print(\"File content:\", content)\n",
        "    except FileNotFoundError:\n",
        "        print(\"File not found!\")\n",
        "    finally:\n",
        "        print(\"File reading completed.\")\n",
        "\n",
        "# Example usage\n",
        "read_file(\"example.txt\")\n"
      ],
      "metadata": {
        "colab": {
          "base_uri": "https://localhost:8080/"
        },
        "id": "k7xe6QhG2NlA",
        "outputId": "a0823970-c356-439f-beda-ccd2be96e373"
      },
      "execution_count": 40,
      "outputs": [
        {
          "output_type": "stream",
          "name": "stdout",
          "text": [
            "File not found!\n",
            "File reading completed.\n"
          ]
        }
      ]
    },
    {
      "cell_type": "code",
      "source": [
        "#Integer Input:\n",
        "\n",
        "def get_integer_input(prompt):\n",
        "    try:\n",
        "        value = int(input(prompt))\n",
        "        print(\"You entered:\", value)\n",
        "    except ValueError:\n",
        "        print(\"Invalid input! Please enter an integer.\")\n",
        "    finally:\n",
        "        print(\"Input operation completed.\")\n",
        "\n",
        "# Example usage\n",
        "get_integer_input(\"Enter a number: \")\n"
      ],
      "metadata": {
        "colab": {
          "base_uri": "https://localhost:8080/"
        },
        "id": "8PMoepyL2NnJ",
        "outputId": "000c4679-a87f-4f8e-e5bf-ed23a95bc38e"
      },
      "execution_count": 41,
      "outputs": [
        {
          "output_type": "stream",
          "name": "stdout",
          "text": [
            "Enter a number: 20\n",
            "You entered: 20\n",
            "Input operation completed.\n"
          ]
        }
      ]
    },
    {
      "cell_type": "markdown",
      "source": [
        "**Raising Custom errors**"
      ],
      "metadata": {
        "id": "QB5zgoSi3VPt"
      }
    },
    {
      "cell_type": "code",
      "source": [
        "salary = int(input(\"Enter salary amount: \"))\n",
        "if not 2000 < salary < 5000:\n",
        "    raise ValueError(\"Not a valid salary\")"
      ],
      "metadata": {
        "id": "I5ewIN-i2Nqm"
      },
      "execution_count": null,
      "outputs": []
    },
    {
      "cell_type": "code",
      "source": [
        "class CustomError(Exception):\n",
        "  # code ...\n",
        "  pass\n",
        "\n",
        "try:\n",
        "  # code ...\n",
        "\n",
        "except CustomError:\n",
        "  # code..."
      ],
      "metadata": {
        "id": "9ORGwYvs3rVb"
      },
      "execution_count": null,
      "outputs": []
    }
  ]
}