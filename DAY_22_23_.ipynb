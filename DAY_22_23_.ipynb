{
  "nbformat": 4,
  "nbformat_minor": 0,
  "metadata": {
    "colab": {
      "provenance": [],
      "authorship_tag": "ABX9TyN3y4j02dfF+yvgn5qYf7eq",
      "include_colab_link": true
    },
    "kernelspec": {
      "name": "python3",
      "display_name": "Python 3"
    },
    "language_info": {
      "name": "python"
    }
  },
  "cells": [
    {
      "cell_type": "markdown",
      "metadata": {
        "id": "view-in-github",
        "colab_type": "text"
      },
      "source": [
        "<a href=\"https://colab.research.google.com/github/SIVAGORAM/-100daysofcode-Python/blob/main/DAY_22_23_.ipynb\" target=\"_parent\"><img src=\"https://colab.research.google.com/assets/colab-badge.svg\" alt=\"Open In Colab\"/></a>"
      ]
    },
    {
      "cell_type": "code",
      "execution_count": 1,
      "metadata": {
        "colab": {
          "base_uri": "https://localhost:8080/"
        },
        "id": "mTJLlwczgYct",
        "outputId": "3e5a1367-d6c6-4cd1-b1a5-d4926947be86"
      },
      "outputs": [
        {
          "output_type": "stream",
          "name": "stdout",
          "text": [
            "['blue', 'green', 'indigo', 'voilet']\n",
            "[1, 1, 2, 2, 2, 3, 4, 5, 6, 7, 8, 9]\n"
          ]
        }
      ],
      "source": [
        "#list.sort() Example 1:\n",
        "colors = [\"voilet\", \"indigo\", \"blue\", \"green\"]\n",
        "colors.sort()\n",
        "print(colors)\n",
        "\n",
        "num = [4,2,5,3,6,1,2,1,2,8,9,7]\n",
        "num.sort()\n",
        "print(num)"
      ]
    },
    {
      "cell_type": "code",
      "source": [
        "colors = [\"voilet\", \"indigo\", \"blue\", \"green\"]\n",
        "colors.sort(reverse=True)\n",
        "print(colors)\n",
        "\n",
        "num = [4,2,5,3,6,1,2,1,2,8,9,7]\n",
        "num.sort(reverse=True)\n",
        "print(num)"
      ],
      "metadata": {
        "colab": {
          "base_uri": "https://localhost:8080/"
        },
        "id": "zzRhpU9fgnbV",
        "outputId": "900ca461-6806-4a98-c117-493466a245cd"
      },
      "execution_count": 2,
      "outputs": [
        {
          "output_type": "stream",
          "name": "stdout",
          "text": [
            "['voilet', 'indigo', 'green', 'blue']\n",
            "[9, 8, 7, 6, 5, 4, 3, 2, 2, 2, 1, 1]\n"
          ]
        }
      ]
    },
    {
      "cell_type": "code",
      "source": [
        "#reverse()\n",
        "colors = [\"voilet\", \"indigo\", \"blue\", \"green\"]\n",
        "colors.reverse()\n",
        "print(colors)\n",
        "\n",
        "num = [4,2,5,3,6,1,2,1,2,8,9,7]\n",
        "num.reverse()\n",
        "print(num)"
      ],
      "metadata": {
        "colab": {
          "base_uri": "https://localhost:8080/"
        },
        "id": "i0pIJO5Qgpp4",
        "outputId": "df2cd277-f869-4efe-a18c-b3bae4cbb938"
      },
      "execution_count": 3,
      "outputs": [
        {
          "output_type": "stream",
          "name": "stdout",
          "text": [
            "['green', 'blue', 'indigo', 'voilet']\n",
            "[7, 9, 8, 2, 1, 2, 1, 6, 3, 5, 2, 4]\n"
          ]
        }
      ]
    },
    {
      "cell_type": "code",
      "source": [
        "#index()\n",
        "colors = [\"voilet\", \"green\", \"indigo\", \"blue\", \"green\"]\n",
        "print(colors.index(\"green\"))\n",
        "\n",
        "num = [4,2,5,3,6,1,2,1,3,2,8,9,7]\n",
        "print(num.index(3))"
      ],
      "metadata": {
        "colab": {
          "base_uri": "https://localhost:8080/"
        },
        "id": "E7S9EalAguUQ",
        "outputId": "e9c58eaf-fa7c-45b7-fc27-6e2197bafca6"
      },
      "execution_count": 4,
      "outputs": [
        {
          "output_type": "stream",
          "name": "stdout",
          "text": [
            "1\n",
            "3\n"
          ]
        }
      ]
    },
    {
      "cell_type": "code",
      "source": [
        "#count()\n",
        "colors = [\"voilet\", \"green\", \"indigo\", \"blue\", \"green\"]\n",
        "print(colors.count(\"green\"))\n",
        "\n",
        "num = [4,2,5,3,6,1,2,1,3,2,8,9,7]\n"
      ],
      "metadata": {
        "colab": {
          "base_uri": "https://localhost:8080/"
        },
        "id": "sXMhWy0tgymN",
        "outputId": "446e159c-9a14-48de-c838-3e4fdd1f8316"
      },
      "execution_count": 5,
      "outputs": [
        {
          "output_type": "stream",
          "name": "stdout",
          "text": [
            "2\n"
          ]
        }
      ]
    },
    {
      "cell_type": "code",
      "source": [
        "#copy()\n",
        "colors = [\"voilet\", \"green\", \"indigo\", \"blue\"]\n",
        "newlist = colors.copy()\n",
        "print(colors)\n",
        "print(newlist)"
      ],
      "metadata": {
        "colab": {
          "base_uri": "https://localhost:8080/"
        },
        "id": "QR-Ws9wag6cm",
        "outputId": "06fe5694-852e-48f7-98b4-1e77e3c6d389"
      },
      "execution_count": 6,
      "outputs": [
        {
          "output_type": "stream",
          "name": "stdout",
          "text": [
            "['voilet', 'green', 'indigo', 'blue']\n",
            "['voilet', 'green', 'indigo', 'blue']\n"
          ]
        }
      ]
    },
    {
      "cell_type": "code",
      "source": [
        "#append():\n",
        "colors = [\"voilet\", \"indigo\", \"blue\"]\n",
        "colors.append(\"green\")\n",
        "print(colors)"
      ],
      "metadata": {
        "colab": {
          "base_uri": "https://localhost:8080/"
        },
        "id": "bc-8gCUDg-Sb",
        "outputId": "e121f95a-d708-4ec1-b318-37872fe0be45"
      },
      "execution_count": 7,
      "outputs": [
        {
          "output_type": "stream",
          "name": "stdout",
          "text": [
            "['voilet', 'indigo', 'blue', 'green']\n"
          ]
        }
      ]
    },
    {
      "cell_type": "code",
      "source": [
        "#insert():\n",
        "colors = [\"voilet\", \"indigo\", \"blue\"]\n",
        "#           [0]        [1]      [2]\n",
        "\n",
        "colors.insert(1, \"green\")   #inserts item at index 1\n",
        "# updated list: colors = [\"voilet\", \"green\", \"indigo\", \"blue\"]\n",
        "#       indexs              [0]       [1]       [2]      [3]\n",
        "\n",
        "print(colors)"
      ],
      "metadata": {
        "colab": {
          "base_uri": "https://localhost:8080/"
        },
        "id": "XNR7ocROhCJn",
        "outputId": "3fec8627-3bf5-4755-f3ae-997fdcc61564"
      },
      "execution_count": 8,
      "outputs": [
        {
          "output_type": "stream",
          "name": "stdout",
          "text": [
            "['voilet', 'green', 'indigo', 'blue']\n"
          ]
        }
      ]
    },
    {
      "cell_type": "code",
      "source": [
        "#extend():\n",
        "#add a list to a list\n",
        "colors = [\"voilet\", \"indigo\", \"blue\"]\n",
        "rainbow = [\"green\", \"yellow\", \"orange\", \"red\"]\n",
        "colors.extend(rainbow)\n",
        "print(colors)"
      ],
      "metadata": {
        "colab": {
          "base_uri": "https://localhost:8080/"
        },
        "id": "59aaxoe_hIYy",
        "outputId": "9a57afe4-03b0-49c6-b6ab-3c7e647f9233"
      },
      "execution_count": 9,
      "outputs": [
        {
          "output_type": "stream",
          "name": "stdout",
          "text": [
            "['voilet', 'indigo', 'blue', 'green', 'yellow', 'orange', 'red']\n"
          ]
        }
      ]
    },
    {
      "cell_type": "code",
      "source": [
        "#Concatenating two lists:\n",
        "colors = [\"voilet\", \"indigo\", \"blue\", \"green\"]\n",
        "colors2 = [\"yellow\", \"orange\", \"red\"]\n",
        "print(colors + colors2)"
      ],
      "metadata": {
        "colab": {
          "base_uri": "https://localhost:8080/"
        },
        "id": "9WkxG7YjhPnE",
        "outputId": "34963f7e-c070-40f3-a16d-63ae41814c20"
      },
      "execution_count": 10,
      "outputs": [
        {
          "output_type": "stream",
          "name": "stdout",
          "text": [
            "['voilet', 'indigo', 'blue', 'green', 'yellow', 'orange', 'red']\n"
          ]
        }
      ]
    },
    {
      "cell_type": "code",
      "source": [
        "l = [11, 45, 1, 2, 4, 6, 1, 1]\n",
        "print(l)\n",
        "l.append(7)\n",
        "l.sort(reverse=True)\n",
        "l.reverse()\n",
        "print(l.index(1))\n",
        "print(l.count(1))\n",
        "m = l.copy()\n",
        "m[0] = 0\n",
        "l.insert(1, 899)\n",
        "m = [900, 1000, 1100]\n",
        "k = l + m\n",
        "print(k)\n",
        "l.extend(m)\n",
        "print(l)"
      ],
      "metadata": {
        "colab": {
          "base_uri": "https://localhost:8080/"
        },
        "id": "ieRAqh03hXv7",
        "outputId": "92cb6457-2ad5-404a-9aeb-af07982b9b2e"
      },
      "execution_count": 13,
      "outputs": [
        {
          "output_type": "stream",
          "name": "stdout",
          "text": [
            "[11, 45, 1, 2, 4, 6, 1, 1]\n",
            "0\n",
            "3\n",
            "[1, 899, 1, 1, 2, 4, 6, 7, 11, 45, 900, 1000, 1100]\n",
            "[1, 899, 1, 1, 2, 4, 6, 7, 11, 45, 900, 1000, 1100]\n"
          ]
        }
      ]
    },
    {
      "cell_type": "code",
      "source": [
        "#Basic List Operations:\n",
        "# 1. Creating a list\n",
        "my_list = [1, 2, 3, 4, 5]\n",
        "\n",
        "# 2. Accessing elements\n",
        "print(\"First element:\", my_list[0])\n",
        "print(\"Last element:\", my_list[-1])\n",
        "\n",
        "# 3. Length of the list\n",
        "print(\"Length of the list:\", len(my_list))\n",
        "\n",
        "# 4. Appending an element\n",
        "my_list.append(6)\n",
        "print(\"After appending:\", my_list)\n",
        "\n",
        "# 5. Removing an element\n",
        "my_list.remove(3)\n",
        "print(\"After removing 3:\", my_list)\n",
        "\n",
        "# 6. Inserting an element\n",
        "my_list.insert(2, 8)\n",
        "print(\"After inserting 8 at index 2:\", my_list)\n",
        "\n",
        "# 7. Slicing\n",
        "print(\"Slicing from index 1 to 3:\", my_list[1:4])\n",
        "\n",
        "# 8. Concatenating lists\n",
        "other_list = [7, 9]\n",
        "print(\"Concatenated list:\", my_list + other_list)\n",
        "\n",
        "# 9. Sorting\n",
        "my_list.sort()\n",
        "print(\"Sorted list:\", my_list)\n",
        "\n",
        "# 10. Reversing\n",
        "my_list.reverse()\n",
        "print(\"Reversed list:\", my_list)\n",
        "\n"
      ],
      "metadata": {
        "colab": {
          "base_uri": "https://localhost:8080/"
        },
        "id": "8nA77bVSizOV",
        "outputId": "5098e100-433b-403c-e926-60c5757bdb83"
      },
      "execution_count": 14,
      "outputs": [
        {
          "output_type": "stream",
          "name": "stdout",
          "text": [
            "First element: 1\n",
            "Last element: 5\n",
            "Length of the list: 5\n",
            "After appending: [1, 2, 3, 4, 5, 6]\n",
            "After removing 3: [1, 2, 4, 5, 6]\n",
            "After inserting 8 at index 2: [1, 2, 8, 4, 5, 6]\n",
            "Slicing from index 1 to 3: [2, 8, 4]\n",
            "Concatenated list: [1, 2, 8, 4, 5, 6, 7, 9]\n",
            "Sorted list: [1, 2, 4, 5, 6, 8]\n",
            "Reversed list: [8, 6, 5, 4, 2, 1]\n"
          ]
        }
      ]
    },
    {
      "cell_type": "code",
      "source": [
        "#Program to Find the Sum of All Elements in a List:-\n",
        "\n",
        "def sum_of_list_elements(lst):\n",
        "    return sum(lst)\n",
        "\n",
        "my_list = [1, 2, 3, 4, 5]\n",
        "print(\"Sum of elements:\", sum_of_list_elements(my_list))\n"
      ],
      "metadata": {
        "colab": {
          "base_uri": "https://localhost:8080/"
        },
        "id": "H7z_4zPDi5Aq",
        "outputId": "1ddfd066-725e-4608-9cc4-2cef62d6eeb1"
      },
      "execution_count": 15,
      "outputs": [
        {
          "output_type": "stream",
          "name": "stdout",
          "text": [
            "Sum of elements: 15\n"
          ]
        }
      ]
    },
    {
      "cell_type": "code",
      "source": [
        "#Program to Find the Maximum and Minimum Element in a List:\n",
        "\n",
        "def find_max_min(lst):\n",
        "    max_element = max(lst)\n",
        "    min_element = min(lst)\n",
        "    return max_element, min_element\n",
        "\n",
        "my_list = [1, 2, 3, 4, 5]\n",
        "max_num, min_num = find_max_min(my_list)\n",
        "print(\"Maximum element:\", max_num)\n",
        "print(\"Minimum element:\", min_num)\n"
      ],
      "metadata": {
        "colab": {
          "base_uri": "https://localhost:8080/"
        },
        "id": "PoO12r7Ri_qM",
        "outputId": "b5e00e61-ef41-45b6-e8ae-4bd543f208ec"
      },
      "execution_count": 16,
      "outputs": [
        {
          "output_type": "stream",
          "name": "stdout",
          "text": [
            "Maximum element: 5\n",
            "Minimum element: 1\n"
          ]
        }
      ]
    },
    {
      "cell_type": "code",
      "source": [
        "#Program to Remove Duplicates from a List:\n",
        "def remove_duplicates(lst):\n",
        "    return list(set(lst))\n",
        "\n",
        "my_list = [1, 2, 2, 3, 4, 4, 5]\n",
        "print(\"List with duplicates removed:\", remove_duplicates(my_list))\n"
      ],
      "metadata": {
        "colab": {
          "base_uri": "https://localhost:8080/"
        },
        "id": "sbAiRxIWi_wM",
        "outputId": "4eb59e82-ddc9-45ba-ad6b-9b055d2e69d6"
      },
      "execution_count": 17,
      "outputs": [
        {
          "output_type": "stream",
          "name": "stdout",
          "text": [
            "List with duplicates removed: [1, 2, 3, 4, 5]\n"
          ]
        }
      ]
    },
    {
      "cell_type": "code",
      "source": [
        "#Program to Check if a List is Palindrome:\n",
        "\n",
        "def is_palindrome(lst):\n",
        "    return lst == lst[::-1]\n",
        "\n",
        "my_list = [1, 2, 3, 2, 1]\n",
        "print(\"Is palindrome?\", is_palindrome(my_list))\n"
      ],
      "metadata": {
        "colab": {
          "base_uri": "https://localhost:8080/"
        },
        "id": "TBL5tsCijP5P",
        "outputId": "eba71c35-71fb-4b6f-9f3d-a75bc942d621"
      },
      "execution_count": 18,
      "outputs": [
        {
          "output_type": "stream",
          "name": "stdout",
          "text": [
            "Is palindrome? True\n"
          ]
        }
      ]
    },
    {
      "cell_type": "code",
      "source": [
        "#Program to Find the Union and Intersection of Two Lists:\n",
        "def union(lst1, lst2):\n",
        "    return list(set(lst1 + lst2))\n",
        "\n",
        "def intersection(lst1, lst2):\n",
        "    return list(set(lst1) & set(lst2))\n",
        "\n",
        "list1 = [1, 2, 3, 4, 5]\n",
        "list2 = [3, 4, 5, 6, 7]\n",
        "print(\"Union:\", union(list1, list2))\n",
        "print(\"Intersection:\", intersection(list1, list2))\n"
      ],
      "metadata": {
        "colab": {
          "base_uri": "https://localhost:8080/"
        },
        "id": "bvwQNtE8jVL3",
        "outputId": "c6f27b9f-9a91-4756-cd69-b593413ef15f"
      },
      "execution_count": 19,
      "outputs": [
        {
          "output_type": "stream",
          "name": "stdout",
          "text": [
            "Union: [1, 2, 3, 4, 5, 6, 7]\n",
            "Intersection: [3, 4, 5]\n"
          ]
        }
      ]
    },
    {
      "cell_type": "code",
      "source": [
        "#Program to Flatten a Nested List:\n",
        "def flatten(lst):\n",
        "    flattened_list = []\n",
        "    for sublist in lst:\n",
        "        if isinstance(sublist, list):\n",
        "            flattened_list.extend(flatten(sublist))\n",
        "        else:\n",
        "            flattened_list.append(sublist)\n",
        "    return flattened_list\n",
        "\n",
        "nested_list = [1, [2, 3], [4, [5, 6]], 7]\n",
        "print(\"Flattened list:\", flatten(nested_list))\n"
      ],
      "metadata": {
        "colab": {
          "base_uri": "https://localhost:8080/"
        },
        "id": "qQpmngN9jZ5b",
        "outputId": "d4b901f7-48d1-4e92-e749-52592935a68f"
      },
      "execution_count": 20,
      "outputs": [
        {
          "output_type": "stream",
          "name": "stdout",
          "text": [
            "Flattened list: [1, 2, 3, 4, 5, 6, 7]\n"
          ]
        }
      ]
    },
    {
      "cell_type": "code",
      "source": [
        "#Program to Remove Nth Occurrence of a Given Element from a List:\n",
        "def remove_nth_occurrence(lst, element, n):\n",
        "    count = 0\n",
        "    for i in range(len(lst)):\n",
        "        if lst[i] == element:\n",
        "            count += 1\n",
        "            if count == n:\n",
        "                del lst[i]\n",
        "                break\n",
        "    return lst\n",
        "\n",
        "my_list = [1, 2, 3, 4, 2, 5, 2]\n",
        "element_to_remove = 2\n",
        "nth_occurrence = 2\n",
        "print(\"List after removing {} occurrence of {}: {}\".format(nth_occurrence, element_to_remove, remove_nth_occurrence(my_list, element_to_remove, nth_occurrence)))\n"
      ],
      "metadata": {
        "colab": {
          "base_uri": "https://localhost:8080/"
        },
        "id": "KxNBmOW9jf5C",
        "outputId": "b52948b6-b6f7-4760-ca50-b47236b65e59"
      },
      "execution_count": 21,
      "outputs": [
        {
          "output_type": "stream",
          "name": "stdout",
          "text": [
            "List after removing 2 occurrence of 2: [1, 2, 3, 4, 5, 2]\n"
          ]
        }
      ]
    },
    {
      "cell_type": "code",
      "source": [
        "#Program to Merge Two Sorted Lists into a Single Sorted List:\n",
        "def merge_sorted_lists(lst1, lst2):\n",
        "    merged_list = []\n",
        "    while lst1 and lst2:\n",
        "        if lst1[0] < lst2[0]:\n",
        "            merged_list.append(lst1.pop(0))\n",
        "        else:\n",
        "            merged_list.append(lst2.pop(0))\n",
        "    merged_list.extend(lst1)\n",
        "    merged_list.extend(lst2)\n",
        "    return merged_list\n",
        "\n",
        "list1 = [1, 3, 5, 7]\n",
        "list2 = [2, 4, 6, 8]\n",
        "print(\"Merged sorted list:\", merge_sorted_lists(list1, list2))\n"
      ],
      "metadata": {
        "colab": {
          "base_uri": "https://localhost:8080/"
        },
        "id": "8ceLtpbcjkRg",
        "outputId": "09ce959c-9c00-49bc-f802-fcc1d9265f7f"
      },
      "execution_count": 22,
      "outputs": [
        {
          "output_type": "stream",
          "name": "stdout",
          "text": [
            "Merged sorted list: [1, 2, 3, 4, 5, 6, 7, 8]\n"
          ]
        }
      ]
    },
    {
      "cell_type": "code",
      "source": [
        "#Program to Rotate a List by N Positions to the Left:\n",
        "def rotate_left(lst, n):\n",
        "    n = n % len(lst)\n",
        "    return lst[n:] + lst[:n]\n",
        "\n",
        "my_list = [1, 2, 3, 4, 5]\n",
        "n = 2\n",
        "print(\"List rotated by {} positions to the left:\".format(n), rotate_left(my_list, n))\n"
      ],
      "metadata": {
        "colab": {
          "base_uri": "https://localhost:8080/"
        },
        "id": "kBoXxpxkjosk",
        "outputId": "19a1d617-8381-4751-9bfc-9fd335ed6b7d"
      },
      "execution_count": 23,
      "outputs": [
        {
          "output_type": "stream",
          "name": "stdout",
          "text": [
            "List rotated by 2 positions to the left: [3, 4, 5, 1, 2]\n"
          ]
        }
      ]
    }
  ]
}