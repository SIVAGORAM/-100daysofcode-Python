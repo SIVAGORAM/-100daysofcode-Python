{
  "nbformat": 4,
  "nbformat_minor": 0,
  "metadata": {
    "colab": {
      "provenance": [],
      "authorship_tag": "ABX9TyO7U6W8JpsrRHbB0SbR553S",
      "include_colab_link": true
    },
    "kernelspec": {
      "name": "python3",
      "display_name": "Python 3"
    },
    "language_info": {
      "name": "python"
    }
  },
  "cells": [
    {
      "cell_type": "markdown",
      "metadata": {
        "id": "view-in-github",
        "colab_type": "text"
      },
      "source": [
        "<a href=\"https://colab.research.google.com/github/SIVAGORAM/-100daysofcode-Python/blob/main/DAY_59_61.ipynb\" target=\"_parent\"><img src=\"https://colab.research.google.com/assets/colab-badge.svg\" alt=\"Open In Colab\"/></a>"
      ]
    },
    {
      "cell_type": "markdown",
      "source": [
        "Syntax of Python Constructor"
      ],
      "metadata": {
        "id": "RX2p-Nk4_S-s"
      }
    },
    {
      "cell_type": "code",
      "source": [
        "def __init__(self):\n",
        "\t# initializations"
      ],
      "metadata": {
        "id": "LzdmHhJ8_UDF"
      },
      "execution_count": null,
      "outputs": []
    },
    {
      "cell_type": "code",
      "source": [
        "class Person:\n",
        "\n",
        "  def __init__(self, name, occ):\n",
        "    print(\"Hey I am a person\")\n",
        "    self.name = name\n",
        "    self.occ = occ\n",
        "\n",
        "  def info(self):\n",
        "    print(f\"{self.name} is a {self.occ}\")\n",
        "\n",
        "\n",
        "a = Person(\"Harry\", \"Developer\")\n",
        "b = Person(\"Divya\", \"HR\")\n",
        "a.info()\n",
        "b.info()\n",
        "print(a.name)\n",
        "a.name = \"Divya\"\n",
        "a.occ = \"HR\"\n",
        "a.info()"
      ],
      "metadata": {
        "colab": {
          "base_uri": "https://localhost:8080/"
        },
        "id": "rEhBEjQ9CAUK",
        "outputId": "035cd8bf-6eb5-4d26-b076-756971c4b4f5"
      },
      "execution_count": null,
      "outputs": [
        {
          "output_type": "stream",
          "name": "stdout",
          "text": [
            "Hey I am a person\n",
            "Hey I am a person\n",
            "Harry is a Developer\n",
            "Divya is a HR\n",
            "Harry\n",
            "Divya is a HR\n"
          ]
        }
      ]
    },
    {
      "cell_type": "markdown",
      "source": [
        "Types of Constructors in Python\n",
        "Parameterized Constructor\n",
        "Default Constructor"
      ],
      "metadata": {
        "id": "Q1WDikF__ZVE"
      }
    },
    {
      "cell_type": "code",
      "source": [
        "#Example:\n",
        "class Details:\n",
        "    def __init__(self, animal, group):\n",
        "        self.animal = animal\n",
        "        self.group = group\n",
        "\n",
        "obj1 = Details(\"Crab\", \"Crustaceans\")\n",
        "print(obj1.animal, \"belongs to the\", obj1.group, \"group.\")"
      ],
      "metadata": {
        "colab": {
          "base_uri": "https://localhost:8080/"
        },
        "id": "C6VZiSvA_V80",
        "outputId": "f7c9b4d5-7e21-4c49-cf90-8a67a4d71ce9"
      },
      "execution_count": null,
      "outputs": [
        {
          "output_type": "stream",
          "name": "stdout",
          "text": [
            "Crab belongs to the Crustaceans group.\n"
          ]
        }
      ]
    },
    {
      "cell_type": "markdown",
      "source": [
        "Default Constructor in Python"
      ],
      "metadata": {
        "id": "YJFxqnYV_kRr"
      }
    },
    {
      "cell_type": "code",
      "source": [
        "#Example:\n",
        "class Details:\n",
        "  def __init__(self):\n",
        "    print(\"animal Crab belongs to Crustaceans group\")\n",
        "obj1=Details()"
      ],
      "metadata": {
        "colab": {
          "base_uri": "https://localhost:8080/"
        },
        "id": "PhXEuKbC_faM",
        "outputId": "d61d114f-7607-4149-9178-8f9c2f0d722e"
      },
      "execution_count": null,
      "outputs": [
        {
          "output_type": "stream",
          "name": "stdout",
          "text": [
            "animal Crab belongs to Crustaceans group\n"
          ]
        }
      ]
    },
    {
      "cell_type": "code",
      "source": [
        "#Simple Constructor:\n",
        "\n",
        "class MyClass:\n",
        "    def __init__(self):\n",
        "        print(\"Constructor called\")\n",
        "\n",
        "obj = MyClass()  # Constructor called\n"
      ],
      "metadata": {
        "colab": {
          "base_uri": "https://localhost:8080/"
        },
        "id": "9JMmOEwI_fcG",
        "outputId": "4a4fef68-c240-4af9-d951-7ea05128c713"
      },
      "execution_count": null,
      "outputs": [
        {
          "output_type": "stream",
          "name": "stdout",
          "text": [
            "Constructor called\n"
          ]
        }
      ]
    },
    {
      "cell_type": "code",
      "source": [
        "# Initializing Instance Variables:\n",
        "\n",
        "class Person:\n",
        "    def __init__(self, name, age):\n",
        "        self.name = name\n",
        "        self.age = age\n",
        "\n",
        "person1 = Person(\"Alice\", 30)\n",
        "print(person1.name)  # Alice\n",
        "print(person1.age)   # 30\n"
      ],
      "metadata": {
        "colab": {
          "base_uri": "https://localhost:8080/"
        },
        "id": "kzUtsONE_feJ",
        "outputId": "16b0c54c-7231-45da-8b53-d860879bbf2d"
      },
      "execution_count": null,
      "outputs": [
        {
          "output_type": "stream",
          "name": "stdout",
          "text": [
            "Alice\n",
            "30\n"
          ]
        }
      ]
    },
    {
      "cell_type": "code",
      "source": [
        "#Constructor with Type Checking:\n",
        "\n",
        "class Point:\n",
        "    def __init__(self, x, y):\n",
        "        if not isinstance(x, (int, float)) or not isinstance(y, (int, float)):\n",
        "            raise TypeError(\"Coordinates must be integers or floats\")\n",
        "        self.x = x\n",
        "        self.y = y\n",
        "\n",
        "point = Point(3, 4.5)\n",
        "print(point.x, point.y)  # 3 4.5\n"
      ],
      "metadata": {
        "colab": {
          "base_uri": "https://localhost:8080/"
        },
        "id": "2Vuwv638_fgM",
        "outputId": "c51ac758-068c-4f5f-c966-a61f56efa20d"
      },
      "execution_count": null,
      "outputs": [
        {
          "output_type": "stream",
          "name": "stdout",
          "text": [
            "3 4.5\n"
          ]
        }
      ]
    },
    {
      "cell_type": "code",
      "source": [
        "#Constructor with Validation:\n",
        "\n",
        "class Circle:\n",
        "    def __init__(self, radius):\n",
        "        if radius <= 0:\n",
        "            raise ValueError(\"Radius must be positive\")\n",
        "        self.radius = radius\n",
        "\n",
        "circle = Circle(5)\n"
      ],
      "metadata": {
        "id": "59-tI2i1_fj0"
      },
      "execution_count": null,
      "outputs": []
    },
    {
      "cell_type": "code",
      "source": [
        "#Constructor with Class Variables:\n",
        "\n",
        "class Car:\n",
        "    wheels = 4  # Class variable\n",
        "\n",
        "    def __init__(self, make, model):\n",
        "        self.make = make\n",
        "        self.model = model\n",
        "\n",
        "car1 = Car(\"Toyota\", \"Camry\")\n",
        "print(car1.wheels)  # 4\n",
        "car2 = Car(\"Honda\", \"Civic\")\n",
        "print(car2.wheels)  # 4\n"
      ],
      "metadata": {
        "colab": {
          "base_uri": "https://localhost:8080/"
        },
        "id": "6ni9B87sAf8W",
        "outputId": "4afc90b2-4a2a-4532-ccf4-e4e6ced3a6f6"
      },
      "execution_count": null,
      "outputs": [
        {
          "output_type": "stream",
          "name": "stdout",
          "text": [
            "4\n",
            "4\n"
          ]
        }
      ]
    },
    {
      "cell_type": "code",
      "source": [
        "#Constructor with Private Variables:\n",
        "\n",
        "class BankAccount:\n",
        "    def __init__(self, account_number, balance):\n",
        "        self._account_number = account_number  # Private variable\n",
        "        self._balance = balance\n",
        "\n",
        "account = BankAccount(\"123456789\", 1000)\n",
        "print(account._account_number)  # 123456789 (Accessible but conventionally private)\n"
      ],
      "metadata": {
        "colab": {
          "base_uri": "https://localhost:8080/"
        },
        "id": "QYnud-tZAf_w",
        "outputId": "2007aff9-4800-4469-aaf7-cf6945572d3f"
      },
      "execution_count": null,
      "outputs": [
        {
          "output_type": "stream",
          "name": "stdout",
          "text": [
            "123456789\n"
          ]
        }
      ]
    },
    {
      "cell_type": "code",
      "source": [
        "#Constructor with Default Values:\n",
        "\n",
        "class Rectangle:\n",
        "    def __init__(self, length=0, width=0):\n",
        "        self.length = length\n",
        "        self.width = width\n",
        "\n",
        "rect1 = Rectangle(5, 3)\n",
        "rect2 = Rectangle()  # No arguments, default values used (length=0, width=0)\n"
      ],
      "metadata": {
        "id": "zTiGLk_YAtgm"
      },
      "execution_count": null,
      "outputs": []
    },
    {
      "cell_type": "code",
      "source": [
        "#Using Constructors for Setup:\n",
        "\n",
        "import random\n",
        "\n",
        "class Die:\n",
        "    def __init__(self, sides=6):\n",
        "        self.sides = sides\n",
        "\n",
        "    def roll(self):\n",
        "        return random.randint(1, self.sides)\n",
        "\n",
        "die = Die()\n",
        "print(\"Rolling a 6-sided die:\", die.roll())\n"
      ],
      "metadata": {
        "colab": {
          "base_uri": "https://localhost:8080/"
        },
        "id": "m3VFQjO2AtkK",
        "outputId": "4c981db2-91fe-4bed-c090-d78c1eaf8632"
      },
      "execution_count": null,
      "outputs": [
        {
          "output_type": "stream",
          "name": "stdout",
          "text": [
            "Rolling a 6-sided die: 1\n"
          ]
        }
      ]
    },
    {
      "cell_type": "code",
      "source": [
        "#Inheritance with Constructors:\n",
        "\n",
        "class Animal:\n",
        "    def __init__(self, species):\n",
        "        self.species = species\n",
        "\n",
        "class Dog(Animal):\n",
        "    def __init__(self, name, breed):\n",
        "        super().__init__(\"Dog\")\n",
        "        self.name = name\n",
        "        self.breed = breed\n",
        "\n",
        "dog = Dog(\"Buddy\", \"Labrador\")\n",
        "print(dog.species)  # Dog\n",
        "print(dog.name)     # Buddy\n",
        "print(dog.breed)    # Labrador\n"
      ],
      "metadata": {
        "colab": {
          "base_uri": "https://localhost:8080/"
        },
        "id": "zWvdZbVLA2lg",
        "outputId": "49235012-13bd-4584-f7e5-3daf06982198"
      },
      "execution_count": null,
      "outputs": [
        {
          "output_type": "stream",
          "name": "stdout",
          "text": [
            "Dog\n",
            "Buddy\n",
            "Labrador\n"
          ]
        }
      ]
    },
    {
      "cell_type": "code",
      "source": [
        "#Constructor with Complex Initialization:\n",
        "class Email:\n",
        "    def __init__(self, sender, recipients, subject, body=\"\", attachments=None):\n",
        "        self.sender = sender\n",
        "        self.recipients = recipients\n",
        "        self.subject = subject\n",
        "        self.body = body\n",
        "        self.attachments = attachments if attachments else []\n",
        "\n",
        "email = Email(\n",
        "    sender=\"user@example.com\",\n",
        "    recipients=[\"recipient1@example.com\", \"recipient2@example.com\"],\n",
        "    subject=\"Hello\",\n",
        "    body=\"This is a test email.\",\n",
        "    attachments=[\"file1.txt\", \"image.jpg\"]\n",
        ")\n"
      ],
      "metadata": {
        "id": "sPJrK50gA7pC"
      },
      "execution_count": null,
      "outputs": []
    },
    {
      "cell_type": "code",
      "source": [],
      "metadata": {
        "id": "ZXdXqTRLA-pn"
      },
      "execution_count": null,
      "outputs": []
    },
    {
      "cell_type": "markdown",
      "source": [
        "Python Decorators"
      ],
      "metadata": {
        "id": "K-vrpHsaCvVK"
      }
    },
    {
      "cell_type": "markdown",
      "source": [
        "The basic syntax for using a decorator is the following:"
      ],
      "metadata": {
        "id": "-uWUcdNnC1lf"
      }
    },
    {
      "cell_type": "code",
      "source": [
        "@decorator_function\n",
        "def my_function():\n",
        "    pass"
      ],
      "metadata": {
        "id": "YIrTA_KMA-sS"
      },
      "execution_count": null,
      "outputs": []
    },
    {
      "cell_type": "markdown",
      "source": [
        "The @decorator_function notation is just a shorthand for the following code:"
      ],
      "metadata": {
        "id": "Rvf4jBOVC8fa"
      }
    },
    {
      "cell_type": "code",
      "source": [
        "def my_function():\n",
        "    pass\n",
        "my_function = decorator_function(my_function)"
      ],
      "metadata": {
        "colab": {
          "base_uri": "https://localhost:8080/",
          "height": 176
        },
        "id": "DTh33_keA-ur",
        "outputId": "bffe7526-6ca6-4e4c-ebd5-31b683e60f7a"
      },
      "execution_count": null,
      "outputs": [
        {
          "output_type": "error",
          "ename": "NameError",
          "evalue": "name 'decorator_function' is not defined",
          "traceback": [
            "\u001b[0;31m---------------------------------------------------------------------------\u001b[0m",
            "\u001b[0;31mNameError\u001b[0m                                 Traceback (most recent call last)",
            "\u001b[0;32m<ipython-input-17-6dddc0ff0e4d>\u001b[0m in \u001b[0;36m<cell line: 3>\u001b[0;34m()\u001b[0m\n\u001b[1;32m      1\u001b[0m \u001b[0;32mdef\u001b[0m \u001b[0mmy_function\u001b[0m\u001b[0;34m(\u001b[0m\u001b[0;34m)\u001b[0m\u001b[0;34m:\u001b[0m\u001b[0;34m\u001b[0m\u001b[0;34m\u001b[0m\u001b[0m\n\u001b[1;32m      2\u001b[0m     \u001b[0;32mpass\u001b[0m\u001b[0;34m\u001b[0m\u001b[0;34m\u001b[0m\u001b[0m\n\u001b[0;32m----> 3\u001b[0;31m \u001b[0mmy_function\u001b[0m \u001b[0;34m=\u001b[0m \u001b[0mdecorator_function\u001b[0m\u001b[0;34m(\u001b[0m\u001b[0mmy_function\u001b[0m\u001b[0;34m)\u001b[0m\u001b[0;34m\u001b[0m\u001b[0;34m\u001b[0m\u001b[0m\n\u001b[0m",
            "\u001b[0;31mNameError\u001b[0m: name 'decorator_function' is not defined"
          ]
        }
      ]
    },
    {
      "cell_type": "code",
      "source": [
        "import logging\n",
        "\n",
        "def log_function_call(func):\n",
        "    def decorated(*args, **kwargs):\n",
        "        logging.info(f\"Calling {func.__name__} with args={args}, kwargs={kwargs}\")\n",
        "        result = func(*args, **kwargs)\n",
        "        logging.info(f\"{func.__name__} returned {result}\")\n",
        "        return result\n",
        "    return decorated\n",
        "\n",
        "@log_function_call\n",
        "def my_function(a, b):\n",
        "    return a + b"
      ],
      "metadata": {
        "id": "fjX3OOXiA-w7"
      },
      "execution_count": null,
      "outputs": []
    },
    {
      "cell_type": "code",
      "source": [
        "def greet(fx):\n",
        "  def mfx(*args, **kwargs):\n",
        "    print(\"Good Morning\")\n",
        "    fx(*args, **kwargs)\n",
        "    print(\"Thanks for using this function\")\n",
        "  return mfx\n",
        "\n",
        "@greet\n",
        "def hello():\n",
        "  print(\"Hello world\")\n",
        "\n",
        "@greet\n",
        "def add(a, b):\n",
        "  print(a+b)\n",
        "\n",
        "# greet(hello)()\n",
        "hello()\n",
        "# greet(add)(1, 2)\n",
        "add(1, 2)"
      ],
      "metadata": {
        "colab": {
          "base_uri": "https://localhost:8080/"
        },
        "id": "8eGEUoboA-0U",
        "outputId": "7acfd3a0-06bb-487d-e616-f77bc89d6ae6"
      },
      "execution_count": null,
      "outputs": [
        {
          "output_type": "stream",
          "name": "stdout",
          "text": [
            "Good Morning\n",
            "Hello world\n",
            "Thanks for using this function\n",
            "Good Morning\n",
            "3\n",
            "Thanks for using this function\n"
          ]
        }
      ]
    },
    {
      "cell_type": "code",
      "source": [],
      "metadata": {
        "id": "gCg5OCtUDOP8"
      },
      "execution_count": null,
      "outputs": []
    },
    {
      "cell_type": "code",
      "source": [],
      "metadata": {
        "id": "q6q50xaDDOSf"
      },
      "execution_count": null,
      "outputs": []
    },
    {
      "cell_type": "code",
      "source": [],
      "metadata": {
        "id": "-K3rrcQvDOUw"
      },
      "execution_count": null,
      "outputs": []
    },
    {
      "cell_type": "code",
      "source": [],
      "metadata": {
        "id": "IcMTJIulDOYK"
      },
      "execution_count": null,
      "outputs": []
    }
  ]
}