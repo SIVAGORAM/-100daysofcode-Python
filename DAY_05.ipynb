{
  "nbformat": 4,
  "nbformat_minor": 0,
  "metadata": {
    "colab": {
      "provenance": [],
      "authorship_tag": "ABX9TyMOvmcOrc5CQ9oAi5FvnmEI",
      "include_colab_link": true
    },
    "kernelspec": {
      "name": "python3",
      "display_name": "Python 3"
    },
    "language_info": {
      "name": "python"
    }
  },
  "cells": [
    {
      "cell_type": "markdown",
      "metadata": {
        "id": "view-in-github",
        "colab_type": "text"
      },
      "source": [
        "<a href=\"https://colab.research.google.com/github/SIVAGORAM/-100daysofcode-Python/blob/main/DAY_05.ipynb\" target=\"_parent\"><img src=\"https://colab.research.google.com/assets/colab-badge.svg\" alt=\"Open In Colab\"/></a>"
      ]
    },
    {
      "cell_type": "code",
      "execution_count": null,
      "metadata": {
        "colab": {
          "base_uri": "https://localhost:8080/"
        },
        "id": "NuFEDmrwq6GX",
        "outputId": "2d22b659-dd1b-48c1-9595-48fe39a2f2db"
      },
      "outputs": [
        {
          "output_type": "stream",
          "name": "stdout",
          "text": [
            "11\n",
            "9\n",
            "90\n",
            "2.5\n",
            "2\n",
            "2\n",
            "16\n"
          ]
        }
      ],
      "source": [
        "print(5+6)\n",
        "print(15-6)\n",
        "print(15*6)\n",
        "print(15/6)\n",
        "print(15//6)\n",
        "print(5%3)\n",
        "print(2**4)"
      ]
    },
    {
      "cell_type": "code",
      "source": [
        "# Operator\tOperator Name\t  Example\n",
        "#   +         Addition\t    15+7\n",
        "#   -\t     Subtraction    \t15-7\n",
        "#   *\t    Multiplication   \t5*7\n",
        "#  **\t    Exponential\t     5**3\n",
        "#  /\t     Division\t       5/3\n",
        "#  %\t     Modulus        \t15%7\n",
        "#  // \t Floor Division\t   15//7\n"
      ],
      "metadata": {
        "id": "PyOhOoW4r0dY"
      },
      "execution_count": null,
      "outputs": []
    },
    {
      "cell_type": "code",
      "source": [
        "n = 15\n",
        "m = 7\n",
        "ans1 = n+m\n",
        "print(\"Addition of\",n,\"and\",m,\"is\", ans1)\n",
        "ans2 = n-m\n",
        "print(\"Subtraction of\",n,\"and\",m,\"is\", ans2)\n",
        "ans3 = n*m\n",
        "print(\"Multiplication of\",n,\"and\",m,\"is\", ans3)\n",
        "ans4 = n/m\n",
        "print(\"Division of\",n,\"and\",m,\"is\", ans4)\n",
        "ans5 = n%m\n",
        "print(\"Modulus of\",n,\"and\",m,\"is\", ans5)\n",
        "ans6 = n//m\n",
        "print(\"Floor Division of\",n,\"and\",m,\"is\", ans6)\n",
        "\n"
      ],
      "metadata": {
        "colab": {
          "base_uri": "https://localhost:8080/"
        },
        "id": "pX07F2_creaK",
        "outputId": "86307e6c-434d-4674-c4cd-85f120a7c803"
      },
      "execution_count": null,
      "outputs": [
        {
          "output_type": "stream",
          "name": "stdout",
          "text": [
            "Addition of 15 and 7 is 22\n",
            "Subtraction of 15 and 7 is 8\n",
            "Multiplication of 15 and 7 is 105\n",
            "Division of 15 and 7 is 2.142857142857143\n",
            "Modulus of 15 and 7 is 1\n",
            "Floor Division of 15 and 7 is 2\n"
          ]
        }
      ]
    },
    {
      "cell_type": "code",
      "source": [
        "# Create a calculator capable of performing addition, subtraction, multiplication and division operations on two numbers. Your program should format the output in a readable manner!\n",
        "\n",
        "a = 50\n",
        "b = 3\n",
        "print(\"The value of\", a, \"+\", 3, \"is: \", a + b)\n",
        "print(\"The value of\", a, \"-\", 3, \"is: \", a - b)\n",
        "print(\"The value of\", a, \"*\", 3, \"is: \", a * b)\n",
        "print(\"The value of\", a, \"/\", 3, \"is: \", a / b)"
      ],
      "metadata": {
        "colab": {
          "base_uri": "https://localhost:8080/"
        },
        "id": "WamyX6lMrlwb",
        "outputId": "a8147ad8-48ae-49e1-e70e-92a3419dbb06"
      },
      "execution_count": null,
      "outputs": [
        {
          "output_type": "stream",
          "name": "stdout",
          "text": [
            "The value of 50 + 3 is:  53\n",
            "The value of 50 - 3 is:  47\n",
            "The value of 50 * 3 is:  150\n",
            "The value of 50 / 3 is:  16.666666666666668\n"
          ]
        }
      ]
    }
  ]
}