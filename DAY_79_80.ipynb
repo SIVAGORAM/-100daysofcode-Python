{
  "nbformat": 4,
  "nbformat_minor": 0,
  "metadata": {
    "colab": {
      "provenance": [],
      "authorship_tag": "ABX9TyPXIlzEaFZ+VIi42vJ4ZfNc",
      "include_colab_link": true
    },
    "kernelspec": {
      "name": "python3",
      "display_name": "Python 3"
    },
    "language_info": {
      "name": "python"
    }
  },
  "cells": [
    {
      "cell_type": "markdown",
      "metadata": {
        "id": "view-in-github",
        "colab_type": "text"
      },
      "source": [
        "<a href=\"https://colab.research.google.com/github/SIVAGORAM/-100daysofcode-Python/blob/main/DAY_79_80.ipynb\" target=\"_parent\"><img src=\"https://colab.research.google.com/assets/colab-badge.svg\" alt=\"Open In Colab\"/></a>"
      ]
    },
    {
      "cell_type": "markdown",
      "source": [
        "Method Overriding in Python"
      ],
      "metadata": {
        "id": "1rfsWDVleANR"
      }
    },
    {
      "cell_type": "code",
      "execution_count": null,
      "metadata": {
        "id": "sKPkWEoYdiKF"
      },
      "outputs": [],
      "source": [
        "class Shape:\n",
        "    def area(self):\n",
        "        pass"
      ]
    },
    {
      "cell_type": "code",
      "source": [
        "class Circle(Shape):\n",
        "    def __init__(self, radius):\n",
        "        self.radius = radius\n",
        "\n",
        "    def area(self):\n",
        "        return 3.14 * self.radius * self.radius"
      ],
      "metadata": {
        "id": "BdXoEMofeD0i"
      },
      "execution_count": null,
      "outputs": []
    },
    {
      "cell_type": "code",
      "source": [
        "class Shape:\n",
        "    def area(self):\n",
        "        print(\"Calculating area...\")"
      ],
      "metadata": {
        "id": "0VCqplHKeD38"
      },
      "execution_count": null,
      "outputs": []
    },
    {
      "cell_type": "code",
      "source": [
        "class Circle(Shape):\n",
        "    def __init__(self, radius):\n",
        "        self.radius = radius\n",
        "\n",
        "    def area(self):\n",
        "        print(\"Calculating area of a circle...\")\n",
        "        super().area()\n",
        "        return 3.14 * self.radius * self.radius"
      ],
      "metadata": {
        "id": "cwBIxrWQeIw3"
      },
      "execution_count": null,
      "outputs": []
    },
    {
      "cell_type": "markdown",
      "source": [
        "Example 1: Overriding a Simple Method"
      ],
      "metadata": {
        "id": "mfuStkjyeO8r"
      }
    },
    {
      "cell_type": "code",
      "source": [
        "class Parent:\n",
        "    def greet(self):\n",
        "        print(\"Hello from the Parent class!\")\n",
        "\n",
        "class Child(Parent):\n",
        "    def greet(self):\n",
        "        print(\"Hello from the Child class!\")\n",
        "\n",
        "# Creating instances and calling the greet method\n",
        "parent = Parent()\n",
        "child = Child()\n",
        "\n",
        "parent.greet()  # Output: Hello from the Parent class!\n",
        "child.greet()   # Output: Hello from the Child class!\n"
      ],
      "metadata": {
        "colab": {
          "base_uri": "https://localhost:8080/"
        },
        "id": "TXaTg5AreOaL",
        "outputId": "351e8267-6084-42ee-e487-0f3328c81c97"
      },
      "execution_count": null,
      "outputs": [
        {
          "output_type": "stream",
          "name": "stdout",
          "text": [
            "Hello from the Parent class!\n",
            "Hello from the Child class!\n"
          ]
        }
      ]
    },
    {
      "cell_type": "markdown",
      "source": [
        "Example 2: Overriding with Additional Functionality"
      ],
      "metadata": {
        "id": "4GoJC_4_eShd"
      }
    },
    {
      "cell_type": "code",
      "source": [
        "class Parent:\n",
        "    def greet(self):\n",
        "        print(\"Hello from the Parent class!\")\n",
        "\n",
        "class Child(Parent):\n",
        "    def greet(self):\n",
        "        super().greet()  # Call the parent class's greet method\n",
        "        print(\"This is an additional message from the Child class.\")\n",
        "\n",
        "# Creating instances and calling the greet method\n",
        "parent = Parent()\n",
        "child = Child()\n",
        "\n",
        "parent.greet()\n",
        "# Output: Hello from the Parent class!\n",
        "\n",
        "child.greet()\n",
        "# Output:\n",
        "# Hello from the Parent class!\n",
        "# This is an additional message from the Child class.\n"
      ],
      "metadata": {
        "colab": {
          "base_uri": "https://localhost:8080/"
        },
        "id": "Ws6hj5B3eOcm",
        "outputId": "f00b2646-a77e-4abf-bb0b-e395a64e21a6"
      },
      "execution_count": null,
      "outputs": [
        {
          "output_type": "stream",
          "name": "stdout",
          "text": [
            "Hello from the Parent class!\n",
            "Hello from the Parent class!\n",
            "This is an additional message from the Child class.\n"
          ]
        }
      ]
    },
    {
      "cell_type": "markdown",
      "source": [
        "Example 3: Overriding the __init__ Method"
      ],
      "metadata": {
        "id": "I--S3csveXLW"
      }
    },
    {
      "cell_type": "code",
      "source": [
        "class Parent:\n",
        "    def __init__(self, name):\n",
        "        self.name = name\n",
        "\n",
        "    def display(self):\n",
        "        print(f\"Name: {self.name}\")\n",
        "\n",
        "class Child(Parent):\n",
        "    def __init__(self, name, age):\n",
        "        super().__init__(name)  # Call the parent class's __init__ method\n",
        "        self.age = age\n",
        "\n",
        "    def display(self):\n",
        "        super().display()  # Call the parent class's display method\n",
        "        print(f\"Age: {self.age}\")\n",
        "\n",
        "# Creating instances and calling the display method\n",
        "parent = Parent(\"Alice\")\n",
        "child = Child(\"Bob\", 10)\n",
        "\n",
        "parent.display()\n",
        "# Output: Name: Alice\n",
        "\n",
        "child.display()\n",
        "# Output:\n",
        "# Name: Bob\n",
        "# Age: 10\n"
      ],
      "metadata": {
        "colab": {
          "base_uri": "https://localhost:8080/"
        },
        "id": "j3gGrbEneOfz",
        "outputId": "79d0d445-b71d-4801-d406-387323506c86"
      },
      "execution_count": null,
      "outputs": [
        {
          "output_type": "stream",
          "name": "stdout",
          "text": [
            "Name: Alice\n",
            "Name: Bob\n",
            "Age: 10\n"
          ]
        }
      ]
    },
    {
      "cell_type": "markdown",
      "source": [
        "Example 4: Overriding Methods in Multiple Inheritance"
      ],
      "metadata": {
        "id": "Zrf7zoTUecRb"
      }
    },
    {
      "cell_type": "code",
      "source": [
        "class Parent1:\n",
        "    def show(self):\n",
        "        print(\"Show method from Parent1\")\n",
        "\n",
        "class Parent2:\n",
        "    def show(self):\n",
        "        print(\"Show method from Parent2\")\n",
        "\n",
        "class Child(Parent1, Parent2):\n",
        "    def show(self):\n",
        "        print(\"Show method from Child\")\n",
        "\n",
        "# Creating instances and calling the show method\n",
        "parent1 = Parent1()\n",
        "parent2 = Parent2()\n",
        "child = Child()\n",
        "\n",
        "parent1.show()  # Output: Show method from Parent1\n",
        "parent2.show()  # Output: Show method from Parent2\n",
        "child.show()    # Output: Show method from Child\n"
      ],
      "metadata": {
        "colab": {
          "base_uri": "https://localhost:8080/"
        },
        "id": "sdyuqd14eOic",
        "outputId": "0b0c8322-635d-4993-8991-3a16384f71cb"
      },
      "execution_count": null,
      "outputs": [
        {
          "output_type": "stream",
          "name": "stdout",
          "text": [
            "Show method from Parent1\n",
            "Show method from Parent2\n",
            "Show method from Child\n"
          ]
        }
      ]
    },
    {
      "cell_type": "markdown",
      "source": [
        "Example 5: Using Method Overriding in a Real-world Scenario"
      ],
      "metadata": {
        "id": "M5kTzbkeegRp"
      }
    },
    {
      "cell_type": "code",
      "source": [
        "class Shape:\n",
        "    def draw(self):\n",
        "        print(\"Drawing a shape\")\n",
        "\n",
        "class Circle(Shape):\n",
        "    def draw(self):\n",
        "        print(\"Drawing a circle\")\n",
        "\n",
        "class Square(Shape):\n",
        "    def draw(self):\n",
        "        print(\"Drawing a square\")\n",
        "\n",
        "# Creating instances and calling the draw method\n",
        "shape = Shape()\n",
        "circle = Circle()\n",
        "square = Square()\n",
        "\n",
        "shape.draw()   # Output: Drawing a shape\n",
        "circle.draw()  # Output: Drawing a circle\n",
        "square.draw()  # Output: Drawing a square\n"
      ],
      "metadata": {
        "colab": {
          "base_uri": "https://localhost:8080/"
        },
        "id": "J2hWXEVJeOk2",
        "outputId": "9361bfee-0a63-4f8d-b457-bd2987356880"
      },
      "execution_count": null,
      "outputs": [
        {
          "output_type": "stream",
          "name": "stdout",
          "text": [
            "Drawing a shape\n",
            "Drawing a circle\n",
            "Drawing a square\n"
          ]
        }
      ]
    },
    {
      "cell_type": "code",
      "source": [],
      "metadata": {
        "id": "3uwTmGVDeOoV"
      },
      "execution_count": null,
      "outputs": []
    }
  ]
}