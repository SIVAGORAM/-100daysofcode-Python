{
  "nbformat": 4,
  "nbformat_minor": 0,
  "metadata": {
    "colab": {
      "provenance": [],
      "authorship_tag": "ABX9TyNy+Iegu39NUI9G5XXit/Uf",
      "include_colab_link": true
    },
    "kernelspec": {
      "name": "python3",
      "display_name": "Python 3"
    },
    "language_info": {
      "name": "python"
    }
  },
  "cells": [
    {
      "cell_type": "markdown",
      "metadata": {
        "id": "view-in-github",
        "colab_type": "text"
      },
      "source": [
        "<a href=\"https://colab.research.google.com/github/SIVAGORAM/-100daysofcode-Python/blob/main/DAY_28.ipynb\" target=\"_parent\"><img src=\"https://colab.research.google.com/assets/colab-badge.svg\" alt=\"Open In Colab\"/></a>"
      ]
    },
    {
      "cell_type": "markdown",
      "source": [
        "Docstrings in python\n"
      ],
      "metadata": {
        "id": "XwfM61nHU3SV"
      }
    },
    {
      "cell_type": "code",
      "execution_count": 1,
      "metadata": {
        "colab": {
          "base_uri": "https://localhost:8080/"
        },
        "id": "CTZtr9FaUJ7P",
        "outputId": "6ba24e45-cdef-47d3-b4dc-88bf8ff6f590"
      },
      "outputs": [
        {
          "output_type": "stream",
          "name": "stdout",
          "text": [
            "25\n"
          ]
        }
      ],
      "source": [
        "def square(n):\n",
        "    '''Takes in a number n, returns the square of n'''\n",
        "    print(n**2)\n",
        "square(5)\n"
      ]
    },
    {
      "cell_type": "code",
      "source": [
        "#EXAMPLE:-\n",
        "def add(num1, num2):\n",
        "    \"\"\"\n",
        "    Add up two integer numbers.\n",
        "\n",
        "    This function simply wraps the ``+`` operator, and does not\n",
        "    do anything interesting, except for illustrating what\n",
        "    the docstring of a very simple function looks like.\n",
        "\n",
        "    Parameters\n",
        "    ----------\n",
        "    num1 : int\n",
        "        First number to add.\n",
        "    num2 : int\n",
        "        Second number to add.\n",
        "\n",
        "    Returns\n",
        "    -------\n",
        "    int\n",
        "        The sum of ``num1`` and ``num2``.\n",
        "\n",
        "    See Also\n",
        "    --------\n",
        "    subtract : Subtract one integer from another.\n",
        "\n",
        "    Examples\n",
        "    --------\n",
        "    >>> add(2, 2)\n",
        "    4\n",
        "    >>> add(25, 0)\n",
        "    25\n",
        "    >>> add(10, -10)\n",
        "    0\n",
        "    \"\"\"\n",
        "    return num1 + num2"
      ],
      "metadata": {
        "id": "e_xMTc4-VA81"
      },
      "execution_count": 3,
      "outputs": []
    },
    {
      "cell_type": "code",
      "source": [
        "def square(n):\n",
        "    '''Takes in a number n, returns the square of n'''\n",
        "    return n**2\n",
        "\n",
        "print(square.__doc__)"
      ],
      "metadata": {
        "colab": {
          "base_uri": "https://localhost:8080/"
        },
        "id": "11FV-dORVH2h",
        "outputId": "e3831108-eac8-4647-8b7c-b92ff3758f01"
      },
      "execution_count": 4,
      "outputs": [
        {
          "output_type": "stream",
          "name": "stdout",
          "text": [
            "Takes in a number n, returns the square of n\n"
          ]
        }
      ]
    },
    {
      "cell_type": "code",
      "source": [
        "def greet(name):\n",
        "    \"\"\"\n",
        "    This function greets the user with the given name.\n",
        "\n",
        "    Parameters:\n",
        "    name (str): The name of the user.\n",
        "\n",
        "    Returns:\n",
        "    str: A greeting message.\n",
        "    \"\"\"\n",
        "    return f\"Hello, {name}! Welcome to Python programming.\"\n",
        "\n",
        "# Accessing the docstring of the function\n",
        "print(greet.__doc__)\n"
      ],
      "metadata": {
        "colab": {
          "base_uri": "https://localhost:8080/"
        },
        "id": "O9gmJlLRWw2e",
        "outputId": "a283a458-efd1-41d3-e982-459dd64ae7b9"
      },
      "execution_count": 5,
      "outputs": [
        {
          "output_type": "stream",
          "name": "stdout",
          "text": [
            "\n",
            "    This function greets the user with the given name.\n",
            "\n",
            "    Parameters:\n",
            "    name (str): The name of the user.\n",
            "\n",
            "    Returns:\n",
            "    str: A greeting message.\n",
            "    \n"
          ]
        }
      ]
    },
    {
      "cell_type": "code",
      "source": [
        "def square(n):\n",
        "  '''Takes in a number n, returns the square of n'''\n",
        "  print(n**2)\n",
        "square(5)\n",
        "print(square.__doc__)"
      ],
      "metadata": {
        "colab": {
          "base_uri": "https://localhost:8080/"
        },
        "id": "DoB_OybmXCI-",
        "outputId": "3c620457-52c1-4560-db25-a90729232e9a"
      },
      "execution_count": 6,
      "outputs": [
        {
          "output_type": "stream",
          "name": "stdout",
          "text": [
            "25\n",
            "Takes in a number n, returns the square of n\n"
          ]
        }
      ]
    }
  ]
}