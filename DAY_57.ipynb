{
  "nbformat": 4,
  "nbformat_minor": 0,
  "metadata": {
    "colab": {
      "provenance": [],
      "authorship_tag": "ABX9TyPtR2aSv4qk52uDjvgpMG82",
      "include_colab_link": true
    },
    "kernelspec": {
      "name": "python3",
      "display_name": "Python 3"
    },
    "language_info": {
      "name": "python"
    }
  },
  "cells": [
    {
      "cell_type": "markdown",
      "metadata": {
        "id": "view-in-github",
        "colab_type": "text"
      },
      "source": [
        "<a href=\"https://colab.research.google.com/github/SIVAGORAM/-100daysofcode-Python/blob/main/DAY_57.ipynb\" target=\"_parent\"><img src=\"https://colab.research.google.com/assets/colab-badge.svg\" alt=\"Open In Colab\"/></a>"
      ]
    },
    {
      "cell_type": "markdown",
      "source": [
        "Types of inheritance:\n",
        "Single inheritance\n",
        "Multiple inheritance\n",
        "Multilevel inheritance\n",
        "Hierarchical Inheritance\n",
        "Hybrid Inheritance"
      ],
      "metadata": {
        "id": "ZwSGWSucAMOK"
      }
    },
    {
      "cell_type": "markdown",
      "source": [
        "Syntax:"
      ],
      "metadata": {
        "id": "m4EcG897AP_4"
      }
    },
    {
      "cell_type": "code",
      "source": [
        "class BaseClass:\n",
        "    # Base class definition\n",
        "\n",
        "class DerivedClass(BaseClass):\n",
        "    # Derived class definition\n"
      ],
      "metadata": {
        "id": "B0VV63CPAX_e"
      },
      "execution_count": null,
      "outputs": []
    },
    {
      "cell_type": "markdown",
      "source": [
        "Basic Example:"
      ],
      "metadata": {
        "id": "msWtg_GGAar1"
      }
    },
    {
      "cell_type": "code",
      "source": [
        "class Animal:\n",
        "    def speak(self):\n",
        "        print(\"Animal speaks\")\n",
        "\n",
        "class Dog(Animal):\n",
        "    def bark(self):\n",
        "        print(\"Dog barks\")\n",
        "\n",
        "# Creating an instance of the derived class\n",
        "my_dog = Dog()\n",
        "\n",
        "# Accessing methods from both base and derived classes\n",
        "my_dog.speak()  # Output: Animal speaks\n",
        "my_dog.bark()   # Output: Dog barks\n"
      ],
      "metadata": {
        "colab": {
          "base_uri": "https://localhost:8080/"
        },
        "id": "yTAFJHX6AYVS",
        "outputId": "db2d87e3-deca-438f-dcfa-da18228ecdb2"
      },
      "execution_count": 1,
      "outputs": [
        {
          "output_type": "stream",
          "name": "stdout",
          "text": [
            "Animal speaks\n",
            "Dog barks\n"
          ]
        }
      ]
    },
    {
      "cell_type": "code",
      "source": [
        "class Animal:\n",
        "    def speak(self):\n",
        "        print(\"Animal speaks\")\n",
        "\n",
        "class Dog(Animal):\n",
        "    def speak(self):  # Method overriding\n",
        "        print(\"Dog barks\")\n",
        "\n",
        "my_dog = Dog()\n",
        "my_dog.speak()  # Output: Dog barks\n"
      ],
      "metadata": {
        "colab": {
          "base_uri": "https://localhost:8080/"
        },
        "id": "XuKgJ30QAYY6",
        "outputId": "bfab8494-2861-4c4b-8566-5a8cb05e2cea"
      },
      "execution_count": 2,
      "outputs": [
        {
          "output_type": "stream",
          "name": "stdout",
          "text": [
            "Dog barks\n"
          ]
        }
      ]
    },
    {
      "cell_type": "markdown",
      "source": [
        "Accessing Base Class Methods:"
      ],
      "metadata": {
        "id": "Xy1bTG7GAi63"
      }
    },
    {
      "cell_type": "code",
      "source": [
        "class Animal:\n",
        "    def speak(self):\n",
        "        print(\"Animal speaks\")\n",
        "\n",
        "class Dog(Animal):\n",
        "    def speak(self):\n",
        "        super().speak()  # Call base class method\n",
        "        print(\"Dog barks\")\n",
        "\n",
        "my_dog = Dog()\n",
        "my_dog.speak()\n",
        "# Output:\n",
        "# Animal speaks\n",
        "# Dog barks\n"
      ],
      "metadata": {
        "colab": {
          "base_uri": "https://localhost:8080/"
        },
        "id": "YyLfva2YAgKg",
        "outputId": "37db1e68-3f92-4ae7-cebc-6ba0e4c6841a"
      },
      "execution_count": 3,
      "outputs": [
        {
          "output_type": "stream",
          "name": "stdout",
          "text": [
            "Animal speaks\n",
            "Dog barks\n"
          ]
        }
      ]
    },
    {
      "cell_type": "code",
      "source": [
        "class Base1:\n",
        "    pass\n",
        "\n",
        "class Base2:\n",
        "    pass\n",
        "\n",
        "class Derived(Base1, Base2):\n",
        "    pass\n"
      ],
      "metadata": {
        "id": "j6-76YuaAgNX"
      },
      "execution_count": 4,
      "outputs": []
    },
    {
      "cell_type": "markdown",
      "source": [
        "Single Inheritance:"
      ],
      "metadata": {
        "id": "WkFPVZQdAsTV"
      }
    },
    {
      "cell_type": "code",
      "source": [
        "class Animal:\n",
        "    def speak(self):\n",
        "        print(\"Animal speaks\")\n",
        "\n",
        "class Dog(Animal):\n",
        "    def bark(self):\n",
        "        print(\"Dog barks\")\n",
        "\n",
        "# Creating an instance of the derived class\n",
        "my_dog = Dog()\n",
        "\n",
        "# Accessing methods from both base and derived classes\n",
        "my_dog.speak()  # Output: Animal speaks\n",
        "my_dog.bark()   # Output: Dog barks\n"
      ],
      "metadata": {
        "colab": {
          "base_uri": "https://localhost:8080/"
        },
        "id": "3PS13TbwAgQw",
        "outputId": "bf089815-2e0b-4745-eb72-cfeee478200f"
      },
      "execution_count": 11,
      "outputs": [
        {
          "output_type": "stream",
          "name": "stdout",
          "text": [
            "Animal speaks\n",
            "Dog barks\n"
          ]
        }
      ]
    },
    {
      "cell_type": "markdown",
      "source": [
        "Multiple Inheritance:"
      ],
      "metadata": {
        "id": "On4Vvx-XAwau"
      }
    },
    {
      "cell_type": "code",
      "source": [
        "class Animal:\n",
        "    def eat(self):\n",
        "        print(\"Animal is eating\")\n",
        "\n",
        "class Pet:\n",
        "    def play(self):\n",
        "        print(\"Pet is playing\")\n",
        "\n",
        "class Dog(Animal, Pet):\n",
        "    def bark(self):\n",
        "        print(\"Dog is barking\")\n",
        "\n",
        "# Creating an instance of the derived class\n",
        "my_dog = Dog()\n",
        "\n",
        "# Accessing methods from both base classes\n",
        "my_dog.eat()   # Output: Animal is eating\n",
        "my_dog.play()  # Output: Pet is playing\n",
        "my_dog.bark()  # Output: Dog is barking\n"
      ],
      "metadata": {
        "colab": {
          "base_uri": "https://localhost:8080/"
        },
        "id": "xeXs3k8jAtik",
        "outputId": "9565866c-6a83-4fdc-81cd-048ba2122dca"
      },
      "execution_count": 12,
      "outputs": [
        {
          "output_type": "stream",
          "name": "stdout",
          "text": [
            "Animal is eating\n",
            "Pet is playing\n",
            "Dog is barking\n"
          ]
        }
      ]
    },
    {
      "cell_type": "markdown",
      "source": [
        "Multilevel Inheritance:"
      ],
      "metadata": {
        "id": "muRwtQq_A0aX"
      }
    },
    {
      "cell_type": "code",
      "source": [
        "class Animal:\n",
        "    def eat(self):\n",
        "        print(\"Animal is eating\")\n",
        "\n",
        "class Dog(Animal):\n",
        "    def bark(self):\n",
        "        print(\"Dog is barking\")\n",
        "\n",
        "class Labrador(Dog):\n",
        "    def swim(self):\n",
        "        print(\"Labrador is swimming\")\n",
        "\n",
        "# Creating an instance of the derived class\n",
        "my_labrador = Labrador()\n",
        "\n",
        "# Accessing methods from all levels of inheritance\n",
        "my_labrador.eat()   # Output: Animal is eating\n",
        "my_labrador.bark()  # Output: Dog is barking\n",
        "my_labrador.swim()  # Output: Labrador is swimming\n"
      ],
      "metadata": {
        "colab": {
          "base_uri": "https://localhost:8080/"
        },
        "id": "eXFqt3AGAtnn",
        "outputId": "3b9662da-3d2e-428c-b0a2-8ea407e930ec"
      },
      "execution_count": 13,
      "outputs": [
        {
          "output_type": "stream",
          "name": "stdout",
          "text": [
            "Animal is eating\n",
            "Dog is barking\n",
            "Labrador is swimming\n"
          ]
        }
      ]
    },
    {
      "cell_type": "markdown",
      "source": [
        "Hierarchical Inheritance:"
      ],
      "metadata": {
        "id": "cL25bWngA4Dx"
      }
    },
    {
      "cell_type": "code",
      "source": [
        "class Animal:\n",
        "    def eat(self):\n",
        "        print(\"Animal is eating\")\n",
        "\n",
        "class Dog(Animal):\n",
        "    def bark(self):\n",
        "        print(\"Dog is barking\")\n",
        "\n",
        "class Cat(Animal):\n",
        "    def meow(self):\n",
        "        print(\"Cat is meowing\")\n",
        "\n",
        "# Creating instances of the derived classes\n",
        "my_dog = Dog()\n",
        "my_cat = Cat()\n",
        "\n",
        "# Accessing methods from base and derived classes\n",
        "my_dog.eat()   # Output: Animal is eating\n",
        "my_dog.bark()  # Output: Dog is barking\n",
        "\n",
        "my_cat.eat()   # Output: Animal is eating\n",
        "my_cat.meow()  # Output: Cat is meowing\n"
      ],
      "metadata": {
        "colab": {
          "base_uri": "https://localhost:8080/"
        },
        "id": "9KKUD0pkAtru",
        "outputId": "59f3fb03-f1ab-40f8-ecae-c2847f142088"
      },
      "execution_count": 14,
      "outputs": [
        {
          "output_type": "stream",
          "name": "stdout",
          "text": [
            "Animal is eating\n",
            "Dog is barking\n",
            "Animal is eating\n",
            "Cat is meowing\n"
          ]
        }
      ]
    },
    {
      "cell_type": "markdown",
      "source": [
        "Hybrid (Combination of multiple types):"
      ],
      "metadata": {
        "id": "B6m8JvBEA82f"
      }
    },
    {
      "cell_type": "code",
      "source": [
        "class Animal:\n",
        "    def speak(self):\n",
        "        print(\"Animal speaks\")\n",
        "\n",
        "class Pet(Animal):\n",
        "    def play(self):\n",
        "        print(\"Pet is playing\")\n",
        "\n",
        "class Dog(Pet, Animal):\n",
        "    def bark(self):\n",
        "        print(\"Dog barks\")\n",
        "\n",
        "# Creating an instance of the derived class\n",
        "my_dog = Dog()\n",
        "\n",
        "# Accessing methods from all levels of inheritance\n",
        "my_dog.speak()  # Output: Animal speaks\n",
        "my_dog.play()   # Output: Pet is playing\n",
        "my_dog.bark()   # Output: Dog barks\n"
      ],
      "metadata": {
        "colab": {
          "base_uri": "https://localhost:8080/"
        },
        "id": "IJ-nNVXnAtuP",
        "outputId": "aca09105-67d0-47de-80f1-ba33d59cd610"
      },
      "execution_count": 15,
      "outputs": [
        {
          "output_type": "stream",
          "name": "stdout",
          "text": [
            "Animal speaks\n",
            "Pet is playing\n",
            "Dog barks\n"
          ]
        }
      ]
    },
    {
      "cell_type": "code",
      "source": [],
      "metadata": {
        "id": "qGRd_KstKGq3"
      },
      "execution_count": null,
      "outputs": []
    },
    {
      "cell_type": "code",
      "source": [],
      "metadata": {
        "id": "DcKQcM0gKKHD"
      },
      "execution_count": null,
      "outputs": []
    },
    {
      "cell_type": "code",
      "source": [],
      "metadata": {
        "id": "A4702XdkKKJ7"
      },
      "execution_count": null,
      "outputs": []
    },
    {
      "cell_type": "code",
      "source": [],
      "metadata": {
        "id": "KAJr6H9WKKMt"
      },
      "execution_count": null,
      "outputs": []
    },
    {
      "cell_type": "code",
      "source": [],
      "metadata": {
        "id": "HlLLEbDMKGuA"
      },
      "execution_count": null,
      "outputs": []
    },
    {
      "cell_type": "code",
      "source": [],
      "metadata": {
        "id": "-bhxe_BIKGwu"
      },
      "execution_count": null,
      "outputs": []
    }
  ]
}