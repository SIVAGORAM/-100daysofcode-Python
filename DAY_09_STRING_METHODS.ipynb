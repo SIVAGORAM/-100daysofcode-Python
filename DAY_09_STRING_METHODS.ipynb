{
  "nbformat": 4,
  "nbformat_minor": 0,
  "metadata": {
    "colab": {
      "provenance": [],
      "authorship_tag": "ABX9TyOz5SKj1ZuW19b07CyL8UjF",
      "include_colab_link": true
    },
    "kernelspec": {
      "name": "python3",
      "display_name": "Python 3"
    },
    "language_info": {
      "name": "python"
    }
  },
  "cells": [
    {
      "cell_type": "markdown",
      "metadata": {
        "id": "view-in-github",
        "colab_type": "text"
      },
      "source": [
        "<a href=\"https://colab.research.google.com/github/SIVAGORAM/-100daysofcode-Python/blob/main/DAY_09_STRING_METHODS.ipynb\" target=\"_parent\"><img src=\"https://colab.research.google.com/assets/colab-badge.svg\" alt=\"Open In Colab\"/></a>"
      ]
    },
    {
      "cell_type": "code",
      "execution_count": 3,
      "metadata": {
        "colab": {
          "base_uri": "https://localhost:8080/"
        },
        "id": "3HgJEtmwppTp",
        "outputId": "b7ab4be2-85d2-4c94-d231-f435786e6735"
      },
      "outputs": [
        {
          "output_type": "stream",
          "name": "stdout",
          "text": [
            "11\n",
            " Siva Goram\n",
            " SIVA GORAM\n",
            " siva goram\n",
            " Siva Goram\n",
            " Ram Goram\n",
            "['', 'Siva', 'Goram']\n",
            "Introduction to js\n",
            "25\n",
            "50\n",
            "1\n",
            "True\n",
            "True\n",
            "-1\n",
            "True\n",
            "True\n",
            "True\n",
            "False\n",
            "True\n",
            "True\n",
            "True\n",
            "False\n",
            "True\n",
            "pYTHON IS A iNTERPRETED lANGUAGE\n",
            "His Name Is Ram. Dan Is An Honest Man.\n"
          ]
        }
      ],
      "source": [
        "# Strings are immutable\n",
        "a = \" Siva Goram\"\n",
        "print(len(a))\n",
        "print(a)\n",
        "print(a.upper())\n",
        "print(a.lower())\n",
        "print(a.rstrip(\"!\"))\n",
        "print(a.replace(\"Siva\", \"Ram\"))\n",
        "print(a.split(\" \"))\n",
        "blogHeading = \"introduction tO jS\"\n",
        "print(blogHeading.capitalize())\n",
        "\n",
        "str1 = \"Welcome to the Console!!!\"\n",
        "print(len(str1))\n",
        "print(len(str1.center(50)))\n",
        "print(a.count(\"Siva\"))\n",
        "\n",
        "str1 = \"Welcome to the Console !!!\"\n",
        "print(str1.endswith(\"!!!\"))\n",
        "\n",
        "str1 = \"Welcome to the Console !!!\"\n",
        "print(str1.endswith(\"to\", 4, 10))\n",
        "\n",
        "str1 = \"He's name is Srinu. He is an honest man.\"\n",
        "print(str1.find(\"ishh\"))\n",
        "# print(str1.index(\"ishh\"))\n",
        "\n",
        "str1 = \"WelcomeToTheConsole\"\n",
        "print(str1.isalnum())\n",
        "str1 = \"Welcome\"\n",
        "print(str1.isalpha())\n",
        "\n",
        "str1 = \"hello world\"\n",
        "print(str1.islower())\n",
        "\n",
        "str1 = \"We wish you a Happy Diwali\\n\"\n",
        "print(str1.isprintable())\n",
        "str1 = \"         \"       #using Spacebar\n",
        "print(str1.isspace())\n",
        "str2 = \"  \"       #using Tab\n",
        "print(str2.isspace())\n",
        "\n",
        "str1 = \"World Health Organization\"\n",
        "print(str1.istitle())\n",
        "\n",
        "str2 = \"To kill a Mocking bird\"\n",
        "print(str2.istitle())\n",
        "\n",
        "str1 = \"Python is a Interpreted Language\"\n",
        "print(str1.startswith(\"Python\"))\n",
        "\n",
        "str1 = \"Python is a Interpreted Language\"\n",
        "print(str1.swapcase())\n",
        "\n",
        "str1 = \"His name is Ram. Dan is an honest man.\"\n",
        "print(str1.title())"
      ]
    }
  ]
}