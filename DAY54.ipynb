{
  "nbformat": 4,
  "nbformat_minor": 0,
  "metadata": {
    "colab": {
      "provenance": [],
      "authorship_tag": "ABX9TyOsl+EaXLgq8VwLSEMwKXuI",
      "include_colab_link": true
    },
    "kernelspec": {
      "name": "python3",
      "display_name": "Python 3"
    },
    "language_info": {
      "name": "python"
    }
  },
  "cells": [
    {
      "cell_type": "markdown",
      "metadata": {
        "id": "view-in-github",
        "colab_type": "text"
      },
      "source": [
        "<a href=\"https://colab.research.google.com/github/SIVAGORAM/-100daysofcode-Python/blob/main/DAY54.ipynb\" target=\"_parent\"><img src=\"https://colab.research.google.com/assets/colab-badge.svg\" alt=\"Open In Colab\"/></a>"
      ]
    },
    {
      "cell_type": "markdown",
      "source": [
        "Map"
      ],
      "metadata": {
        "id": "43jFvI0CkQhp"
      }
    },
    {
      "cell_type": "code",
      "source": [
        "#Syntax:-\n",
        "map(function, iterable)"
      ],
      "metadata": {
        "id": "rgMid_vpkRoF"
      },
      "execution_count": null,
      "outputs": []
    },
    {
      "cell_type": "code",
      "source": [
        "# List of numbers\n",
        "numbers = [1, 2, 3, 4, 5]\n",
        "\n",
        "# Double each number using the map function\n",
        "doubled = map(lambda x: x * 2, numbers)\n",
        "\n",
        "# Print the doubled numbers\n",
        "print(list(doubled))"
      ],
      "metadata": {
        "colab": {
          "base_uri": "https://localhost:8080/"
        },
        "id": "K7OcESWhkVxK",
        "outputId": "2152afdf-3f2e-4a4d-f4a1-dc31a6b4833a"
      },
      "execution_count": 1,
      "outputs": [
        {
          "output_type": "stream",
          "name": "stdout",
          "text": [
            "[2, 4, 6, 8, 10]\n"
          ]
        }
      ]
    },
    {
      "cell_type": "markdown",
      "source": [
        "Mapping a function to a list of numbers to calculate squares."
      ],
      "metadata": {
        "id": "QaFzSAMLkczM"
      }
    },
    {
      "cell_type": "code",
      "source": [
        "numbers = [1, 2, 3, 4, 5]\n",
        "squared = map(lambda x: x ** 2, numbers)\n",
        "squared_list = list(squared)\n",
        "print(squared_list)  # Output: [1, 4, 9, 16, 25]\n"
      ],
      "metadata": {
        "colab": {
          "base_uri": "https://localhost:8080/"
        },
        "id": "ZNvjLtjEkcX5",
        "outputId": "88765482-4c9b-4994-82a4-c432a6615091"
      },
      "execution_count": 2,
      "outputs": [
        {
          "output_type": "stream",
          "name": "stdout",
          "text": [
            "[1, 4, 9, 16, 25]\n"
          ]
        }
      ]
    },
    {
      "cell_type": "markdown",
      "source": [
        "Mapping a function to multiple iterables."
      ],
      "metadata": {
        "id": "8tQhEgfykkOa"
      }
    },
    {
      "cell_type": "code",
      "source": [
        "nums1 = [1, 2, 3]\n",
        "nums2 = [4, 5, 6]\n",
        "added = map(lambda x, y: x + y, nums1, nums2)\n",
        "added_list = list(added)\n",
        "print(added_list)  # Output: [5, 7, 9]\n"
      ],
      "metadata": {
        "colab": {
          "base_uri": "https://localhost:8080/"
        },
        "id": "nnKbP5PtkjrO",
        "outputId": "1638529d-ea69-491c-8da6-10419a65c401"
      },
      "execution_count": 3,
      "outputs": [
        {
          "output_type": "stream",
          "name": "stdout",
          "text": [
            "[5, 7, 9]\n"
          ]
        }
      ]
    },
    {
      "cell_type": "markdown",
      "source": [
        "Mapping built-in functions to iterables.\n",
        "\n"
      ],
      "metadata": {
        "id": "L7hK66Dckom7"
      }
    },
    {
      "cell_type": "code",
      "source": [
        "names = [\"John\", \"Alice\", \"Bob\"]\n",
        "name_lengths = map(len, names)\n",
        "name_lengths_list = list(name_lengths)\n",
        "print(name_lengths_list)  # Output: [4, 5, 3]\n"
      ],
      "metadata": {
        "colab": {
          "base_uri": "https://localhost:8080/"
        },
        "id": "i43BeVcjkjw7",
        "outputId": "baa0e3f5-849f-404a-eb1d-cf80ccc2a413"
      },
      "execution_count": 4,
      "outputs": [
        {
          "output_type": "stream",
          "name": "stdout",
          "text": [
            "[4, 5, 3]\n"
          ]
        }
      ]
    },
    {
      "cell_type": "markdown",
      "source": [
        "Mapping a user-defined function to an iterable."
      ],
      "metadata": {
        "id": "AY7_dcCfktun"
      }
    },
    {
      "cell_type": "code",
      "source": [
        "def double(x):\n",
        "    return x * 2\n",
        "\n",
        "numbers = [1, 2, 3, 4, 5]\n",
        "doubled = map(double, numbers)\n",
        "doubled_list = list(doubled)\n",
        "print(doubled_list)  # Output: [2, 4, 6, 8, 10]\n"
      ],
      "metadata": {
        "colab": {
          "base_uri": "https://localhost:8080/"
        },
        "id": "dgeCpnv6kjzp",
        "outputId": "7ba7151b-8666-4318-b6c8-da5cddf0d193"
      },
      "execution_count": 5,
      "outputs": [
        {
          "output_type": "stream",
          "name": "stdout",
          "text": [
            "[2, 4, 6, 8, 10]\n"
          ]
        }
      ]
    },
    {
      "cell_type": "markdown",
      "source": [
        "Mapping a class method to an iterable."
      ],
      "metadata": {
        "id": "Fd3UpbY0lB6m"
      }
    },
    {
      "cell_type": "code",
      "source": [
        "class Calculator:\n",
        "    @staticmethod\n",
        "    def square(x):\n",
        "        return x ** 2\n",
        "\n",
        "numbers = [1, 2, 3, 4, 5]\n",
        "squared = map(Calculator.square, numbers)\n",
        "squared_list = list(squared)\n",
        "print(squared_list)  # Output: [1, 4, 9, 16, 25]\n"
      ],
      "metadata": {
        "colab": {
          "base_uri": "https://localhost:8080/"
        },
        "id": "FJh9Yy23lBYa",
        "outputId": "86c9980f-fbbf-4fbc-872a-fa752153f73d"
      },
      "execution_count": 6,
      "outputs": [
        {
          "output_type": "stream",
          "name": "stdout",
          "text": [
            "[1, 4, 9, 16, 25]\n"
          ]
        }
      ]
    },
    {
      "cell_type": "markdown",
      "source": [
        "Mapping with conditional logic using map() and lambda."
      ],
      "metadata": {
        "id": "F4tCCV4hlF7O"
      }
    },
    {
      "cell_type": "code",
      "source": [
        "numbers = [1, 2, 3, 4, 5]\n",
        "result = map(lambda x: \"even\" if x % 2 == 0 else \"odd\", numbers)\n",
        "result_list = list(result)\n",
        "print(result_list)  # Output: ['odd', 'even', 'odd', 'even', 'odd']\n"
      ],
      "metadata": {
        "colab": {
          "base_uri": "https://localhost:8080/"
        },
        "id": "1-wKbKKtlFKV",
        "outputId": "def1c80d-1422-4625-d688-407e854c91ba"
      },
      "execution_count": 7,
      "outputs": [
        {
          "output_type": "stream",
          "name": "stdout",
          "text": [
            "['odd', 'even', 'odd', 'even', 'odd']\n"
          ]
        }
      ]
    },
    {
      "cell_type": "markdown",
      "source": [
        "filter()  :-\n",
        " filter(predicate, iterable)"
      ],
      "metadata": {
        "id": "e6JQURRklREM"
      }
    },
    {
      "cell_type": "markdown",
      "source": [
        "Filtering out even numbers from a list"
      ],
      "metadata": {
        "id": "qBal2JOElaoG"
      }
    },
    {
      "cell_type": "code",
      "source": [
        "numbers = [1, 2, 3, 4, 5, 6, 7, 8, 9, 10]\n",
        "even_numbers = filter(lambda x: x % 2 == 0, numbers)\n",
        "even_numbers_list = list(even_numbers)\n",
        "print(even_numbers_list)  # Output: [2, 4, 6, 8, 10]\n"
      ],
      "metadata": {
        "colab": {
          "base_uri": "https://localhost:8080/"
        },
        "id": "TqYewTuZlFVj",
        "outputId": "efeaabf9-c3e9-417b-8564-dac018dc4f0a"
      },
      "execution_count": 8,
      "outputs": [
        {
          "output_type": "stream",
          "name": "stdout",
          "text": [
            "[2, 4, 6, 8, 10]\n"
          ]
        }
      ]
    },
    {
      "cell_type": "markdown",
      "source": [
        "Filtering elements based on a user-defined function."
      ],
      "metadata": {
        "id": "z1GIx61dlpPf"
      }
    },
    {
      "cell_type": "code",
      "source": [
        "def is_positive(x):\n",
        "    return x > 0\n",
        "\n",
        "numbers = [-3, -2, -1, 0, 1, 2, 3]\n",
        "positive_numbers = filter(is_positive, numbers)\n",
        "positive_numbers_list = list(positive_numbers)\n",
        "print(positive_numbers_list)  # Output: [1, 2, 3]\n"
      ],
      "metadata": {
        "colab": {
          "base_uri": "https://localhost:8080/"
        },
        "id": "BbWc789NlnLM",
        "outputId": "3ceb73ec-be83-407d-da8f-4a87268c78d8"
      },
      "execution_count": 9,
      "outputs": [
        {
          "output_type": "stream",
          "name": "stdout",
          "text": [
            "[1, 2, 3]\n"
          ]
        }
      ]
    },
    {
      "cell_type": "markdown",
      "source": [
        "Filtering out None values from a list."
      ],
      "metadata": {
        "id": "qm6PS9GoluTa"
      }
    },
    {
      "cell_type": "code",
      "source": [
        "items = [1, None, \"apple\", None, 5, \"banana\"]\n",
        "filtered_items = filter(lambda x: x is not None, items)\n",
        "filtered_items_list = list(filtered_items)\n",
        "print(filtered_items_list)  # Output: [1, 'apple', 5, 'banana']\n"
      ],
      "metadata": {
        "colab": {
          "base_uri": "https://localhost:8080/"
        },
        "id": "DiiugUWaluBL",
        "outputId": "b66f9df3-52f8-452c-812c-d55436885420"
      },
      "execution_count": 10,
      "outputs": [
        {
          "output_type": "stream",
          "name": "stdout",
          "text": [
            "[1, 'apple', 5, 'banana']\n"
          ]
        }
      ]
    },
    {
      "cell_type": "markdown",
      "source": [
        "Filtering elements using a class method."
      ],
      "metadata": {
        "id": "_jrewIFplxvu"
      }
    },
    {
      "cell_type": "code",
      "source": [
        "class Person:\n",
        "    def __init__(self, name, age):\n",
        "        self.name = name\n",
        "        self.age = age\n",
        "\n",
        "    def is_adult(self):\n",
        "        return self.age >= 18\n",
        "\n",
        "people = [\n",
        "    Person(\"Alice\", 25),\n",
        "    Person(\"Bob\", 17),\n",
        "    Person(\"Charlie\", 30)\n",
        "]\n",
        "adults = filter(Person.is_adult, people)\n",
        "adults_list = list(adults)\n",
        "print([person.name for person in adults_list])  # Output: ['Alice', 'Charlie']\n"
      ],
      "metadata": {
        "colab": {
          "base_uri": "https://localhost:8080/"
        },
        "id": "iS3tstoDlxVO",
        "outputId": "95d44fcb-9b40-4285-a555-906f269b3b20"
      },
      "execution_count": 11,
      "outputs": [
        {
          "output_type": "stream",
          "name": "stdout",
          "text": [
            "['Alice', 'Charlie']\n"
          ]
        }
      ]
    },
    {
      "cell_type": "markdown",
      "source": [
        "Filtering elements based on multiple conditions."
      ],
      "metadata": {
        "id": "HKG1OfBUl3Fm"
      }
    },
    {
      "cell_type": "code",
      "source": [
        "numbers = [1, 2, 3, 4, 5, 6, 7, 8, 9, 10]\n",
        "filtered_numbers = filter(lambda x: x % 2 == 0 or x % 3 == 0, numbers)\n",
        "filtered_numbers_list = list(filtered_numbers)\n",
        "print(filtered_numbers_list)  # Output: [2, 3, 4, 6, 8, 9, 10]\n"
      ],
      "metadata": {
        "colab": {
          "base_uri": "https://localhost:8080/"
        },
        "id": "slBJZm88l2ru",
        "outputId": "1b9109d1-e670-4123-fcf7-1e197a2980ef"
      },
      "execution_count": 12,
      "outputs": [
        {
          "output_type": "stream",
          "name": "stdout",
          "text": [
            "[2, 3, 4, 6, 8, 9, 10]\n"
          ]
        }
      ]
    },
    {
      "cell_type": "markdown",
      "source": [
        "Achieving the same result using list comprehension."
      ],
      "metadata": {
        "id": "Gryh8mI6l6t8"
      }
    },
    {
      "cell_type": "code",
      "source": [
        "numbers = [1, 2, 3, 4, 5, 6, 7, 8, 9, 10]\n",
        "filtered_numbers = [x for x in numbers if x % 2 == 0]\n",
        "print(filtered_numbers)  # Output: [2, 4, 6, 8, 10]\n"
      ],
      "metadata": {
        "colab": {
          "base_uri": "https://localhost:8080/"
        },
        "id": "IW0MwCNKl2um",
        "outputId": "9db2c99c-0bec-4d96-992f-4d2a82c4c938"
      },
      "execution_count": 13,
      "outputs": [
        {
          "output_type": "stream",
          "name": "stdout",
          "text": [
            "[2, 4, 6, 8, 10]\n"
          ]
        }
      ]
    },
    {
      "cell_type": "markdown",
      "source": [
        "Reduce()  reduce(function, iterable)"
      ],
      "metadata": {
        "id": "Dy7gUpHpmPnF"
      }
    },
    {
      "cell_type": "markdown",
      "source": [
        "Summing up a list of numbers using reduce()."
      ],
      "metadata": {
        "id": "_H-nHaHhmR66"
      }
    },
    {
      "cell_type": "code",
      "source": [
        "from functools import reduce\n",
        "\n",
        "numbers = [1, 2, 3, 4, 5]\n",
        "total = reduce(lambda x, y: x + y, numbers)\n",
        "print(total)  # Output: 15\n"
      ],
      "metadata": {
        "colab": {
          "base_uri": "https://localhost:8080/"
        },
        "id": "JSjQKtLLmDSd",
        "outputId": "b4616605-1db6-4d1b-8856-d98e56db7534"
      },
      "execution_count": 14,
      "outputs": [
        {
          "output_type": "stream",
          "name": "stdout",
          "text": [
            "15\n"
          ]
        }
      ]
    },
    {
      "cell_type": "markdown",
      "source": [
        "Multiplying all elements of a list using reduce()."
      ],
      "metadata": {
        "id": "VGazavJCmVJG"
      }
    },
    {
      "cell_type": "code",
      "source": [
        "from functools import reduce\n",
        "\n",
        "numbers = [2, 3, 4, 5]\n",
        "product = reduce(lambda x, y: x * y, numbers)\n",
        "print(product)  # Output: 120\n"
      ],
      "metadata": {
        "colab": {
          "base_uri": "https://localhost:8080/"
        },
        "id": "ejK0c5bdmU3N",
        "outputId": "0d3aa88f-8ecb-4046-9328-feaa0602bd27"
      },
      "execution_count": 15,
      "outputs": [
        {
          "output_type": "stream",
          "name": "stdout",
          "text": [
            "120\n"
          ]
        }
      ]
    },
    {
      "cell_type": "markdown",
      "source": [
        "Finding the maximum element in a list using reduce()."
      ],
      "metadata": {
        "id": "KPCsX_1-mY2A"
      }
    },
    {
      "cell_type": "code",
      "source": [
        "from functools import reduce\n",
        "\n",
        "numbers = [3, 8, 1, 6, 9, 4]\n",
        "max_number = reduce(lambda x, y: x if x > y else y, numbers)\n",
        "print(max_number)  # Output: 9\n"
      ],
      "metadata": {
        "colab": {
          "base_uri": "https://localhost:8080/"
        },
        "id": "BNgb52f4mXKs",
        "outputId": "286f3dfb-b59e-4503-aba2-9cd2d24f8089"
      },
      "execution_count": 16,
      "outputs": [
        {
          "output_type": "stream",
          "name": "stdout",
          "text": [
            "9\n"
          ]
        }
      ]
    },
    {
      "cell_type": "markdown",
      "source": [
        "Concatenating strings from a list using reduce()."
      ],
      "metadata": {
        "id": "XWuOwUhKmcrE"
      }
    },
    {
      "cell_type": "code",
      "source": [
        "from functools import reduce\n",
        "\n",
        "words = [\"Hello\", \" \", \"world\", \"!\"]\n",
        "sentence = reduce(lambda x, y: x + y, words)\n",
        "print(sentence)  # Output: Hello world!\n"
      ],
      "metadata": {
        "colab": {
          "base_uri": "https://localhost:8080/"
        },
        "id": "GmddGznVmXNr",
        "outputId": "47289e0c-18de-4316-8fd2-47f50ae2a01f"
      },
      "execution_count": 17,
      "outputs": [
        {
          "output_type": "stream",
          "name": "stdout",
          "text": [
            "Hello world!\n"
          ]
        }
      ]
    },
    {
      "cell_type": "markdown",
      "source": [
        "Counting occurrences of elements in a list using reduce()."
      ],
      "metadata": {
        "id": "mcLLxNeImfu9"
      }
    },
    {
      "cell_type": "code",
      "source": [
        "from functools import reduce\n",
        "\n",
        "words = [\"apple\", \"banana\", \"apple\", \"orange\", \"banana\", \"apple\"]\n",
        "word_count = reduce(lambda count, word: {**count, word: count.get(word, 0) + 1}, words, {})\n",
        "print(word_count)  # Output: {'apple': 3, 'banana': 2, 'orange': 1}\n"
      ],
      "metadata": {
        "colab": {
          "base_uri": "https://localhost:8080/"
        },
        "id": "RefCk4ilmXQd",
        "outputId": "255158b5-bdb2-4cf1-e411-e10e1ee39742"
      },
      "execution_count": 18,
      "outputs": [
        {
          "output_type": "stream",
          "name": "stdout",
          "text": [
            "{'apple': 3, 'banana': 2, 'orange': 1}\n"
          ]
        }
      ]
    },
    {
      "cell_type": "markdown",
      "source": [
        "Flattening a list of lists into a single list using reduce()."
      ],
      "metadata": {
        "id": "b9pMVgPqmi2h"
      }
    },
    {
      "cell_type": "code",
      "source": [
        "from functools import reduce\n",
        "\n",
        "nested_lists = [[1, 2, 3], [4, 5], [6, 7, 8]]\n",
        "flattened_list = reduce(lambda x, y: x + y, nested_lists, [])\n",
        "print(flattened_list)  # Output: [1, 2, 3, 4, 5, 6, 7, 8]\n"
      ],
      "metadata": {
        "colab": {
          "base_uri": "https://localhost:8080/"
        },
        "id": "ryZrWZ0YmiiB",
        "outputId": "24d246c1-e8af-4289-e18c-b86fe69fdcc6"
      },
      "execution_count": 19,
      "outputs": [
        {
          "output_type": "stream",
          "name": "stdout",
          "text": [
            "[1, 2, 3, 4, 5, 6, 7, 8]\n"
          ]
        }
      ]
    }
  ]
}