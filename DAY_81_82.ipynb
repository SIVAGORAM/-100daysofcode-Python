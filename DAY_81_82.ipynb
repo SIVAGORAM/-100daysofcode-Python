{
  "nbformat": 4,
  "nbformat_minor": 0,
  "metadata": {
    "colab": {
      "provenance": [],
      "authorship_tag": "ABX9TyMiJ10wspeWjFC6nF7AbEvc",
      "include_colab_link": true
    },
    "kernelspec": {
      "name": "python3",
      "display_name": "Python 3"
    },
    "language_info": {
      "name": "python"
    }
  },
  "cells": [
    {
      "cell_type": "markdown",
      "metadata": {
        "id": "view-in-github",
        "colab_type": "text"
      },
      "source": [
        "<a href=\"https://colab.research.google.com/github/SIVAGORAM/-100daysofcode-Python/blob/main/DAY_81_82.ipynb\" target=\"_parent\"><img src=\"https://colab.research.google.com/assets/colab-badge.svg\" alt=\"Open In Colab\"/></a>"
      ]
    },
    {
      "cell_type": "markdown",
      "source": [
        "Write a program to clear the clutter inside a folder on your computer. You should use os module to rename all the png images from 1.png all the way till n.png where n is the number of png files in that folder. Do the same for other file formats. For example:\n",
        "\n",
        "sfdsf.png --> 1.png\n",
        "vfsf.png --> 2.png\n",
        "this.png --> 3.png\n",
        "design.png --> 4.png\n",
        "name.png --> 5.png"
      ],
      "metadata": {
        "id": "zl8SJpp6fIjy"
      }
    },
    {
      "cell_type": "code",
      "execution_count": null,
      "metadata": {
        "id": "JquH32N7fDOp"
      },
      "outputs": [],
      "source": [
        "import os\n",
        "from collections import defaultdict\n",
        "\n",
        "def clear_clutter(folder_path):\n",
        "    # Dictionary to hold lists of files by their extension\n",
        "    file_dict = defaultdict(list)\n",
        "\n",
        "    # Walk through the directory and gather all files\n",
        "    for filename in os.listdir():\n",
        "        # Only process files (not directories)\n",
        "        if os.path.isfile(os.path.join(folder_path, filename)):\n",
        "            # Extract the file extension\n",
        "            _, ext = os.path.splitext(filename)\n",
        "            # Add the file to the list corresponding to its extension\n",
        "            file_dict[ext].append(filename)\n",
        "\n",
        "    # Process each file type separately\n",
        "    for ext, files in file_dict.items():\n",
        "        # Sort files to ensure consistent renaming\n",
        "        files.sort()\n",
        "        for i, filename in enumerate(files, start=1):\n",
        "            # Construct the new file name\n",
        "            new_name = f\"{i}{ext}\"\n",
        "            # Construct the full old and new file paths\n",
        "            old_path = os.path.join(folder_path, filename)\n",
        "            new_path = os.path.join(folder_path, new_name)\n",
        "            # Rename the file\n",
        "            os.rename(old_path, new_path)\n",
        "            print(f\"Renamed: {old_path} to {new_path}\")\n",
        "\n",
        "# Example usage:\n",
        "folder_path = '/content/sample_data'\n",
        "clear_clutter(folder_path)\n"
      ]
    },
    {
      "cell_type": "markdown",
      "source": [
        "Write a program to manipulate pdf files using pyPDF. Your programs should be able to merge multiple pdf files into a single pdf. You are welcome to add more functionalities\n",
        "\n",
        "pypdf is a free and open-source pure-python PDF library capable of splitting, merging, cropping, and transforming the pages of PDF files. It can also add custom data, viewing options, and passwords to PDF files. pypdf can retrieve text and metadata from PDFs as well."
      ],
      "metadata": {
        "id": "EPk7ZFiAfgXV"
      }
    },
    {
      "cell_type": "code",
      "source": [
        "pip install pypdf\n"
      ],
      "metadata": {
        "colab": {
          "base_uri": "https://localhost:8080/"
        },
        "id": "c5u6dWUUfNc8",
        "outputId": "ae61eec1-3e7a-4c9d-97e6-10d2b6a5c9a9"
      },
      "execution_count": null,
      "outputs": [
        {
          "output_type": "stream",
          "name": "stdout",
          "text": [
            "Collecting pypdf\n",
            "  Downloading pypdf-4.2.0-py3-none-any.whl (290 kB)\n",
            "\u001b[2K     \u001b[90m━━━━━━━━━━━━━━━━━━━━━━━━━━━━━━━━━━━━━━━━\u001b[0m \u001b[32m290.4/290.4 kB\u001b[0m \u001b[31m4.9 MB/s\u001b[0m eta \u001b[36m0:00:00\u001b[0m\n",
            "\u001b[?25hRequirement already satisfied: typing_extensions>=4.0 in /usr/local/lib/python3.10/dist-packages (from pypdf) (4.11.0)\n",
            "Installing collected packages: pypdf\n",
            "Successfully installed pypdf-4.2.0\n"
          ]
        }
      ]
    },
    {
      "cell_type": "markdown",
      "source": [
        "Program to Merge, Split, and Extract Text from PDFs"
      ],
      "metadata": {
        "id": "2Z4PFbeefnzU"
      }
    },
    {
      "cell_type": "code",
      "source": [
        "import os\n",
        "from pypdf import PdfReader, PdfWriter\n",
        "\n",
        "def merge_pdfs(pdf_list, output_path):\n",
        "    pdf_writer = PdfWriter()\n",
        "\n",
        "    for pdf in pdf_list:\n",
        "        pdf_reader = PdfReader(pdf)\n",
        "        for page_num in range(len(pdf_reader.pages)):\n",
        "            page = pdf_reader.pages[page_num]\n",
        "            pdf_writer.add_page(page)\n",
        "\n",
        "    with open(output_path, 'wb') as out_file:\n",
        "        pdf_writer.write(out_file)\n",
        "\n",
        "    print(f\"Merged {len(pdf_list)} PDFs into {output_path}\")\n",
        "\n",
        "def split_pdf(input_path, output_folder):\n",
        "    if not os.path.exists(output_folder):\n",
        "        os.makedirs(output_folder)\n",
        "\n",
        "    pdf_reader = PdfReader(input_path)\n",
        "    for page_num in range(len(pdf_reader.pages)):\n",
        "        pdf_writer = PdfWriter()\n",
        "        pdf_writer.add_page(pdf_reader.pages[page_num])\n",
        "\n",
        "        output_path = os.path.join(output_folder, f\"page_{page_num + 1}.pdf\")\n",
        "        with open(output_path, 'wb') as out_file:\n",
        "            pdf_writer.write(out_file)\n",
        "\n",
        "        print(f\"Saved {output_path}\")\n",
        "\n",
        "def extract_text(input_path):\n",
        "    pdf_reader = PdfReader(input_path)\n",
        "    text_content = \"\"\n",
        "\n",
        "    for page_num in range(len(pdf_reader.pages)):\n",
        "        text_content += pdf_reader.pages[page_num].extract_text() + \"\\n\"\n",
        "\n",
        "    return text_content\n",
        "\n",
        "# Example usage:\n",
        "pdfs_to_merge = ['file1.pdf', 'file2.pdf', 'file3.pdf']\n",
        "merge_output = 'merged_output.pdf'\n",
        "split_input = 'large_file.pdf'\n",
        "split_output_folder = 'split_pages'\n",
        "text_extract_input = 'text_file.pdf'\n",
        "\n",
        "merge_pdfs(pdfs_to_merge, merge_output)\n",
        "split_pdf(split_input, split_output_folder)\n",
        "extracted_text = extract_text(text_extract_input)\n",
        "\n",
        "# Print extracted text (or save it to a file if needed)\n",
        "print(extracted_text)\n"
      ],
      "metadata": {
        "id": "E9o0FutegH_n"
      },
      "execution_count": null,
      "outputs": []
    },
    {
      "cell_type": "code",
      "source": [],
      "metadata": {
        "id": "2kZ0s1MRhKN7"
      },
      "execution_count": null,
      "outputs": []
    },
    {
      "cell_type": "code",
      "source": [],
      "metadata": {
        "id": "2aHbjfsMhUqq"
      },
      "execution_count": null,
      "outputs": []
    }
  ]
}