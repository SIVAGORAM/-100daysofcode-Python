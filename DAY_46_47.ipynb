{
  "nbformat": 4,
  "nbformat_minor": 0,
  "metadata": {
    "colab": {
      "provenance": [],
      "authorship_tag": "ABX9TyO2dsXhgNnE+kHyk6WpXv4b",
      "include_colab_link": true
    },
    "kernelspec": {
      "name": "python3",
      "display_name": "Python 3"
    },
    "language_info": {
      "name": "python"
    }
  },
  "cells": [
    {
      "cell_type": "markdown",
      "metadata": {
        "id": "view-in-github",
        "colab_type": "text"
      },
      "source": [
        "<a href=\"https://colab.research.google.com/github/SIVAGORAM/-100daysofcode-Python/blob/main/DAY_46_47.ipynb\" target=\"_parent\"><img src=\"https://colab.research.google.com/assets/colab-badge.svg\" alt=\"Open In Colab\"/></a>"
      ]
    },
    {
      "cell_type": "markdown",
      "source": [
        "os Module in Python"
      ],
      "metadata": {
        "id": "11la1ByCkW0-"
      }
    },
    {
      "cell_type": "code",
      "execution_count": 4,
      "metadata": {
        "id": "XgvYU3QijnHc"
      },
      "outputs": [],
      "source": [
        "import os\n",
        "\n",
        "# Open the file in read-only mode\n",
        "f = os.open(\"/content/myfile.txt\", os.O_RDONLY)\n",
        "\n",
        "# Read the contents of the file\n",
        "contents = os.read(f, 1024)\n",
        "\n",
        "# Close the file\n",
        "os.close(f)"
      ]
    },
    {
      "cell_type": "code",
      "source": [
        "import os\n",
        "\n",
        "# Open the file in write-only mode\n",
        "f = os.open(\"/content/myfile.txt\", os.O_WRONLY)\n",
        "\n",
        "# Write to the file\n",
        "os.write(f, b\"Hello, world!\")\n",
        "\n",
        "# Close the file\n",
        "os.close(f)"
      ],
      "metadata": {
        "id": "n_xU8CojkFjA"
      },
      "execution_count": 5,
      "outputs": []
    },
    {
      "cell_type": "markdown",
      "source": [
        "Interacting with the file system"
      ],
      "metadata": {
        "id": "Zq9KOGgrkUPx"
      }
    },
    {
      "cell_type": "code",
      "source": [
        "import os\n",
        "\n",
        "# Get a list of the files in the current directory\n",
        "files = os.listdir(\".\")\n",
        "print(files)  # Output: ['myfile.txt', 'otherfile.txt']"
      ],
      "metadata": {
        "colab": {
          "base_uri": "https://localhost:8080/"
        },
        "id": "LbBkQJQRkP0n",
        "outputId": "1fc47861-c394-46b2-9a39-7527d5e75a80"
      },
      "execution_count": 6,
      "outputs": [
        {
          "output_type": "stream",
          "name": "stdout",
          "text": [
            "['.config', '.ipynb_checkpoints', 'myfile.txt', 'sample_data']\n"
          ]
        }
      ]
    },
    {
      "cell_type": "code",
      "source": [
        "import os\n",
        "\n",
        "# Create a new directory\n",
        "os.mkdir(\"newdir\")"
      ],
      "metadata": {
        "id": "srk8kCmYkP3V"
      },
      "execution_count": 7,
      "outputs": []
    },
    {
      "cell_type": "markdown",
      "source": [
        "Running system commands"
      ],
      "metadata": {
        "id": "2IwsiNP8kfNH"
      }
    },
    {
      "cell_type": "code",
      "source": [
        "import os\n",
        "\n",
        "# Run the \"ls\" command and print the output\n",
        "output = os.system(\"ls\")\n",
        "print(output)  # Output: ['myfile.txt', 'otherfile.txt']"
      ],
      "metadata": {
        "colab": {
          "base_uri": "https://localhost:8080/"
        },
        "id": "zR8VYvGcken-",
        "outputId": "24a8157e-983c-4d21-956d-e47a82f1313a"
      },
      "execution_count": 8,
      "outputs": [
        {
          "output_type": "stream",
          "name": "stdout",
          "text": [
            "0\n"
          ]
        }
      ]
    },
    {
      "cell_type": "code",
      "source": [
        "import os\n",
        "\n",
        "# Run the \"ls\" command and get the output as a file-like object\n",
        "f = os.popen(\"ls\")\n",
        "\n",
        "# Read the contents of the output\n",
        "output = f.read()\n",
        "print(output)  # Output: ['myfile.txt', 'otherfile.txt']\n",
        "\n",
        "# Close the file-like object\n",
        "f.close()"
      ],
      "metadata": {
        "colab": {
          "base_uri": "https://localhost:8080/"
        },
        "id": "p6ogS6UgkeuP",
        "outputId": "0494961f-2da1-403c-92e2-031eac302412"
      },
      "execution_count": 9,
      "outputs": [
        {
          "output_type": "stream",
          "name": "stdout",
          "text": [
            "myfile.txt\n",
            "newdir\n",
            "sample_data\n",
            "\n"
          ]
        }
      ]
    },
    {
      "cell_type": "markdown",
      "source": [
        "Getting the current working directory:"
      ],
      "metadata": {
        "id": "yOwwB9xakyf7"
      }
    },
    {
      "cell_type": "code",
      "source": [
        "import os\n",
        "\n",
        "current_directory = os.getcwd()\n",
        "print(\"Current working directory:\", current_directory)\n"
      ],
      "metadata": {
        "colab": {
          "base_uri": "https://localhost:8080/"
        },
        "id": "4hPemD-nkyDh",
        "outputId": "31bbe42f-ce63-43de-a171-15074fa82d26"
      },
      "execution_count": 10,
      "outputs": [
        {
          "output_type": "stream",
          "name": "stdout",
          "text": [
            "Current working directory: /content\n"
          ]
        }
      ]
    },
    {
      "cell_type": "markdown",
      "source": [
        "Listing files and directories in a directory:"
      ],
      "metadata": {
        "id": "--U93X6lk3Gs"
      }
    },
    {
      "cell_type": "code",
      "source": [
        "import os\n",
        "\n",
        "directory_path = \"/content/sample_data\"\n",
        "contents = os.listdir(directory_path)\n",
        "print(\"Contents of\", directory_path, \":\", contents)\n"
      ],
      "metadata": {
        "colab": {
          "base_uri": "https://localhost:8080/"
        },
        "id": "zt8qN0jQkyGx",
        "outputId": "8aba5e61-2e48-42f6-fe8d-bc7f1f467b37"
      },
      "execution_count": 12,
      "outputs": [
        {
          "output_type": "stream",
          "name": "stdout",
          "text": [
            "Contents of /content/sample_data : ['anscombe.json', 'README.md', 'mnist_train_small.csv', 'california_housing_train.csv', 'mnist_test.csv', 'california_housing_test.csv']\n"
          ]
        }
      ]
    },
    {
      "cell_type": "markdown",
      "source": [
        "Creating a new directory:"
      ],
      "metadata": {
        "id": "mFLwBoCalDID"
      }
    },
    {
      "cell_type": "code",
      "source": [
        "import os\n",
        "\n",
        "new_directory = \"/path/to/new/directory\"\n",
        "os.mkdir(new_directory)\n",
        "print(\"New directory created at:\", new_directory)\n"
      ],
      "metadata": {
        "id": "NbcIJ-7plCca"
      },
      "execution_count": 16,
      "outputs": []
    },
    {
      "cell_type": "markdown",
      "source": [
        "Checking if a file or directory exists:"
      ],
      "metadata": {
        "id": "PiuyodVslc8i"
      }
    },
    {
      "cell_type": "code",
      "source": [
        "import os\n",
        "\n",
        "file_path = \"/path/to/file_or_directory\"\n",
        "if os.path.exists(file_path):\n",
        "    print(file_path, \"exists\")\n",
        "else:\n",
        "    print(file_path, \"does not exist\")\n"
      ],
      "metadata": {
        "colab": {
          "base_uri": "https://localhost:8080/"
        },
        "id": "CL7EPe_hlaY8",
        "outputId": "3e57cab3-a351-450a-e0df-9e70610b0ea6"
      },
      "execution_count": 17,
      "outputs": [
        {
          "output_type": "stream",
          "name": "stdout",
          "text": [
            "/path/to/file_or_directory does not exist\n"
          ]
        }
      ]
    },
    {
      "cell_type": "markdown",
      "source": [
        "Running shell commands using os.system():"
      ],
      "metadata": {
        "id": "t3v7qbxFlhBk"
      }
    },
    {
      "cell_type": "code",
      "source": [
        "import os\n",
        "\n",
        "# Run a simple shell command\n",
        "os.system(\"ls -l\")\n",
        "\n",
        "# Run a command with arguments\n",
        "os.system(\"echo Hello, World!\")\n"
      ],
      "metadata": {
        "colab": {
          "base_uri": "https://localhost:8080/"
        },
        "id": "Rff_dfkNlghj",
        "outputId": "6b852ad2-993f-4ad1-90f0-bc09af546384"
      },
      "execution_count": 18,
      "outputs": [
        {
          "output_type": "execute_result",
          "data": {
            "text/plain": [
              "0"
            ]
          },
          "metadata": {},
          "execution_count": 18
        }
      ]
    },
    {
      "cell_type": "markdown",
      "source": [
        "Renaming a file:"
      ],
      "metadata": {
        "id": "84G4sV-8llBN"
      }
    },
    {
      "cell_type": "code",
      "source": [
        "import os\n",
        "\n",
        "old_name = \"/path/to/old/file\"\n",
        "new_name = \"/path/to/new/file\"\n",
        "os.rename(old_name, new_name)\n",
        "print(\"File renamed from\", old_name, \"to\", new_name)\n"
      ],
      "metadata": {
        "id": "bhklrUKJlkWp"
      },
      "execution_count": 19,
      "outputs": []
    },
    {
      "cell_type": "markdown",
      "source": [
        "Deleting a file:\n"
      ],
      "metadata": {
        "id": "y1BNkCTglthQ"
      }
    },
    {
      "cell_type": "code",
      "source": [
        "import os\n",
        "\n",
        "file_to_delete = \"/path/to/file/to/delete\"\n",
        "os.remove(file_to_delete)\n",
        "print(\"File\", file_to_delete, \"deleted\")\n"
      ],
      "metadata": {
        "id": "MsuXWfB0lr13"
      },
      "execution_count": 20,
      "outputs": []
    },
    {
      "cell_type": "markdown",
      "source": [
        "Getting environment variables:"
      ],
      "metadata": {
        "id": "2fIVgGfElzoZ"
      }
    },
    {
      "cell_type": "code",
      "source": [
        "import os\n",
        "\n",
        "home_directory = os.getenv(\"HOME\")\n",
        "print(\"Home directory:\", home_directory)\n"
      ],
      "metadata": {
        "colab": {
          "base_uri": "https://localhost:8080/"
        },
        "id": "pLpiMv56lr9x",
        "outputId": "2a3f8c22-8984-481b-b6cb-a7e9f10a8e01"
      },
      "execution_count": 21,
      "outputs": [
        {
          "output_type": "stream",
          "name": "stdout",
          "text": [
            "Home directory: /root\n"
          ]
        }
      ]
    },
    {
      "cell_type": "markdown",
      "source": [
        "Joining paths safely using os.path.join():"
      ],
      "metadata": {
        "id": "Sp4ADBtumAks"
      }
    },
    {
      "cell_type": "code",
      "source": [
        "import os\n",
        "\n",
        "path1 = \"/path/to\"\n",
        "path2 = \"directory\"\n",
        "full_path = os.path.join(path1, path2)\n",
        "print(\"Joined path:\", full_path)\n"
      ],
      "metadata": {
        "colab": {
          "base_uri": "https://localhost:8080/"
        },
        "id": "agbexARRmAGJ",
        "outputId": "84a67db7-8b48-4a90-9b57-669a8951d2ab"
      },
      "execution_count": 22,
      "outputs": [
        {
          "output_type": "stream",
          "name": "stdout",
          "text": [
            "Joined path: /path/to/directory\n"
          ]
        }
      ]
    },
    {
      "cell_type": "markdown",
      "source": [
        "Getting file information using os.stat():"
      ],
      "metadata": {
        "id": "nu6VF70YmEVn"
      }
    },
    {
      "cell_type": "code",
      "source": [
        "import os\n",
        "\n",
        "file_path = \"/content/sample_data\"\n",
        "file_info = os.stat(file_path)\n",
        "print(\"File information:\", file_info)\n"
      ],
      "metadata": {
        "colab": {
          "base_uri": "https://localhost:8080/"
        },
        "id": "dflvW7pZmAIw",
        "outputId": "a3529fd8-6bbf-4e70-ce96-bd0db389b63b"
      },
      "execution_count": 24,
      "outputs": [
        {
          "output_type": "stream",
          "name": "stdout",
          "text": [
            "File information: os.stat_result(st_mode=16877, st_ino=2490399, st_dev=51, st_nlink=1, st_uid=0, st_gid=0, st_size=4096, st_atime=1712239833, st_mtime=1712237086, st_ctime=1712239832)\n"
          ]
        }
      ]
    },
    {
      "cell_type": "markdown",
      "source": [
        "Checking if a path is a file or directory using os.path.isfile() and os.path.isdir():"
      ],
      "metadata": {
        "id": "eABxJ9brmO5I"
      }
    },
    {
      "cell_type": "code",
      "source": [
        "import os\n",
        "\n",
        "path = \"/path/to/file_or_directory\"\n",
        "if os.path.isfile(path):\n",
        "    print(path, \"is a file\")\n",
        "elif os.path.isdir(path):\n",
        "    print(path, \"is a directory\")\n",
        "else:\n",
        "    print(path, \"does not exist\")\n"
      ],
      "metadata": {
        "colab": {
          "base_uri": "https://localhost:8080/"
        },
        "id": "kvYSQIGhmMtd",
        "outputId": "52d76dad-d10c-48df-f452-d5888238356a"
      },
      "execution_count": 25,
      "outputs": [
        {
          "output_type": "stream",
          "name": "stdout",
          "text": [
            "/path/to/file_or_directory does not exist\n"
          ]
        }
      ]
    },
    {
      "cell_type": "markdown",
      "source": [
        "Walking through a directory tree using os.walk():"
      ],
      "metadata": {
        "id": "HMkphaeemTDR"
      }
    },
    {
      "cell_type": "code",
      "source": [
        "import os\n",
        "\n",
        "root_directory = \"/path/to/directory\"\n",
        "for root, directories, files in os.walk(root_directory):\n",
        "    print(\"Root:\", root)\n",
        "    print(\"Directories:\", directories)\n",
        "    print(\"Files:\", files)\n",
        "    print()\n"
      ],
      "metadata": {
        "id": "jHhGbBi8mREm"
      },
      "execution_count": 26,
      "outputs": []
    },
    {
      "cell_type": "markdown",
      "source": [
        "Getting the size of a file using os.path.getsize():"
      ],
      "metadata": {
        "id": "9syWdLalmXwd"
      }
    },
    {
      "cell_type": "code",
      "source": [
        "import os\n",
        "\n",
        "file_path = \"/content/sample_data\"\n",
        "file_size = os.path.getsize(file_path)\n",
        "print(\"File size of\", file_path, \":\", file_size, \"bytes\")\n"
      ],
      "metadata": {
        "colab": {
          "base_uri": "https://localhost:8080/"
        },
        "id": "NuS22QBImM2V",
        "outputId": "09c249eb-70fb-4b7e-fa4f-d1ca0d688e13"
      },
      "execution_count": 28,
      "outputs": [
        {
          "output_type": "stream",
          "name": "stdout",
          "text": [
            "File size of /content/sample_data : 4096 bytes\n"
          ]
        }
      ]
    },
    {
      "cell_type": "markdown",
      "source": [
        "Changing file permissions using os.chmod():\n"
      ],
      "metadata": {
        "id": "I2ylhVP9mfYJ"
      }
    },
    {
      "cell_type": "code",
      "source": [
        "import os\n",
        "\n",
        "file_path =\"/content/sample_data\"\n",
        "# Set the file's permissions to read/write for the owner only\n",
        "os.chmod(file_path, 0o600)\n"
      ],
      "metadata": {
        "id": "I9xpl6wOmdeo"
      },
      "execution_count": 30,
      "outputs": []
    },
    {
      "cell_type": "markdown",
      "source": [
        "Making a directory and its parent directories using os.makedirs():"
      ],
      "metadata": {
        "id": "fgAiRT7ImojY"
      }
    },
    {
      "cell_type": "code",
      "source": [
        "import os\n",
        "\n",
        "new_directory = \"/path/to/new/directory\"\n",
        "os.makedirs(new_directory)\n",
        "print(\"New directory created at:\", new_directory)\n"
      ],
      "metadata": {
        "colab": {
          "base_uri": "https://localhost:8080/"
        },
        "id": "UjmbFopVmdiZ",
        "outputId": "8df44209-10ea-45be-8374-846586b2292b"
      },
      "execution_count": 31,
      "outputs": [
        {
          "output_type": "stream",
          "name": "stdout",
          "text": [
            "New directory created at: /path/to/new/directory\n"
          ]
        }
      ]
    }
  ]
}