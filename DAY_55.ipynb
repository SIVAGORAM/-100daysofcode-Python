{
  "nbformat": 4,
  "nbformat_minor": 0,
  "metadata": {
    "colab": {
      "provenance": [],
      "authorship_tag": "ABX9TyN6Q3HrU4WYJ5OiBCP/WdBK",
      "include_colab_link": true
    },
    "kernelspec": {
      "name": "python3",
      "display_name": "Python 3"
    },
    "language_info": {
      "name": "python"
    }
  },
  "cells": [
    {
      "cell_type": "markdown",
      "metadata": {
        "id": "view-in-github",
        "colab_type": "text"
      },
      "source": [
        "<a href=\"https://colab.research.google.com/github/SIVAGORAM/-100daysofcode-Python/blob/main/DAY_55.ipynb\" target=\"_parent\"><img src=\"https://colab.research.google.com/assets/colab-badge.svg\" alt=\"Open In Colab\"/></a>"
      ]
    },
    {
      "cell_type": "markdown",
      "source": [
        "'is' vs '==' in Python"
      ],
      "metadata": {
        "id": "aIlZgT2wn4jg"
      }
    },
    {
      "cell_type": "code",
      "execution_count": 1,
      "metadata": {
        "colab": {
          "base_uri": "https://localhost:8080/"
        },
        "id": "P8Jkt1NXnwOk",
        "outputId": "8e1d657f-255c-49b5-b713-7fe1ec80242a"
      },
      "outputs": [
        {
          "output_type": "stream",
          "name": "stdout",
          "text": [
            "True\n",
            "False\n"
          ]
        }
      ],
      "source": [
        "a = [1, 2, 3]\n",
        "b = [1, 2, 3]\n",
        "\n",
        "print(a == b)  # True\n",
        "print(a is b)  # False"
      ]
    },
    {
      "cell_type": "code",
      "source": [
        "a = \"hello\"\n",
        "b = \"hello\"\n",
        "\n",
        "print(a == b)  # True\n",
        "print(a is b)  # True\n",
        "\n",
        "a = 5\n",
        "b = 5\n",
        "\n",
        "print(a == b)  # True\n",
        "print(a is b)  # True"
      ],
      "metadata": {
        "colab": {
          "base_uri": "https://localhost:8080/"
        },
        "id": "0wWzCpsvn6fE",
        "outputId": "8a9c74a9-cd1d-4bba-8092-f924606a0b22"
      },
      "execution_count": 2,
      "outputs": [
        {
          "output_type": "stream",
          "name": "stdout",
          "text": [
            "True\n",
            "True\n",
            "True\n",
            "True\n"
          ]
        }
      ]
    },
    {
      "cell_type": "markdown",
      "source": [
        "Identity Check:"
      ],
      "metadata": {
        "id": "RAAT3EawoXqE"
      }
    },
    {
      "cell_type": "code",
      "source": [
        "a = [1, 2, 3]\n",
        "b = a\n",
        "\n",
        "print(a == b)  # Output: True, because the content of both lists is the same\n",
        "print(a is b)  # Output: True, because they refer to the same object in memory\n"
      ],
      "metadata": {
        "colab": {
          "base_uri": "https://localhost:8080/"
        },
        "id": "QZSBoGbToQNv",
        "outputId": "fbe2a3cd-eb42-4872-8d81-2ed681fdd974"
      },
      "execution_count": 3,
      "outputs": [
        {
          "output_type": "stream",
          "name": "stdout",
          "text": [
            "True\n",
            "True\n"
          ]
        }
      ]
    },
    {
      "cell_type": "markdown",
      "source": [
        "Using is with Immutable Objects:"
      ],
      "metadata": {
        "id": "YYA39ks3oTke"
      }
    },
    {
      "cell_type": "code",
      "source": [
        "a = 10\n",
        "b = 10\n",
        "\n",
        "print(a == b)  # Output: True, because their values are the same\n",
        "print(a is b)  # Output: True, because Python interns small integers\n"
      ],
      "metadata": {
        "colab": {
          "base_uri": "https://localhost:8080/"
        },
        "id": "x3MAuytCoSLb",
        "outputId": "ed16883b-df0d-4348-f7e1-9253fdd8da10"
      },
      "execution_count": 5,
      "outputs": [
        {
          "output_type": "stream",
          "name": "stdout",
          "text": [
            "True\n",
            "True\n"
          ]
        }
      ]
    },
    {
      "cell_type": "markdown",
      "source": [
        "Custom Classes:"
      ],
      "metadata": {
        "id": "twzuyq0Lobnc"
      }
    },
    {
      "cell_type": "code",
      "source": [
        "class MyClass:\n",
        "    def __init__(self, value):\n",
        "        self.value = value\n",
        "\n",
        "obj1 = MyClass(10)\n",
        "obj2 = MyClass(10)\n",
        "\n",
        "print(obj1 == obj2)  # Output: False, because the objects have the same value but are different instances\n",
        "print(obj1 is obj2)  # Output: False, because they are different instances\n"
      ],
      "metadata": {
        "colab": {
          "base_uri": "https://localhost:8080/"
        },
        "id": "CvqK-SCkoSPU",
        "outputId": "f38dcc6c-691d-463b-d1df-28937f466c2d"
      },
      "execution_count": 4,
      "outputs": [
        {
          "output_type": "stream",
          "name": "stdout",
          "text": [
            "False\n",
            "False\n"
          ]
        }
      ]
    },
    {
      "cell_type": "markdown",
      "source": [
        "Singleton Pattern:"
      ],
      "metadata": {
        "id": "2e0EsD2bohTm"
      }
    },
    {
      "cell_type": "code",
      "source": [
        "class Singleton:\n",
        "    _instance = None\n",
        "\n",
        "    def __new__(cls):\n",
        "        if cls._instance is None:\n",
        "            cls._instance = super().__new__(cls)\n",
        "        return cls._instance\n",
        "\n",
        "obj1 = Singleton()\n",
        "obj2 = Singleton()\n",
        "\n",
        "print(obj1 == obj2)  # Output: True, because both variables refer to the same instance\n",
        "print(obj1 is obj2)  # Output: True, because they refer to the same object in memory\n"
      ],
      "metadata": {
        "colab": {
          "base_uri": "https://localhost:8080/"
        },
        "id": "A_lsqAEzog8z",
        "outputId": "8e957b2c-fab1-4ba3-bc20-38588cab6723"
      },
      "execution_count": 6,
      "outputs": [
        {
          "output_type": "stream",
          "name": "stdout",
          "text": [
            "True\n",
            "True\n"
          ]
        }
      ]
    }
  ]
}