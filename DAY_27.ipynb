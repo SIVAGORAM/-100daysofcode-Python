{
  "nbformat": 4,
  "nbformat_minor": 0,
  "metadata": {
    "colab": {
      "provenance": [],
      "authorship_tag": "ABX9TyO9D3HpngmDMFLqRxlg8L7k",
      "include_colab_link": true
    },
    "kernelspec": {
      "name": "python3",
      "display_name": "Python 3"
    },
    "language_info": {
      "name": "python"
    }
  },
  "cells": [
    {
      "cell_type": "markdown",
      "metadata": {
        "id": "view-in-github",
        "colab_type": "text"
      },
      "source": [
        "<a href=\"https://colab.research.google.com/github/SIVAGORAM/-100daysofcode-Python/blob/main/DAY_27.ipynb\" target=\"_parent\"><img src=\"https://colab.research.google.com/assets/colab-badge.svg\" alt=\"Open In Colab\"/></a>"
      ]
    },
    {
      "cell_type": "code",
      "execution_count": 1,
      "metadata": {
        "colab": {
          "base_uri": "https://localhost:8080/"
        },
        "id": "AixS7pcOR_Gj",
        "outputId": "439bb945-b799-4a58-d109-7c1e52dda4b3"
      },
      "outputs": [
        {
          "output_type": "stream",
          "name": "stdout",
          "text": [
            "For only 49.00 dollars!\n"
          ]
        }
      ],
      "source": [
        "txt = \"For only {price:.2f} dollars!\"\n",
        "print(txt.format(price = 49))"
      ]
    },
    {
      "cell_type": "code",
      "source": [
        "#Using the % operator:\n",
        "name = \"John\"\n",
        "age = 30\n",
        "formatted_string = \"My name is %s and I am %d years old.\" % (name, age)\n",
        "print(formatted_string)\n"
      ],
      "metadata": {
        "colab": {
          "base_uri": "https://localhost:8080/"
        },
        "id": "A3nwm5ebSL19",
        "outputId": "c0ccfa77-f99e-4004-8e7c-45ac4649951f"
      },
      "execution_count": 2,
      "outputs": [
        {
          "output_type": "stream",
          "name": "stdout",
          "text": [
            "My name is John and I am 30 years old.\n"
          ]
        }
      ]
    },
    {
      "cell_type": "code",
      "source": [
        "#Using the .format() method:\n",
        "name = \"John\"\n",
        "age = 30\n",
        "formatted_string = \"My name is {} and I am {} years old.\".format(name, age)\n",
        "print(formatted_string)\n"
      ],
      "metadata": {
        "colab": {
          "base_uri": "https://localhost:8080/"
        },
        "id": "gApEvkrfS2Es",
        "outputId": "b5c21ddd-0fff-4882-a977-81a90fab5caf"
      },
      "execution_count": 3,
      "outputs": [
        {
          "output_type": "stream",
          "name": "stdout",
          "text": [
            "My name is John and I am 30 years old.\n"
          ]
        }
      ]
    },
    {
      "cell_type": "code",
      "source": [
        "#Using f-strings (formatted string literals):\n",
        "name = \"John\"\n",
        "age = 30\n",
        "formatted_string = f\"My name is {name} and I am {age} years old.\"\n",
        "print(formatted_string)\n"
      ],
      "metadata": {
        "colab": {
          "base_uri": "https://localhost:8080/"
        },
        "id": "NM-r6sGWS-M1",
        "outputId": "38010746-eaab-47e8-bf7e-485f30ec8c68"
      },
      "execution_count": 4,
      "outputs": [
        {
          "output_type": "stream",
          "name": "stdout",
          "text": [
            "My name is John and I am 30 years old.\n"
          ]
        }
      ]
    },
    {
      "cell_type": "code",
      "source": [
        "val = 'Geeks'\n",
        "print(f\"{val}for{val} is a portal for {val}.\")\n",
        "name = 'Tushar'\n",
        "age = 23\n",
        "print(f\"Hello, My name is {name} and I'm {age} years old.\")"
      ],
      "metadata": {
        "colab": {
          "base_uri": "https://localhost:8080/"
        },
        "id": "q0MrDck3TENe",
        "outputId": "7b6431a9-8331-442c-a301-2c3b1d1ef303"
      },
      "execution_count": 5,
      "outputs": [
        {
          "output_type": "stream",
          "name": "stdout",
          "text": [
            "GeeksforGeeks is a portal for Geeks.\n",
            "Hello, My name is Tushar and I'm 23 years old.\n"
          ]
        }
      ]
    },
    {
      "cell_type": "code",
      "source": [
        "#We can use it in a single statement as well.\n",
        "print(f\"{2 * 30}\")"
      ],
      "metadata": {
        "colab": {
          "base_uri": "https://localhost:8080/"
        },
        "id": "8vPf2tQ0THeD",
        "outputId": "2836a219-9f3d-42ad-9b22-c972dce18239"
      },
      "execution_count": 7,
      "outputs": [
        {
          "output_type": "stream",
          "name": "stdout",
          "text": [
            "60\n"
          ]
        }
      ]
    },
    {
      "cell_type": "code",
      "source": [
        "letter = \"Hey my name is {1} and I am from {0}\"\n",
        "country = \"India\"\n",
        "name = \"SIVA\"\n",
        "\n",
        "print(letter.format(country, name))\n",
        "print(f\"Hey my name is {name} and I am from {country}\")\n",
        "print(f\"We use f-strings like this: Hey my name is {name} and I am from {country}\")\n",
        "price = 49.09999\n",
        "txt = f\"For only {price:.2f} dollars!\"\n",
        "print(txt)\n",
        "# print(txt.format())\n",
        "print(type(f\"{2 * 30}\"))"
      ],
      "metadata": {
        "colab": {
          "base_uri": "https://localhost:8080/"
        },
        "id": "2RWsoyy_Tbhd",
        "outputId": "17047b61-d3fb-46b0-a4b3-2c45f7041c78"
      },
      "execution_count": 9,
      "outputs": [
        {
          "output_type": "stream",
          "name": "stdout",
          "text": [
            "Hey my name is SIVA and I am from India\n",
            "Hey my name is SIVA and I am from India\n",
            "We use f-strings like this: Hey my name is SIVA and I am from India\n",
            "For only 49.10 dollars!\n",
            "<class 'str'>\n"
          ]
        }
      ]
    },
    {
      "cell_type": "code",
      "source": [
        "# Example 1: Formatting integers and floats\n",
        "num1 = 10\n",
        "num2 = 3.14159\n",
        "formatted_string = \"Integer: %d, Float: %.2f\" % (num1, num2)\n",
        "print(formatted_string)\n",
        "\n",
        "# Example 2: Formatting strings\n",
        "name = \"Alice\"\n",
        "age = 25\n",
        "formatted_string = \"Hello, my name is %s and I am %d years old.\" % (name, age)\n",
        "print(formatted_string)\n"
      ],
      "metadata": {
        "colab": {
          "base_uri": "https://localhost:8080/"
        },
        "id": "r5Z8qF-iT32g",
        "outputId": "028ddfab-ce1b-46eb-cddc-7ab0a04ba5ab"
      },
      "execution_count": 10,
      "outputs": [
        {
          "output_type": "stream",
          "name": "stdout",
          "text": [
            "Integer: 10, Float: 3.14\n",
            "Hello, my name is Alice and I am 25 years old.\n"
          ]
        }
      ]
    },
    {
      "cell_type": "code",
      "source": [
        "# Example 1: Formatting integers and floats\n",
        "num1 = 10\n",
        "num2 = 3.14159\n",
        "formatted_string = \"Integer: {}, Float: {:.2f}\".format(num1, num2)\n",
        "print(formatted_string)\n",
        "\n",
        "# Example 2: Formatting strings\n",
        "name = \"Bob\"\n",
        "age = 30\n",
        "formatted_string = \"Hello, my name is {} and I am {} years old.\".format(name, age)\n",
        "print(formatted_string)\n"
      ],
      "metadata": {
        "colab": {
          "base_uri": "https://localhost:8080/"
        },
        "id": "LkYBa5G0T5by",
        "outputId": "592a9d65-9b25-4d6c-bdfb-5829367e75c7"
      },
      "execution_count": 11,
      "outputs": [
        {
          "output_type": "stream",
          "name": "stdout",
          "text": [
            "Integer: 10, Float: 3.14\n",
            "Hello, my name is Bob and I am 30 years old.\n"
          ]
        }
      ]
    },
    {
      "cell_type": "code",
      "source": [
        "# Example 1: Formatting integers and floats\n",
        "num1 = 10\n",
        "num2 = 3.14159\n",
        "formatted_string = f\"Integer: {num1}, Float: {num2:.2f}\"\n",
        "print(formatted_string)\n",
        "\n",
        "# Example 2: Formatting strings\n",
        "name = \"Charlie\"\n",
        "age = 35\n",
        "formatted_string = f\"Hello, my name is {name} and I am {age} years old.\"\n",
        "print(formatted_string)\n"
      ],
      "metadata": {
        "colab": {
          "base_uri": "https://localhost:8080/"
        },
        "id": "G96oF4j6T5eR",
        "outputId": "fa24be92-2813-4c5e-977b-394d123a8d79"
      },
      "execution_count": 12,
      "outputs": [
        {
          "output_type": "stream",
          "name": "stdout",
          "text": [
            "Integer: 10, Float: 3.14\n",
            "Hello, my name is Charlie and I am 35 years old.\n"
          ]
        }
      ]
    },
    {
      "cell_type": "code",
      "source": [],
      "metadata": {
        "id": "VUOH5buAT5h3"
      },
      "execution_count": null,
      "outputs": []
    }
  ]
}