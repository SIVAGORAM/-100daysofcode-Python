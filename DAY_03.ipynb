{
  "nbformat": 4,
  "nbformat_minor": 0,
  "metadata": {
    "colab": {
      "provenance": [],
      "authorship_tag": "ABX9TyM6QYupW0vMI+2d+Gy+Jsjl",
      "include_colab_link": true
    },
    "kernelspec": {
      "name": "python3",
      "display_name": "Python 3"
    },
    "language_info": {
      "name": "python"
    }
  },
  "cells": [
    {
      "cell_type": "markdown",
      "metadata": {
        "id": "view-in-github",
        "colab_type": "text"
      },
      "source": [
        "<a href=\"https://colab.research.google.com/github/SIVAGORAM/-100daysofcode-Python/blob/main/DAY_03.ipynb\" target=\"_parent\"><img src=\"https://colab.research.google.com/assets/colab-badge.svg\" alt=\"Open In Colab\"/></a>"
      ]
    },
    {
      "cell_type": "code",
      "execution_count": null,
      "metadata": {
        "colab": {
          "base_uri": "https://localhost:8080/"
        },
        "id": "k1ZsJFwyHOCT",
        "outputId": "43b321e6-8a96-4ede-8e67-c60c2b8fc6e9"
      },
      "outputs": [
        {
          "output_type": "stream",
          "name": "stdout",
          "text": [
            "Hello World 7\n",
            "60\n",
            "Bye\n",
            "25\n"
          ]
        }
      ],
      "source": [
        "print(\"Hello World\", 7)\n",
        "print(60)\n",
        "print(\"Bye\")\n",
        "print(5*5)"
      ]
    },
    {
      "cell_type": "code",
      "source": [
        "#You can also pass multiple arguments to print():\n",
        "name = \"Alice\"\n",
        "age = 30\n",
        "print(\"Name:\", name, \"Age:\", age)\n"
      ],
      "metadata": {
        "colab": {
          "base_uri": "https://localhost:8080/"
        },
        "id": "sBPdGQHKHUiB",
        "outputId": "807ffb94-83f9-4b1e-be8e-c7a0eb4a2cc5"
      },
      "execution_count": null,
      "outputs": [
        {
          "output_type": "stream",
          "name": "stdout",
          "text": [
            "Name: Alice Age: 30\n"
          ]
        }
      ]
    },
    {
      "cell_type": "code",
      "source": [
        "#You can also override the separator and end characters used by print() by specifying them as keyword arguments\n",
        "\n",
        "print(\"Hello\", \"World\", sep=\"-\", end=\"!!\\n\")\n"
      ],
      "metadata": {
        "colab": {
          "base_uri": "https://localhost:8080/"
        },
        "id": "4eQqQbOxMwIL",
        "outputId": "331fe73a-ee2f-41ad-e083-1c36c43a690c"
      },
      "execution_count": null,
      "outputs": [
        {
          "output_type": "stream",
          "name": "stdout",
          "text": [
            "Hello-World!!\n"
          ]
        }
      ]
    }
  ]
}