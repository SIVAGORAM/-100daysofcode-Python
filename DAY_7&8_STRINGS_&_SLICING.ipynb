{
  "nbformat": 4,
  "nbformat_minor": 0,
  "metadata": {
    "colab": {
      "provenance": [],
      "authorship_tag": "ABX9TyMYvEiU6/QsBVSvU22xjT1x",
      "include_colab_link": true
    },
    "kernelspec": {
      "name": "python3",
      "display_name": "Python 3"
    },
    "language_info": {
      "name": "python"
    }
  },
  "cells": [
    {
      "cell_type": "markdown",
      "metadata": {
        "id": "view-in-github",
        "colab_type": "text"
      },
      "source": [
        "<a href=\"https://colab.research.google.com/github/SIVAGORAM/-100daysofcode-Python/blob/main/DAY_7%268_STRINGS_%26_SLICING.ipynb\" target=\"_parent\"><img src=\"https://colab.research.google.com/assets/colab-badge.svg\" alt=\"Open In Colab\"/></a>"
      ]
    },
    {
      "cell_type": "code",
      "execution_count": null,
      "metadata": {
        "colab": {
          "base_uri": "https://localhost:8080/"
        },
        "id": "4BFLI8h3Ddg2",
        "outputId": "e4cb32c6-72e7-40a6-a4c7-a390cb7c610d"
      },
      "outputs": [
        {
          "output_type": "stream",
          "name": "stdout",
          "text": [
            "Hello, SIVA PRASAD\n",
            "S\n",
            "I\n",
            "V\n",
            "A\n",
            " \n",
            "Lets use a for loop\n",
            "\n",
            "H\n",
            "e\n",
            " \n",
            "s\n",
            "a\n",
            "i\n",
            "d\n",
            ",\n",
            " \n",
            "\n",
            "\n",
            "H\n",
            "i\n",
            " \n",
            "S\n",
            "I\n",
            "V\n",
            "A\n",
            "\n",
            "\n",
            "h\n",
            "e\n",
            "y\n",
            " \n",
            "I\n",
            " \n",
            "a\n",
            "m\n",
            " \n",
            "g\n",
            "o\n",
            "o\n",
            "d\n",
            "\n",
            "\n",
            "\"\n",
            "I\n",
            " \n",
            "w\n",
            "a\n",
            "n\n",
            "t\n",
            " \n",
            "t\n",
            "o\n",
            " \n",
            "e\n",
            "a\n",
            "t\n",
            " \n",
            "a\n",
            "n\n",
            " \n",
            "a\n",
            "p\n",
            "p\n",
            "l\n",
            "e\n"
          ]
        }
      ],
      "source": [
        "#STRINGS:-\n",
        "name = \"SIVA PRASAD\"\n",
        "friend = \"GORAM\"\n",
        "anotherFriend = 'RAM'\n",
        "apple = '''He said,\n",
        "Hi SIVA\n",
        "hey I am good\n",
        "\"I want to eat an apple'''\n",
        "\n",
        "print(\"Hello, \" + name)\n",
        "# print(apple)\n",
        "print(name[0])\n",
        "print(name[1])\n",
        "print(name[2])\n",
        "print(name[3])\n",
        "print(name[4])\n",
        "# print(name[5]) # Throws an error\n",
        "print(\"Lets use a for loop\\n\")\n",
        "for character in apple:\n",
        "    print(character)"
      ]
    },
    {
      "cell_type": "code",
      "source": [
        "#STRING SLICING:"
      ],
      "metadata": {
        "id": "Idx9VorYEeFe"
      },
      "execution_count": null,
      "outputs": []
    },
    {
      "cell_type": "code",
      "source": [
        "fruit = \"Mango\"\n",
        "mangoLen = len(fruit)\n",
        "print(mangoLen)\n",
        "print(fruit[0:4]) # including 0 but not 4\n",
        "print(fruit[1:4]) # including 1 but not 4\n",
        "print(fruit[:5])\n",
        "print(fruit[0:-3])\n",
        "print(fruit[:len(fruit)-3])\n",
        "print(fruit[-1:len(fruit) - 3])\n",
        "print(fruit[-3:-1])\n",
        "\n",
        "\n",
        "nm = \"SIVA GORAM\"\n",
        "print(nm[-4:-2])\n"
      ],
      "metadata": {
        "colab": {
          "base_uri": "https://localhost:8080/"
        },
        "id": "0I33BlGdGmQI",
        "outputId": "54c6f2d7-b063-4558-f181-38c13f780851"
      },
      "execution_count": null,
      "outputs": [
        {
          "output_type": "stream",
          "name": "stdout",
          "text": [
            "5\n",
            "Mang\n",
            "ang\n",
            "Mango\n",
            "Ma\n",
            "Ma\n",
            "\n",
            "ng\n",
            "OR\n"
          ]
        }
      ]
    },
    {
      "cell_type": "code",
      "source": [
        "fruit = \"Mango\"\n",
        "len1 = len(fruit)\n",
        "print(\"Mango is a\", len1, \"letter word.\")"
      ],
      "metadata": {
        "colab": {
          "base_uri": "https://localhost:8080/"
        },
        "id": "8B4lYne_F4JW",
        "outputId": "df56dbc6-5afc-49f1-bd03-77d64e878181"
      },
      "execution_count": null,
      "outputs": [
        {
          "output_type": "stream",
          "name": "stdout",
          "text": [
            "Mango is a 5 letter word.\n"
          ]
        }
      ]
    },
    {
      "cell_type": "code",
      "source": [
        "pie = \"ApplePie\"\n",
        "print(pie[:5])\n",
        "print(pie[6])\t#returns character at specified index"
      ],
      "metadata": {
        "colab": {
          "base_uri": "https://localhost:8080/"
        },
        "id": "lg6lfde1F8K8",
        "outputId": "9b3e937d-e4bc-4d5c-a504-8ccc0a53960a"
      },
      "execution_count": null,
      "outputs": [
        {
          "output_type": "stream",
          "name": "stdout",
          "text": [
            "Apple\n",
            "i\n"
          ]
        }
      ]
    },
    {
      "cell_type": "code",
      "source": [
        "pie = \"ApplePie\"\n",
        "print(pie[:5])      #Slicing from Start\n",
        "print(pie[5:])      #Slicing till End\n",
        "print(pie[2:6])     #Slicing in between\n",
        "print(pie[-8:])     #Slicing using negative index"
      ],
      "metadata": {
        "colab": {
          "base_uri": "https://localhost:8080/"
        },
        "id": "9SVMolchGAV3",
        "outputId": "7c3f5b74-fa0b-40cc-f931-f1420116d02b"
      },
      "execution_count": null,
      "outputs": [
        {
          "output_type": "stream",
          "name": "stdout",
          "text": [
            "Apple\n",
            "Pie\n",
            "pleP\n",
            "ApplePie\n"
          ]
        }
      ]
    },
    {
      "cell_type": "code",
      "source": [
        "alphabets = \"ABCDE\"\n",
        "for i in alphabets:\n",
        "    print(i)"
      ],
      "metadata": {
        "colab": {
          "base_uri": "https://localhost:8080/"
        },
        "id": "MlA3JV5AGDH-",
        "outputId": "8026f08f-2d01-4708-ee5a-de9b975e8cc9"
      },
      "execution_count": null,
      "outputs": [
        {
          "output_type": "stream",
          "name": "stdout",
          "text": [
            "A\n",
            "B\n",
            "C\n",
            "D\n",
            "E\n"
          ]
        }
      ]
    },
    {
      "cell_type": "code",
      "source": [],
      "metadata": {
        "id": "kl1Dc3-zGFb6"
      },
      "execution_count": null,
      "outputs": []
    }
  ]
}