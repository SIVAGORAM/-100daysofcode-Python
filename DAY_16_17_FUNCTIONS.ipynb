{
  "nbformat": 4,
  "nbformat_minor": 0,
  "metadata": {
    "colab": {
      "provenance": [],
      "authorship_tag": "ABX9TyOfsb/pmAx+faPdt3VTYnyJ",
      "include_colab_link": true
    },
    "kernelspec": {
      "name": "python3",
      "display_name": "Python 3"
    },
    "language_info": {
      "name": "python"
    }
  },
  "cells": [
    {
      "cell_type": "markdown",
      "metadata": {
        "id": "view-in-github",
        "colab_type": "text"
      },
      "source": [
        "<a href=\"https://colab.research.google.com/github/SIVAGORAM/-100daysofcode-Python/blob/main/DAY_16_17_FUNCTIONS.ipynb\" target=\"_parent\"><img src=\"https://colab.research.google.com/assets/colab-badge.svg\" alt=\"Open In Colab\"/></a>"
      ]
    },
    {
      "cell_type": "code",
      "execution_count": null,
      "metadata": {
        "id": "kSHk_h32c1l2"
      },
      "outputs": [],
      "source": [
        "#SYNTAX\n",
        "def function_name(parameters):\n",
        "  pass\n",
        "  # Code and Statements"
      ]
    },
    {
      "cell_type": "code",
      "source": [
        "#Calling a function:\n",
        "def name(fname, lname):\n",
        "    print(\"Hello,\", fname, lname)\n",
        "\n",
        "name(\"Sam\", \"Wilson\")"
      ],
      "metadata": {
        "colab": {
          "base_uri": "https://localhost:8080/"
        },
        "id": "ibtwgiFYfDOk",
        "outputId": "dc67e8ac-3285-48fc-8100-0d5e47ee3cc3"
      },
      "execution_count": 1,
      "outputs": [
        {
          "output_type": "stream",
          "name": "stdout",
          "text": [
            "Hello, Sam Wilson\n"
          ]
        }
      ]
    },
    {
      "cell_type": "code",
      "source": [
        "#A function that adds two numbers:\n",
        "def add_numbers(a, b):\n",
        "    return a + b\n",
        "\n",
        "result = add_numbers(5, 3)\n",
        "print(\"Result:\", result)  # Output: Result: 8\n"
      ],
      "metadata": {
        "colab": {
          "base_uri": "https://localhost:8080/"
        },
        "id": "yJXfaJPMfLCT",
        "outputId": "58a70b79-b8a9-442b-8471-a7ddadccd080"
      },
      "execution_count": 2,
      "outputs": [
        {
          "output_type": "stream",
          "name": "stdout",
          "text": [
            "Result: 8\n"
          ]
        }
      ]
    },
    {
      "cell_type": "code",
      "source": [
        "#A function with default argument values:\n",
        "def greet(name=\"World\"):\n",
        "    return \"Hello, \" + name + \"!\"\n",
        "\n",
        "print(greet())  # Output: Hello, World!\n",
        "print(greet(\"Alice\"))  # Output: Hello, Alice!\n"
      ],
      "metadata": {
        "colab": {
          "base_uri": "https://localhost:8080/"
        },
        "id": "_Qk034_XgvfL",
        "outputId": "bb7d92be-a5b3-45c8-f94c-cd4ad1e44590"
      },
      "execution_count": 3,
      "outputs": [
        {
          "output_type": "stream",
          "name": "stdout",
          "text": [
            "Hello, World!\n",
            "Hello, Alice!\n"
          ]
        }
      ]
    },
    {
      "cell_type": "code",
      "source": [
        "#A function that accepts a variable number of arguments:\n",
        "def sum_all(*args):\n",
        "    return sum(args)\n",
        "\n",
        "print(sum_all(1, 2, 3, 4, 5))  # Output: 15\n"
      ],
      "metadata": {
        "colab": {
          "base_uri": "https://localhost:8080/"
        },
        "id": "La3Q1slpg1Lb",
        "outputId": "e9062a44-fb21-4403-9277-bd45b051d8f9"
      },
      "execution_count": 4,
      "outputs": [
        {
          "output_type": "stream",
          "name": "stdout",
          "text": [
            "15\n"
          ]
        }
      ]
    },
    {
      "cell_type": "code",
      "source": [
        "#Using lambda functions:\n",
        "double = lambda x: x * 2\n",
        "print(double(5))  # Output: 10\n"
      ],
      "metadata": {
        "colab": {
          "base_uri": "https://localhost:8080/"
        },
        "id": "b71U8sVEg9iy",
        "outputId": "8060910d-7123-41f8-8964-db3e7a332e62"
      },
      "execution_count": 5,
      "outputs": [
        {
          "output_type": "stream",
          "name": "stdout",
          "text": [
            "10\n"
          ]
        }
      ]
    },
    {
      "cell_type": "code",
      "source": [
        "#A function that takes another function as an argument:\n",
        "def apply_func(func, x):\n",
        "    return func(x)\n",
        "\n",
        "def square(x):\n",
        "    return x * x\n",
        "\n",
        "print(apply_func(square, 3))  # Output: 9\n"
      ],
      "metadata": {
        "colab": {
          "base_uri": "https://localhost:8080/"
        },
        "id": "TjikGz56hDS0",
        "outputId": "d48705d1-137e-4dfa-c50e-df709e584aa9"
      },
      "execution_count": 6,
      "outputs": [
        {
          "output_type": "stream",
          "name": "stdout",
          "text": [
            "9\n"
          ]
        }
      ]
    },
    {
      "cell_type": "code",
      "source": [
        "#A function that calls itself recursively:\n",
        "def factorial(n):\n",
        "    if n == 0:\n",
        "        return 1\n",
        "    else:\n",
        "        return n * factorial(n-1)\n",
        "\n",
        "print(factorial(5))  # Output: 120\n"
      ],
      "metadata": {
        "colab": {
          "base_uri": "https://localhost:8080/"
        },
        "id": "1OReWKquhH54",
        "outputId": "7cbd54a3-1bfe-4531-e702-1d02f43a8e90"
      },
      "execution_count": 8,
      "outputs": [
        {
          "output_type": "stream",
          "name": "stdout",
          "text": [
            "120\n"
          ]
        }
      ]
    },
    {
      "cell_type": "code",
      "source": [],
      "metadata": {
        "id": "YMuwrkK4hSNk"
      },
      "execution_count": null,
      "outputs": []
    },
    {
      "cell_type": "code",
      "source": [
        "#A generator function to generate Fibonacci sequence:\n",
        "def fibonacci():\n",
        "    a, b = 0, 1\n",
        "    while True:\n",
        "        yield a\n",
        "        a, b = b, a + b\n",
        "\n",
        "fib = fibonacci()\n",
        "for _ in range(10):\n",
        "    print(next(fib))  # Output: 0 1 1 2 3 5 8 13 21 34\n"
      ],
      "metadata": {
        "colab": {
          "base_uri": "https://localhost:8080/"
        },
        "id": "ONmpMM9ghOW0",
        "outputId": "f922c2de-032d-4263-fe0d-172393b26136"
      },
      "execution_count": 7,
      "outputs": [
        {
          "output_type": "stream",
          "name": "stdout",
          "text": [
            "0\n",
            "1\n",
            "1\n",
            "2\n",
            "3\n",
            "5\n",
            "8\n",
            "13\n",
            "21\n",
            "34\n"
          ]
        }
      ]
    }
  ]
}