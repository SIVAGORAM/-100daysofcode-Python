{
  "nbformat": 4,
  "nbformat_minor": 0,
  "metadata": {
    "colab": {
      "provenance": [],
      "authorship_tag": "ABX9TyMNt3FJMGbeJMt7xwhPbD48",
      "include_colab_link": true
    },
    "kernelspec": {
      "name": "python3",
      "display_name": "Python 3"
    },
    "language_info": {
      "name": "python"
    }
  },
  "cells": [
    {
      "cell_type": "markdown",
      "metadata": {
        "id": "view-in-github",
        "colab_type": "text"
      },
      "source": [
        "<a href=\"https://colab.research.google.com/github/SIVAGORAM/-100daysofcode-Python/blob/main/DAY_10_if_else_.ipynb\" target=\"_parent\"><img src=\"https://colab.research.google.com/assets/colab-badge.svg\" alt=\"Open In Colab\"/></a>"
      ]
    },
    {
      "cell_type": "code",
      "source": [
        "a = int(input(\"Enter your age: \"))\n",
        "print(\"Your age is:\", a)\n",
        "# Conditional operators\n",
        "# >, <, >=, <=, ==, !=\n",
        "# print(a>18)\n",
        "# print(a<=18)\n",
        "# print(a==18)\n",
        "# print(a!=18)\n",
        "if(a>18):\n",
        "  print(\"You can drive\")\n",
        "  print(\"Yes\")\n",
        "else:\n",
        "  print(\"You cannot drive\")\n",
        "  print(\"No\")\n",
        "  print(\"Yay!\")"
      ],
      "metadata": {
        "colab": {
          "base_uri": "https://localhost:8080/"
        },
        "id": "b36H_XcuvNBs",
        "outputId": "62413d40-03fb-4247-c2dd-38a2226a7332"
      },
      "execution_count": 5,
      "outputs": [
        {
          "output_type": "stream",
          "name": "stdout",
          "text": [
            "Enter your age: 20\n",
            "Your age is: 20\n",
            "You can drive\n",
            "Yes\n"
          ]
        }
      ]
    },
    {
      "cell_type": "code",
      "source": [
        "#iF Else :-\n",
        "applePrice = 210\n",
        "budget = 200\n",
        "if (applePrice <= budget):\n",
        "    print(\"Alexa, add 1 kg Apples to the cart.\")\n",
        "else:\n",
        "    print(\"Alexa, do not add Apples to the cart.\")"
      ],
      "metadata": {
        "colab": {
          "base_uri": "https://localhost:8080/"
        },
        "id": "v-k2XLcuvDPW",
        "outputId": "a99aace5-ec86-46f5-fc9d-554914fa6d63"
      },
      "execution_count": 4,
      "outputs": [
        {
          "output_type": "stream",
          "name": "stdout",
          "text": [
            "Alexa, do not add Apples to the cart.\n"
          ]
        }
      ]
    },
    {
      "cell_type": "code",
      "source": [
        "applePrice = 10\n",
        "budget = 200\n",
        "if (budget - applePrice > 50):\n",
        "    print(\"Alexa, add 1 kg Apples to the cart.\")\n",
        "else:\n",
        "    print(\"Alexa, do not add Apples to the cart.\")"
      ],
      "metadata": {
        "colab": {
          "base_uri": "https://localhost:8080/"
        },
        "id": "ImbXqa8NvDSN",
        "outputId": "25e7dbbf-1368-4a1f-ccbe-148b1d37f169"
      },
      "execution_count": 6,
      "outputs": [
        {
          "output_type": "stream",
          "name": "stdout",
          "text": [
            "Alexa, add 1 kg Apples to the cart.\n"
          ]
        }
      ]
    },
    {
      "cell_type": "code",
      "source": [
        "num = 0\n",
        "if (num < 0):\n",
        "    print(\"Number is negative.\")\n",
        "elif (num == 0):\n",
        "    print(\"Number is Zero.\")\n",
        "else:\n",
        "    print(\"Number is positive.\")"
      ],
      "metadata": {
        "colab": {
          "base_uri": "https://localhost:8080/"
        },
        "id": "yZqwV37fvDUs",
        "outputId": "8c695f20-1859-4d78-ba1c-37c108a3162a"
      },
      "execution_count": 2,
      "outputs": [
        {
          "output_type": "stream",
          "name": "stdout",
          "text": [
            "Number is Zero.\n"
          ]
        }
      ]
    },
    {
      "cell_type": "code",
      "source": [
        "# if Elif Else:-\n",
        "num = int(input(\"Enter the value of num: \"))\n",
        "if (num < 0):\n",
        "  print(\"Number is negative.\")\n",
        "elif (num == 0):\n",
        "  print(\"Number is Zero.\")\n",
        "elif (num == 999):\n",
        "  print(\"Number is Special.\")\n",
        "else:\n",
        "  print(\"Number is positive.\")\n",
        "\n",
        "print(\"I am happy now\")"
      ],
      "metadata": {
        "colab": {
          "base_uri": "https://localhost:8080/"
        },
        "id": "hCZYw5yNvfVJ",
        "outputId": "4e58c2c9-5c34-4274-8101-77c0f8c80c80"
      },
      "execution_count": 7,
      "outputs": [
        {
          "output_type": "stream",
          "name": "stdout",
          "text": [
            "Enter the value of num: 0\n",
            "Number is Zero.\n",
            "I am happy now\n"
          ]
        }
      ]
    },
    {
      "cell_type": "code",
      "source": [
        "#Nested If else:-\n",
        "num = 18\n",
        "if (num < 0):\n",
        "    print(\"Number is negative.\")\n",
        "elif (num > 0):\n",
        "    if (num <= 10):\n",
        "        print(\"Number is between 1-10\")\n",
        "    elif (num > 10 and num <= 20):\n",
        "        print(\"Number is between 11-20\")\n",
        "    else:\n",
        "        print(\"Number is greater than 20\")\n",
        "else:\n",
        "    print(\"Number is zero\")"
      ],
      "metadata": {
        "colab": {
          "base_uri": "https://localhost:8080/"
        },
        "id": "aNT0nOwfvDXG",
        "outputId": "5e59613d-ce4e-4258-a50f-1bba470fffaf"
      },
      "execution_count": 3,
      "outputs": [
        {
          "output_type": "stream",
          "name": "stdout",
          "text": [
            "Number is between 11-20\n"
          ]
        }
      ]
    }
  ]
}