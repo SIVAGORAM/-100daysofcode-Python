{
  "nbformat": 4,
  "nbformat_minor": 0,
  "metadata": {
    "colab": {
      "provenance": [],
      "authorship_tag": "ABX9TyOc+5i1YHz9a2sQ6tTYiw+e",
      "include_colab_link": true
    },
    "kernelspec": {
      "name": "python3",
      "display_name": "Python 3"
    },
    "language_info": {
      "name": "python"
    }
  },
  "cells": [
    {
      "cell_type": "markdown",
      "metadata": {
        "id": "view-in-github",
        "colab_type": "text"
      },
      "source": [
        "<a href=\"https://colab.research.google.com/github/SIVAGORAM/-100daysofcode-Python/blob/main/DAY_41_42.ipynb\" target=\"_parent\"><img src=\"https://colab.research.google.com/assets/colab-badge.svg\" alt=\"Open In Colab\"/></a>"
      ]
    },
    {
      "cell_type": "markdown",
      "source": [
        "If ... Else in One Line"
      ],
      "metadata": {
        "id": "NLCfcmmIgkt_"
      }
    },
    {
      "cell_type": "code",
      "execution_count": 1,
      "metadata": {
        "colab": {
          "base_uri": "https://localhost:8080/"
        },
        "id": "IlAwzi98djmE",
        "outputId": "046c022b-f626-491a-f59f-37fbc7fcbb71"
      },
      "outputs": [
        {
          "output_type": "stream",
          "name": "stdout",
          "text": [
            "B\n"
          ]
        }
      ],
      "source": [
        "a = 2\n",
        "b = 330\n",
        "print(\"A\") if a > b else print(\"B\")"
      ]
    },
    {
      "cell_type": "code",
      "source": [
        "#One line if else statement, with 3 conditions:\n",
        "\n",
        "a = 330\n",
        "b = 330\n",
        "print(\"A\") if a > b else print(\"=\") if a == b else print(\"B\")"
      ],
      "metadata": {
        "colab": {
          "base_uri": "https://localhost:8080/"
        },
        "id": "bryv17AGgp0O",
        "outputId": "1c0d38c7-cb31-481c-befa-828377b60553"
      },
      "execution_count": 2,
      "outputs": [
        {
          "output_type": "stream",
          "name": "stdout",
          "text": [
            "=\n"
          ]
        }
      ]
    },
    {
      "cell_type": "code",
      "source": [
        "# One-liner if...else statement\n",
        "x = 10\n",
        "print(\"Even\" if x % 2 == 0 else \"Odd\")\n"
      ],
      "metadata": {
        "colab": {
          "base_uri": "https://localhost:8080/"
        },
        "id": "C5itA3CTgp23",
        "outputId": "e843beb1-112a-4a20-c660-983267b796a4"
      },
      "execution_count": 6,
      "outputs": [
        {
          "output_type": "stream",
          "name": "stdout",
          "text": [
            "Even\n"
          ]
        }
      ]
    },
    {
      "cell_type": "code",
      "source": [
        "x = 10\n",
        "if x % 2 == 0:\n",
        "    print(\"Even\")\n",
        "else:\n",
        "    print(\"Odd\")\n"
      ],
      "metadata": {
        "colab": {
          "base_uri": "https://localhost:8080/"
        },
        "id": "UVyIer5ygp5Y",
        "outputId": "15d25d82-a39e-4274-bd63-f559417adb29"
      },
      "execution_count": 7,
      "outputs": [
        {
          "output_type": "stream",
          "name": "stdout",
          "text": [
            "Even\n"
          ]
        }
      ]
    },
    {
      "cell_type": "code",
      "source": [
        "# Assign the value of 'result' based on the condition\n",
        "x = 5\n",
        "result = \"Positive\" if x > 0 else \"Non-positive\"\n",
        "print(result)\n"
      ],
      "metadata": {
        "colab": {
          "base_uri": "https://localhost:8080/"
        },
        "id": "olWQEi6Wgp7T",
        "outputId": "13f29474-363d-4ef7-dd58-992b0fa8a079"
      },
      "execution_count": 8,
      "outputs": [
        {
          "output_type": "stream",
          "name": "stdout",
          "text": [
            "Positive\n"
          ]
        }
      ]
    },
    {
      "cell_type": "code",
      "source": [
        "# Perform different operations based on the condition\n",
        "x = 10\n",
        "y = 20\n",
        "result = x + y if x > y else x - y\n",
        "print(result)\n"
      ],
      "metadata": {
        "colab": {
          "base_uri": "https://localhost:8080/"
        },
        "id": "c4ksNq3Vgp-4",
        "outputId": "ac7c67ae-85bf-4c6b-a31d-647543839b67"
      },
      "execution_count": 9,
      "outputs": [
        {
          "output_type": "stream",
          "name": "stdout",
          "text": [
            "-10\n"
          ]
        }
      ]
    },
    {
      "cell_type": "code",
      "source": [
        "# Determine if a number is even or odd\n",
        "num = 7\n",
        "print(\"Even\" if num % 2 == 0 else \"Odd\")\n"
      ],
      "metadata": {
        "colab": {
          "base_uri": "https://localhost:8080/"
        },
        "id": "Kah-aSdhhmm_",
        "outputId": "33714ba4-7b26-4549-bc4d-2e53faeb5ddd"
      },
      "execution_count": 10,
      "outputs": [
        {
          "output_type": "stream",
          "name": "stdout",
          "text": [
            "Odd\n"
          ]
        }
      ]
    },
    {
      "cell_type": "code",
      "source": [
        "# Check if a string is empty or not\n",
        "string = \"Hello\"\n",
        "print(\"String is not empty\" if string else \"String is empty\")\n"
      ],
      "metadata": {
        "colab": {
          "base_uri": "https://localhost:8080/"
        },
        "id": "sLSxha7ZhmvG",
        "outputId": "b63f621e-c8b0-4fd6-b1af-0fc1aef2e774"
      },
      "execution_count": 11,
      "outputs": [
        {
          "output_type": "stream",
          "name": "stdout",
          "text": [
            "String is not empty\n"
          ]
        }
      ]
    },
    {
      "cell_type": "code",
      "source": [
        "# Check multiple conditions using the ternary conditional operator\n",
        "x = 10\n",
        "print(\"Positive\" if x > 0 else (\"Zero\" if x == 0 else \"Negative\"))\n"
      ],
      "metadata": {
        "colab": {
          "base_uri": "https://localhost:8080/"
        },
        "id": "pAL4hh4Rhmyc",
        "outputId": "e9403d04-1a06-4de1-8d1f-a88668a785a7"
      },
      "execution_count": 12,
      "outputs": [
        {
          "output_type": "stream",
          "name": "stdout",
          "text": [
            "Positive\n"
          ]
        }
      ]
    },
    {
      "cell_type": "code",
      "source": [],
      "metadata": {
        "id": "6aedTx-Gh31K"
      },
      "execution_count": null,
      "outputs": []
    },
    {
      "cell_type": "markdown",
      "source": [
        "Enumerate function in python"
      ],
      "metadata": {
        "id": "yZu-ILmjiOjA"
      }
    },
    {
      "cell_type": "code",
      "source": [],
      "metadata": {
        "id": "NzeYw324iN_m"
      },
      "execution_count": null,
      "outputs": []
    },
    {
      "cell_type": "code",
      "source": [
        "# Loop over a list and print the index and value of each element\n",
        "fruits = ['apple', 'banana', 'mango']\n",
        "for index, fruit in enumerate(fruits):\n",
        "    print(index, fruit)\n"
      ],
      "metadata": {
        "colab": {
          "base_uri": "https://localhost:8080/"
        },
        "id": "GVIMYb6Lh34j",
        "outputId": "9a46559c-6c09-4940-ce62-7ca912ff8bb7"
      },
      "execution_count": 13,
      "outputs": [
        {
          "output_type": "stream",
          "name": "stdout",
          "text": [
            "0 apple\n",
            "1 banana\n",
            "2 mango\n"
          ]
        }
      ]
    },
    {
      "cell_type": "code",
      "source": [
        "# Loop over a list and print the index (starting at 1) and value of each element\n",
        "fruits = ['apple', 'banana', 'mango']\n",
        "for index, fruit in enumerate(fruits, start=1):\n",
        "    print(index, fruit)\n"
      ],
      "metadata": {
        "colab": {
          "base_uri": "https://localhost:8080/"
        },
        "id": "1c54nYf4iTME",
        "outputId": "37555e21-c621-4c48-e709-5df6c35f70f6"
      },
      "execution_count": 14,
      "outputs": [
        {
          "output_type": "stream",
          "name": "stdout",
          "text": [
            "1 apple\n",
            "2 banana\n",
            "3 mango\n"
          ]
        }
      ]
    },
    {
      "cell_type": "code",
      "source": [
        "fruits = ['apple', 'banana', 'mango']\n",
        "for index, fruit in enumerate(fruits):\n",
        "    print(f'{index+1}: {fruit}')\n"
      ],
      "metadata": {
        "colab": {
          "base_uri": "https://localhost:8080/"
        },
        "id": "-NEdzHQliTOA",
        "outputId": "50774e77-40f9-4901-bcb2-266b347843ef"
      },
      "execution_count": 15,
      "outputs": [
        {
          "output_type": "stream",
          "name": "stdout",
          "text": [
            "1: apple\n",
            "2: banana\n",
            "3: mango\n"
          ]
        }
      ]
    },
    {
      "cell_type": "code",
      "source": [
        "# Loop over a tuple and print the index and value of each element\n",
        "colors = ('red', 'green', 'blue')\n",
        "for index, color in enumerate(colors):\n",
        "    print(index, color)\n"
      ],
      "metadata": {
        "colab": {
          "base_uri": "https://localhost:8080/"
        },
        "id": "xmM5wWVOiTRf",
        "outputId": "42e4d87c-d218-4ec9-fb18-194810e305ff"
      },
      "execution_count": 16,
      "outputs": [
        {
          "output_type": "stream",
          "name": "stdout",
          "text": [
            "0 red\n",
            "1 green\n",
            "2 blue\n"
          ]
        }
      ]
    },
    {
      "cell_type": "code",
      "source": [
        "# Loop over a string and print the index and value of each character\n",
        "s = 'hello'\n",
        "for index, c in enumerate(s):\n",
        "    print(index, c)\n"
      ],
      "metadata": {
        "colab": {
          "base_uri": "https://localhost:8080/"
        },
        "id": "bWkxNNCuiarD",
        "outputId": "c9dea8a0-2983-4510-bb07-0d6da5241d68"
      },
      "execution_count": 17,
      "outputs": [
        {
          "output_type": "stream",
          "name": "stdout",
          "text": [
            "0 h\n",
            "1 e\n",
            "2 l\n",
            "3 l\n",
            "4 o\n"
          ]
        }
      ]
    },
    {
      "cell_type": "code",
      "source": [
        "word = 'Python'\n",
        "for index, letter in enumerate(word):\n",
        "    print(index, letter)\n"
      ],
      "metadata": {
        "colab": {
          "base_uri": "https://localhost:8080/"
        },
        "id": "N5aDycg2iatu",
        "outputId": "3832aa6a-adb6-4c14-8c36-097c2825685d"
      },
      "execution_count": 18,
      "outputs": [
        {
          "output_type": "stream",
          "name": "stdout",
          "text": [
            "0 P\n",
            "1 y\n",
            "2 t\n",
            "3 h\n",
            "4 o\n",
            "5 n\n"
          ]
        }
      ]
    },
    {
      "cell_type": "code",
      "source": [
        "#Creating a dictionary from a list with indices:\n",
        "\n",
        "fruits = ['apple', 'banana', 'cherry']\n",
        "indexed_fruits = {index: fruit for index, fruit in enumerate(fruits)}\n",
        "print(indexed_fruits)\n"
      ],
      "metadata": {
        "colab": {
          "base_uri": "https://localhost:8080/"
        },
        "id": "jYJdfyIviaxZ",
        "outputId": "9efdd308-7a2e-49ac-fede-e0018039bba1"
      },
      "execution_count": 19,
      "outputs": [
        {
          "output_type": "stream",
          "name": "stdout",
          "text": [
            "{0: 'apple', 1: 'banana', 2: 'cherry'}\n"
          ]
        }
      ]
    },
    {
      "cell_type": "code",
      "source": [
        "#Looping over a list in reverse with indices:\n",
        "fruits = ['apple', 'banana', 'cherry']\n",
        "for index, fruit in enumerate(reversed(fruits)):\n",
        "    print(index, fruit)\n"
      ],
      "metadata": {
        "colab": {
          "base_uri": "https://localhost:8080/"
        },
        "id": "WabnFB7Ki2MZ",
        "outputId": "e3b98fbd-e266-4abe-a8b7-e5913c50b543"
      },
      "execution_count": 20,
      "outputs": [
        {
          "output_type": "stream",
          "name": "stdout",
          "text": [
            "0 cherry\n",
            "1 banana\n",
            "2 apple\n"
          ]
        }
      ]
    },
    {
      "cell_type": "code",
      "source": [
        "#Extracting Even-Indexed Elements:\n",
        "\n",
        "numbers = [1, 2, 3, 4, 5, 6, 7, 8, 9, 10]\n",
        "even_indexed = [num for index, num in enumerate(numbers) if index % 2 == 0]\n",
        "print(even_indexed)\n"
      ],
      "metadata": {
        "colab": {
          "base_uri": "https://localhost:8080/"
        },
        "id": "6nwTI538i2ON",
        "outputId": "cba5c5a5-7ace-439d-f4e8-51e97c8103dc"
      },
      "execution_count": 21,
      "outputs": [
        {
          "output_type": "stream",
          "name": "stdout",
          "text": [
            "[1, 3, 5, 7, 9]\n"
          ]
        }
      ]
    },
    {
      "cell_type": "code",
      "source": [
        "#Finding the index of a specific element:\n",
        "\n",
        "fruits = ['apple', 'banana', 'cherry']\n",
        "search_item = 'banana'\n",
        "for index, fruit in enumerate(fruits):\n",
        "    if fruit == search_item:\n",
        "        print(f\"{search_item} found at index {index}\")\n",
        "        break\n"
      ],
      "metadata": {
        "colab": {
          "base_uri": "https://localhost:8080/"
        },
        "id": "FQtkq5AyjLIp",
        "outputId": "0a46f473-db09-4987-97e9-a6b6a5282983"
      },
      "execution_count": 22,
      "outputs": [
        {
          "output_type": "stream",
          "name": "stdout",
          "text": [
            "banana found at index 1\n"
          ]
        }
      ]
    },
    {
      "cell_type": "code",
      "source": [
        "#Iterating over a list of tuples and accessing both index and value:\n",
        "\n",
        "coordinates = [(10, 20), (30, 40), (50, 60)]\n",
        "for index, (x, y) in enumerate(coordinates):\n",
        "    print(f\"Point {index+1}: ({x}, {y})\")\n"
      ],
      "metadata": {
        "colab": {
          "base_uri": "https://localhost:8080/"
        },
        "id": "XQ9VqJ5EjLMM",
        "outputId": "f1ee1c65-a4b2-41c8-87b2-1b539cb9354d"
      },
      "execution_count": 23,
      "outputs": [
        {
          "output_type": "stream",
          "name": "stdout",
          "text": [
            "Point 1: (10, 20)\n",
            "Point 2: (30, 40)\n",
            "Point 3: (50, 60)\n"
          ]
        }
      ]
    },
    {
      "cell_type": "code",
      "source": [
        "#Simultaneously updating values in a list using enumerate:\n",
        "\n",
        "numbers = [1, 2, 3, 4, 5]\n",
        "for index, num in enumerate(numbers):\n",
        "    numbers[index] = num * 2\n",
        "print(numbers)\n"
      ],
      "metadata": {
        "colab": {
          "base_uri": "https://localhost:8080/"
        },
        "id": "S_T0vX2DjaK7",
        "outputId": "1ef66612-f2e9-4583-d4cd-18528dbb8d68"
      },
      "execution_count": 24,
      "outputs": [
        {
          "output_type": "stream",
          "name": "stdout",
          "text": [
            "[2, 4, 6, 8, 10]\n"
          ]
        }
      ]
    },
    {
      "cell_type": "code",
      "source": [
        "#Iterating over multiple lists simultaneously using zip and enumerate:\n",
        "\n",
        "names = ['Alice', 'Bob', 'Charlie']\n",
        "ages = [25, 30, 35]\n",
        "for index, (name, age) in enumerate(zip(names, ages)):\n",
        "    print(f\"{name} is {age} years old.\")\n"
      ],
      "metadata": {
        "colab": {
          "base_uri": "https://localhost:8080/"
        },
        "id": "0PXW_7jyjaNM",
        "outputId": "081228f5-4ce3-4291-bec5-ded1c62fac51"
      },
      "execution_count": 25,
      "outputs": [
        {
          "output_type": "stream",
          "name": "stdout",
          "text": [
            "Alice is 25 years old.\n",
            "Bob is 30 years old.\n",
            "Charlie is 35 years old.\n"
          ]
        }
      ]
    },
    {
      "cell_type": "code",
      "source": [
        "#Creating a dictionary with reversed key-value pairs using enumerate:\n",
        "fruits = ['apple', 'banana', 'cherry']\n",
        "indexed_fruits_rev = {fruit: index for index, fruit in enumerate(fruits)}\n",
        "print(indexed_fruits_rev)\n",
        "\n"
      ],
      "metadata": {
        "colab": {
          "base_uri": "https://localhost:8080/"
        },
        "id": "IJDoZhUdjaPX",
        "outputId": "aba70f80-2dae-4eee-fe1f-82d6aec79ad4"
      },
      "execution_count": 26,
      "outputs": [
        {
          "output_type": "stream",
          "name": "stdout",
          "text": [
            "{'apple': 0, 'banana': 1, 'cherry': 2}\n"
          ]
        }
      ]
    },
    {
      "cell_type": "code",
      "source": [
        "#Combining enumerate with list comprehension for filtering based on conditions:\n",
        "numbers = [10, 20, 30, 40, 50, 60]\n",
        "even_indices_squares = [num ** 2 for index, num in enumerate(numbers) if index % 2 == 0]\n",
        "print(even_indices_squares)\n"
      ],
      "metadata": {
        "colab": {
          "base_uri": "https://localhost:8080/"
        },
        "id": "XtEleVJsjaSy",
        "outputId": "c5e3009d-f98f-4b8b-83e7-2f86093290be"
      },
      "execution_count": 27,
      "outputs": [
        {
          "output_type": "stream",
          "name": "stdout",
          "text": [
            "[100, 900, 2500]\n"
          ]
        }
      ]
    }
  ]
}