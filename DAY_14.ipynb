{
  "nbformat": 4,
  "nbformat_minor": 0,
  "metadata": {
    "colab": {
      "provenance": [],
      "authorship_tag": "ABX9TyPU1ig6aZG/T5t7arV7V7og",
      "include_colab_link": true
    },
    "kernelspec": {
      "name": "python3",
      "display_name": "Python 3"
    },
    "language_info": {
      "name": "python"
    }
  },
  "cells": [
    {
      "cell_type": "markdown",
      "metadata": {
        "id": "view-in-github",
        "colab_type": "text"
      },
      "source": [
        "<a href=\"https://colab.research.google.com/github/SIVAGORAM/-100daysofcode-Python/blob/main/DAY_14.ipynb\" target=\"_parent\"><img src=\"https://colab.research.google.com/assets/colab-badge.svg\" alt=\"Open In Colab\"/></a>"
      ]
    },
    {
      "cell_type": "code",
      "execution_count": 2,
      "metadata": {
        "colab": {
          "base_uri": "https://localhost:8080/"
        },
        "id": "hyFJNqJW_ORI",
        "outputId": "706cf618-eee4-451a-80f0-ee8cbd7f78e5"
      },
      "outputs": [
        {
          "output_type": "stream",
          "name": "stdout",
          "text": [
            "5\n",
            "4\n",
            "3\n",
            "2\n",
            "1\n"
          ]
        }
      ],
      "source": [
        "count = 5\n",
        "while (count > 0):\n",
        "  print(count)\n",
        "  count = count - 1"
      ]
    },
    {
      "cell_type": "code",
      "source": [
        "x = 5\n",
        "while (x > 0):\n",
        "    print(x)\n",
        "    x = x - 1\n",
        "else:\n",
        "    print('counter is 0')"
      ],
      "metadata": {
        "colab": {
          "base_uri": "https://localhost:8080/"
        },
        "id": "qCmf_m4K_95E",
        "outputId": "87697cf0-c02e-418f-ec2c-7f7f98e093e9"
      },
      "execution_count": 3,
      "outputs": [
        {
          "output_type": "stream",
          "name": "stdout",
          "text": [
            "5\n",
            "4\n",
            "3\n",
            "2\n",
            "1\n",
            "counter is 0\n"
          ]
        }
      ]
    },
    {
      "cell_type": "code",
      "source": [
        "while True:\n",
        "  number = int(input(\"Enter a positive number: \"))\n",
        "  print(number)\n",
        "  if not number > 0:\n",
        "    break"
      ],
      "metadata": {
        "colab": {
          "base_uri": "https://localhost:8080/"
        },
        "id": "meVMi7tv_98b",
        "outputId": "9611097f-e02b-4645-83d5-d3d87c5ee84f"
      },
      "execution_count": 1,
      "outputs": [
        {
          "output_type": "stream",
          "name": "stdout",
          "text": [
            "Enter a positive number: 1\n",
            "1\n",
            "Enter a positive number: 2\n",
            "2\n",
            "Enter a positive number: 10\n",
            "10\n",
            "Enter a positive number: -20\n",
            "-20\n"
          ]
        }
      ]
    },
    {
      "cell_type": "code",
      "source": [],
      "metadata": {
        "id": "sPMpLwGsAhF4"
      },
      "execution_count": null,
      "outputs": []
    },
    {
      "cell_type": "code",
      "source": [
        "i = int(input(\"Enter the number: \"))\n",
        "print(i)\n",
        "while(i<=38):\n",
        "  i = int(input(\"Enter the number: \"))\n",
        "  print(i)\n",
        "\n",
        "print(\"Done with the loop\")\n",
        "\n"
      ],
      "metadata": {
        "colab": {
          "base_uri": "https://localhost:8080/"
        },
        "id": "H4QnuPSqAeh6",
        "outputId": "bb1735bf-1956-48f3-bb4a-387c610a8dc6"
      },
      "execution_count": 4,
      "outputs": [
        {
          "output_type": "stream",
          "name": "stdout",
          "text": [
            "Enter the number: 10\n",
            "10\n",
            "Enter the number: 30\n",
            "30\n",
            "Enter the number: 38\n",
            "38\n",
            "Enter the number: 40\n",
            "40\n",
            "Done with the loop\n"
          ]
        }
      ]
    },
    {
      "cell_type": "code",
      "source": [
        "count = 5\n",
        "while (count > 0):\n",
        "  print(count)\n",
        "  count = count - 1\n",
        "else:\n",
        "  print(\"I am inside else\")\n"
      ],
      "metadata": {
        "colab": {
          "base_uri": "https://localhost:8080/"
        },
        "id": "b5SjnDwdAsm-",
        "outputId": "b00e1342-499f-47af-fea5-b1d3cf2c9cce"
      },
      "execution_count": 8,
      "outputs": [
        {
          "output_type": "stream",
          "name": "stdout",
          "text": [
            "5\n",
            "4\n",
            "3\n",
            "2\n",
            "1\n",
            "I am inside else\n"
          ]
        }
      ]
    },
    {
      "cell_type": "code",
      "source": [
        "# Countdown Timer:\n",
        "# This program implements a countdown timer using a while loop.\n",
        "\n",
        "import time\n",
        "\n",
        "seconds = 10\n",
        "while seconds > 0:\n",
        "    print(seconds)\n",
        "    time.sleep(1)  # Sleep for 1 second\n",
        "    seconds -= 1\n",
        "print(\"Time's up!\")\n"
      ],
      "metadata": {
        "colab": {
          "base_uri": "https://localhost:8080/"
        },
        "id": "GgJ5gtHGAwsA",
        "outputId": "291b661f-a8cd-4d66-e3e7-d69fbf08b9e0"
      },
      "execution_count": 9,
      "outputs": [
        {
          "output_type": "stream",
          "name": "stdout",
          "text": [
            "10\n",
            "9\n",
            "8\n",
            "7\n",
            "6\n",
            "5\n",
            "4\n",
            "3\n",
            "2\n",
            "1\n",
            "Time's up!\n"
          ]
        }
      ]
    },
    {
      "cell_type": "code",
      "source": [
        "# Sum of Natural Numbers:\n",
        "# This program calculates the sum of natural numbers up to a given number using a while loop.\n",
        "\n",
        "n = int(input(\"Enter a positive integer: \"))\n",
        "total = 0\n",
        "while n > 0:\n",
        "    total += n\n",
        "    n -= 1\n",
        "print(\"Sum of natural numbers up to\", n, \"is\", total)\n"
      ],
      "metadata": {
        "colab": {
          "base_uri": "https://localhost:8080/"
        },
        "id": "-8lTUEueBTVl",
        "outputId": "81c3dd5b-a0a0-44f7-fcf2-8f085ddfaee2"
      },
      "execution_count": 10,
      "outputs": [
        {
          "output_type": "stream",
          "name": "stdout",
          "text": [
            "Enter a positive integer: 10\n",
            "Sum of natural numbers up to 0 is 55\n"
          ]
        }
      ]
    },
    {
      "cell_type": "code",
      "source": [
        "# Password Verification:\n",
        "# This program asks the user to enter a password until they enter the correct one using a while loop.\n",
        "\n",
        "password = \"secret\"\n",
        "entered_password = input(\"Enter the password: \")\n",
        "while entered_password != password:\n",
        "    print(\"Incorrect password. Try again.\")\n",
        "    entered_password = input(\"Enter the password: \")\n",
        "print(\"Access granted!\")\n"
      ],
      "metadata": {
        "colab": {
          "base_uri": "https://localhost:8080/"
        },
        "id": "qMoG6wt9Bl5w",
        "outputId": "b2213c49-4a39-4f25-e8eb-017eda8aba2e"
      },
      "execution_count": 11,
      "outputs": [
        {
          "output_type": "stream",
          "name": "stdout",
          "text": [
            "Enter the password: SIVA\n",
            "Incorrect password. Try again.\n",
            "Enter the password: SECRET\n",
            "Incorrect password. Try again.\n",
            "Enter the password: secret\n",
            "Access granted!\n"
          ]
        }
      ]
    },
    {
      "cell_type": "code",
      "source": [
        "# Guessing Game:\n",
        "# This program prompts the user to guess a number until they guess the correct one using a while loop.\n",
        "\n",
        "import random\n",
        "\n",
        "target_number = random.randint(1, 100)\n",
        "guess = None\n",
        "while guess != target_number:\n",
        "    guess = int(input(\"Guess the number (between 1 and 100): \"))\n",
        "    if guess < target_number:\n",
        "        print(\"Too low. Try again.\")\n",
        "    elif guess > target_number:\n",
        "        print(\"Too high. Try again.\")\n",
        "print(\"Congratulations! You guessed the correct number.\")\n"
      ],
      "metadata": {
        "colab": {
          "base_uri": "https://localhost:8080/"
        },
        "id": "FaBgDwNxB2h_",
        "outputId": "e67e2a96-25eb-4f5e-bd66-bb90b4b264a1"
      },
      "execution_count": null,
      "outputs": [
        {
          "output_type": "stream",
          "name": "stdout",
          "text": [
            "Guess the number (between 1 and 100): 50\n",
            "Too low. Try again.\n",
            "Guess the number (between 1 and 100): 99\n",
            "Too high. Try again.\n",
            "Guess the number (between 1 and 100): 61\n",
            "Too low. Try again.\n",
            "Guess the number (between 1 and 100): 58\n",
            "Too low. Try again.\n",
            "Guess the number (between 1 and 100): 45\n",
            "Too low. Try again.\n",
            "Guess the number (between 1 and 100): 22\n",
            "Too low. Try again.\n",
            "Guess the number (between 1 and 100): 11\n",
            "Too low. Try again.\n",
            "Guess the number (between 1 and 100): 21\n",
            "Too low. Try again.\n",
            "Guess the number (between 1 and 100): 55\n",
            "Too low. Try again.\n",
            "Guess the number (between 1 and 100): 99\n",
            "Too high. Try again.\n"
          ]
        }
      ]
    },
    {
      "cell_type": "code",
      "source": [],
      "metadata": {
        "id": "CjJJKHLaCTBc"
      },
      "execution_count": null,
      "outputs": []
    }
  ]
}