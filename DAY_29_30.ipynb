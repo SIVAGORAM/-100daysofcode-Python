{
  "nbformat": 4,
  "nbformat_minor": 0,
  "metadata": {
    "colab": {
      "provenance": [],
      "authorship_tag": "ABX9TyPlq37TLLFw3e3BANRt2fYV",
      "include_colab_link": true
    },
    "kernelspec": {
      "name": "python3",
      "display_name": "Python 3"
    },
    "language_info": {
      "name": "python"
    }
  },
  "cells": [
    {
      "cell_type": "markdown",
      "metadata": {
        "id": "view-in-github",
        "colab_type": "text"
      },
      "source": [
        "<a href=\"https://colab.research.google.com/github/SIVAGORAM/-100daysofcode-Python/blob/main/DAY_29_30.ipynb\" target=\"_parent\"><img src=\"https://colab.research.google.com/assets/colab-badge.svg\" alt=\"Open In Colab\"/></a>"
      ]
    },
    {
      "cell_type": "markdown",
      "source": [
        "Recursion in python:"
      ],
      "metadata": {
        "id": "0hf9bSUYZsYa"
      }
    },
    {
      "cell_type": "code",
      "source": [
        "# factorial(7) = 7*6*5*4*3*2*1\n",
        "# factorial(6) = 6*5*4*3*2*1\n",
        "# factorial(5) = 5*4*3*2*1\n",
        "# factorial(4) = 4*3*2*1\n",
        "# factorial(0) = 1\n",
        "\n",
        "\n",
        "# factorial(n) = n * factorial(n-1)\n",
        "def factorial(n):\n",
        "  if (n == 0 or n == 1):\n",
        "    return 1\n",
        "  else:\n",
        "    return n * factorial(n - 1)\n",
        "\n",
        "\n",
        "print(factorial(5))\n",
        "# 5 * factorial(4)\n",
        "# 5 * 4 * factorial(3)\n",
        "# 5 * 4 * 3 * factorial(2)\n",
        "# 5 * 4 * 3 * 2 * factorial(1)\n",
        "# 5 * 4 * 3 * 2 * 1\n",
        "\n",
        "# Quick Quiz: Write a program to print the Fibonacci sequence\n",
        "# f(0) = 0\n",
        "# f(1) = 1\n",
        "# f(2) = f(1) + f(0)\n",
        "# f(n) = f(n-1) + f(n-2)\n",
        "\n",
        "# 0 1 1 2 3 5 8...."
      ],
      "metadata": {
        "colab": {
          "base_uri": "https://localhost:8080/"
        },
        "id": "fy06XY46YWjz",
        "outputId": "9d38e4c9-3dab-473a-814d-1315571f81f8"
      },
      "execution_count": 1,
      "outputs": [
        {
          "output_type": "stream",
          "name": "stdout",
          "text": [
            "120\n"
          ]
        }
      ]
    },
    {
      "cell_type": "code",
      "execution_count": 2,
      "metadata": {
        "colab": {
          "base_uri": "https://localhost:8080/"
        },
        "id": "0R9d42-rYAgq",
        "outputId": "ece34beb-49f2-4c76-dae1-5bf83f9fb13f"
      },
      "outputs": [
        {
          "output_type": "stream",
          "name": "stdout",
          "text": [
            "120\n"
          ]
        }
      ],
      "source": [
        "#Factorial Calculation:\n",
        "def factorial(n):\n",
        "    # Base case: if n is 0 or 1, return 1\n",
        "    if n == 0 or n == 1:\n",
        "        return 1\n",
        "    # Recursive case: call factorial with (n-1) multiplied by n\n",
        "    else:\n",
        "        return n * factorial(n - 1)\n",
        "\n",
        "# Example usage\n",
        "print(factorial(5))  # Output: 120\n"
      ]
    },
    {
      "cell_type": "code",
      "source": [
        "def factorial(num):\n",
        "    if (num == 1 or num == 0):\n",
        "        return 1\n",
        "    else:\n",
        "        return (num * factorial(num - 1))\n",
        "\n",
        "# Driver Code\n",
        "num = 7;\n",
        "print(\"Number: \",num)\n",
        "print(\"Factorial: \",factorial(num))"
      ],
      "metadata": {
        "colab": {
          "base_uri": "https://localhost:8080/"
        },
        "id": "oaWIitpxYKVv",
        "outputId": "69d20f83-26e8-4917-a6c4-64d14338376f"
      },
      "execution_count": 3,
      "outputs": [
        {
          "output_type": "stream",
          "name": "stdout",
          "text": [
            "Number:  7\n",
            "Factorial:  5040\n"
          ]
        }
      ]
    },
    {
      "cell_type": "code",
      "source": [
        "# Factorial Calculation:\n",
        "def factorial(n):\n",
        "    if n == 0 or n == 1:\n",
        "        return 1\n",
        "    else:\n",
        "        return n * factorial(n - 1)\n",
        "\n",
        "# Example usage\n",
        "print(factorial(5))  # Output: 120\n"
      ],
      "metadata": {
        "colab": {
          "base_uri": "https://localhost:8080/"
        },
        "id": "oOJ88UUAYQIG",
        "outputId": "fa2b2adf-df4a-40f6-ac9a-686cd3266574"
      },
      "execution_count": 4,
      "outputs": [
        {
          "output_type": "stream",
          "name": "stdout",
          "text": [
            "120\n"
          ]
        }
      ]
    },
    {
      "cell_type": "code",
      "source": [
        "#Fibonacci Sequence:\n",
        "def fibonacci(n):\n",
        "    if n <= 1:\n",
        "        return n\n",
        "    else:\n",
        "        return fibonacci(n - 1) + fibonacci(n - 2)\n",
        "\n",
        "# Example usage\n",
        "print([fibonacci(i) for i in range(10)])  # Output: [0, 1, 1, 2, 3, 5, 8, 13, 21, 34]\n"
      ],
      "metadata": {
        "colab": {
          "base_uri": "https://localhost:8080/"
        },
        "id": "oZBKlzKJYfpM",
        "outputId": "2936f32b-e522-448a-b673-cc4b8a651edc"
      },
      "execution_count": 5,
      "outputs": [
        {
          "output_type": "stream",
          "name": "stdout",
          "text": [
            "[0, 1, 1, 2, 3, 5, 8, 13, 21, 34]\n"
          ]
        }
      ]
    },
    {
      "cell_type": "code",
      "source": [
        "#Sum of Digits:\n",
        "def sum_of_digits(n):\n",
        "    if n < 10:\n",
        "        return n\n",
        "    else:\n",
        "        return n % 10 + sum_of_digits(n // 10)\n",
        "\n",
        "# Example usage\n",
        "print(sum_of_digits(12345))  # Output: 15\n"
      ],
      "metadata": {
        "colab": {
          "base_uri": "https://localhost:8080/"
        },
        "id": "M5GRvElUYfrj",
        "outputId": "82b57364-0f25-4abc-ad91-b246693042ef"
      },
      "execution_count": 6,
      "outputs": [
        {
          "output_type": "stream",
          "name": "stdout",
          "text": [
            "15\n"
          ]
        }
      ]
    },
    {
      "cell_type": "code",
      "source": [
        "#Power Calculation:\n",
        "def power(x, n):\n",
        "    if n == 0:\n",
        "        return 1\n",
        "    else:\n",
        "        return x * power(x, n - 1)\n",
        "\n",
        "# Example usage\n",
        "print(power(2, 3))  # Output: 8\n"
      ],
      "metadata": {
        "colab": {
          "base_uri": "https://localhost:8080/"
        },
        "id": "GdnrCCWEYfvE",
        "outputId": "0ba8c905-1852-465c-8fda-c0ecab414ca5"
      },
      "execution_count": 7,
      "outputs": [
        {
          "output_type": "stream",
          "name": "stdout",
          "text": [
            "8\n"
          ]
        }
      ]
    },
    {
      "cell_type": "code",
      "source": [
        "#  Binary Search (Recursive):\n",
        "def binary_search(arr, low, high, target):\n",
        "    if low <= high:\n",
        "        mid = (low + high) // 2\n",
        "        if arr[mid] == target:\n",
        "            return mid\n",
        "        elif arr[mid] < target:\n",
        "            return binary_search(arr, mid + 1, high, target)\n",
        "        else:\n",
        "            return binary_search(arr, low, mid - 1, target)\n",
        "    else:\n",
        "        return -1\n",
        "\n",
        "# Example usage\n",
        "arr = [2, 3, 5, 7, 11, 13, 17, 19, 23, 29]\n",
        "target = 13\n",
        "result = binary_search(arr, 0, len(arr) - 1, target)\n",
        "print(f\"Index of {target} in array: {result}\")  # Output: Index of 13 in array: 5\n"
      ],
      "metadata": {
        "colab": {
          "base_uri": "https://localhost:8080/"
        },
        "id": "CithklA8YvAM",
        "outputId": "6ec8336a-4766-424c-ea40-b342ca211c07"
      },
      "execution_count": 8,
      "outputs": [
        {
          "output_type": "stream",
          "name": "stdout",
          "text": [
            "Index of 13 in array: 5\n"
          ]
        }
      ]
    }
  ]
}