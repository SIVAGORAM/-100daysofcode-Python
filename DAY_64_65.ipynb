{
  "nbformat": 4,
  "nbformat_minor": 0,
  "metadata": {
    "colab": {
      "provenance": [],
      "authorship_tag": "ABX9TyM0CkuEBARLSsROdqtRbQeB",
      "include_colab_link": true
    },
    "kernelspec": {
      "name": "python3",
      "display_name": "Python 3"
    },
    "language_info": {
      "name": "python"
    }
  },
  "cells": [
    {
      "cell_type": "markdown",
      "metadata": {
        "id": "view-in-github",
        "colab_type": "text"
      },
      "source": [
        "<a href=\"https://colab.research.google.com/github/SIVAGORAM/-100daysofcode-Python/blob/main/DAY_64_65.ipynb\" target=\"_parent\"><img src=\"https://colab.research.google.com/assets/colab-badge.svg\" alt=\"Open In Colab\"/></a>"
      ]
    },
    {
      "cell_type": "markdown",
      "source": [
        "Public Access Specifier in Python"
      ],
      "metadata": {
        "id": "qE4StYEbJOYe"
      }
    },
    {
      "cell_type": "code",
      "source": [
        "class Student:\n",
        "    # constructor is defined\n",
        "    def __init__(self, age, name):\n",
        "        self.age = age               # public variable\n",
        "        self.name = name             # public variable\n",
        "\n",
        "obj = Student(21,\"SIVA\")\n",
        "print(obj.age)\n",
        "print(obj.name)"
      ],
      "metadata": {
        "colab": {
          "base_uri": "https://localhost:8080/"
        },
        "id": "mVuxban1JPJb",
        "outputId": "1a817801-985c-42f0-fb21-9ed18d32d591"
      },
      "execution_count": null,
      "outputs": [
        {
          "output_type": "stream",
          "name": "stdout",
          "text": [
            "21\n",
            "Harry\n"
          ]
        }
      ]
    },
    {
      "cell_type": "markdown",
      "source": [
        "Private Access Modifier"
      ],
      "metadata": {
        "id": "ooiZdJIIJmls"
      }
    },
    {
      "cell_type": "code",
      "source": [
        "class MyClass:\n",
        "    def __init__(self):\n",
        "        self.__private_var = 10   # Private variable\n",
        "\n",
        "    def __private_method(self):  # Private method\n",
        "        print(\"Inside private method\")\n",
        "        print(\"Accessing private variable:\", self.__private_var)\n",
        "\n",
        "    def access_private(self):\n",
        "        self.__private_method()\n",
        "\n",
        "obj = MyClass()\n",
        "obj.access_private()  # Output: Inside private method\n",
        "                      #         Accessing private variable: 10\n"
      ],
      "metadata": {
        "colab": {
          "base_uri": "https://localhost:8080/"
        },
        "id": "MJTRWmTdJlTW",
        "outputId": "cc56b499-ff91-4bbe-ad87-a0ee750de527"
      },
      "execution_count": null,
      "outputs": [
        {
          "output_type": "stream",
          "name": "stdout",
          "text": [
            "Inside private method\n",
            "Accessing private variable: 10\n"
          ]
        }
      ]
    },
    {
      "cell_type": "code",
      "source": [
        "class BankAccount:\n",
        "    def __init__(self, balance):\n",
        "        self.__balance = balance\n",
        "\n",
        "    def deposit(self, amount):\n",
        "        if amount > 0:\n",
        "            self.__balance += amount\n",
        "            print(\"Deposit successful. New balance:\", self.__balance)\n",
        "        else:\n",
        "            print(\"Invalid deposit amount\")\n",
        "\n",
        "    def withdraw(self, amount):\n",
        "        if 0 < amount <= self.__balance:\n",
        "            self.__balance -= amount\n",
        "            print(\"Withdrawal successful. New balance:\", self.__balance)\n",
        "        else:\n",
        "            print(\"Insufficient funds or invalid amount\")\n",
        "\n",
        "    def get_balance(self):\n",
        "        return self.__balance\n",
        "\n",
        "# Example usage:\n",
        "account = BankAccount(1000)\n",
        "account.deposit(500)    # Output: Deposit successful. New balance: 1500\n",
        "account.withdraw(200)   # Output: Withdrawal successful. New balance: 1300\n",
        "print(account.get_balance())  # Output: 1300\n"
      ],
      "metadata": {
        "colab": {
          "base_uri": "https://localhost:8080/"
        },
        "id": "wetYSBhFK_Gz",
        "outputId": "c1c6b114-3826-4009-dab9-a799aa824f84"
      },
      "execution_count": null,
      "outputs": [
        {
          "output_type": "stream",
          "name": "stdout",
          "text": [
            "Deposit successful. New balance: 1500\n",
            "Withdrawal successful. New balance: 1300\n",
            "1300\n"
          ]
        }
      ]
    },
    {
      "cell_type": "code",
      "source": [
        "class Car:\n",
        "    def __init__(self, make, model):\n",
        "        self.__make = make\n",
        "        self.__model = model\n",
        "\n",
        "    def get_make(self):\n",
        "        return self.__make\n",
        "\n",
        "    def get_model(self):\n",
        "        return self.__model\n",
        "\n",
        "    def set_make(self, make):\n",
        "        self.__make = make\n",
        "\n",
        "    def set_model(self, model):\n",
        "        self.__model = model\n",
        "\n",
        "# Example usage:\n",
        "car = Car(\"Toyota\", \"Camry\")\n",
        "print(car.get_make())   # Output: Toyota\n",
        "print(car.get_model())  # Output: Camry\n",
        "\n",
        "car.set_make(\"Honda\")\n",
        "car.set_model(\"Accord\")\n",
        "print(car.get_make())   # Output: Honda\n",
        "print(car.get_model())  # Output: Accord\n"
      ],
      "metadata": {
        "colab": {
          "base_uri": "https://localhost:8080/"
        },
        "id": "EQPwumqtLCg1",
        "outputId": "bd3f9dff-ef7c-49fe-ca80-8cfebadde76a"
      },
      "execution_count": null,
      "outputs": [
        {
          "output_type": "stream",
          "name": "stdout",
          "text": [
            "Toyota\n",
            "Camry\n",
            "Honda\n",
            "Accord\n"
          ]
        }
      ]
    },
    {
      "cell_type": "markdown",
      "source": [
        "Protected Access Modifier"
      ],
      "metadata": {
        "id": "AKcfxqlgMFeG"
      }
    },
    {
      "cell_type": "code",
      "source": [
        "class Student:\n",
        "    def __init__(self):\n",
        "        self._name = \"Siva\"\n",
        "\n",
        "    def _funName(self):      # protected method\n",
        "        return \"CodeWithSiva\"\n",
        "\n",
        "class Subject(Student):       #inherited class\n",
        "    pass\n",
        "\n",
        "obj = Student()\n",
        "obj1 = Subject()\n",
        "\n",
        "# calling by object of Student class\n",
        "print(obj._name)\n",
        "print(obj._funName())\n",
        "# calling by object of Subject class\n",
        "print(obj1._name)\n",
        "print(obj1._funName())"
      ],
      "metadata": {
        "colab": {
          "base_uri": "https://localhost:8080/"
        },
        "id": "6Kt2-Ge6MGEK",
        "outputId": "cce4660f-df8d-43eb-bc9a-dcb93513a085"
      },
      "execution_count": null,
      "outputs": [
        {
          "output_type": "stream",
          "name": "stdout",
          "text": [
            "Siva\n",
            "CodeWithSiva\n",
            "Siva\n",
            "CodeWithSiva\n"
          ]
        }
      ]
    }
  ]
}