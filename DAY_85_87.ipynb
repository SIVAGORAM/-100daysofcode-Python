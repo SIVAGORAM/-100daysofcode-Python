{
  "nbformat": 4,
  "nbformat_minor": 0,
  "metadata": {
    "colab": {
      "provenance": [],
      "authorship_tag": "ABX9TyO3N1Gqoo8FHykA1rMIYKh3",
      "include_colab_link": true
    },
    "kernelspec": {
      "name": "python3",
      "display_name": "Python 3"
    },
    "language_info": {
      "name": "python"
    }
  },
  "cells": [
    {
      "cell_type": "markdown",
      "metadata": {
        "id": "view-in-github",
        "colab_type": "text"
      },
      "source": [
        "<a href=\"https://colab.research.google.com/github/SIVAGORAM/-100daysofcode-Python/blob/main/DAY_85_87.ipynb\" target=\"_parent\"><img src=\"https://colab.research.google.com/assets/colab-badge.svg\" alt=\"Open In Colab\"/></a>"
      ]
    },
    {
      "cell_type": "code",
      "source": [
        "import sys\n",
        "\n",
        "# Simulate command line arguments\n",
        "sys.argv = [\"calculator.py\", \"add\", \"10\", \"5\"]\n",
        "\n",
        "# Define the functions and call the main function\n",
        "def add(a, b):\n",
        "    return a + b\n",
        "\n",
        "def subtract(a, b):\n",
        "    return a - b\n",
        "\n",
        "def multiply(a, b):\n",
        "    return a * b\n",
        "\n",
        "def divide(a, b):\n",
        "    return a / b\n",
        "\n",
        "def main():\n",
        "    parser = argparse.ArgumentParser(description=\"Simple Command Line Calculator\")\n",
        "    parser.add_argument(\"operation\", choices=[\"add\", \"subtract\", \"multiply\", \"divide\"], help=\"Operation to perform\")\n",
        "    parser.add_argument(\"a\", type=float, help=\"First number\")\n",
        "    parser.add_argument(\"b\", type=float, help=\"Second number\")\n",
        "\n",
        "    args = parser.parse_args(args=sys.argv[1:])\n",
        "\n",
        "    if args.operation == \"add\":\n",
        "        result = add(args.a, args.b)\n",
        "    elif args.operation == \"subtract\":\n",
        "        result = subtract(args.a, args.b)\n",
        "    elif args.operation == \"multiply\":\n",
        "        result = multiply(args.a, args.b)\n",
        "    elif args.operation == \"divide\":\n",
        "        result = divide(args.a, args.b)\n",
        "\n",
        "    print(f\"The result is: {result}\")\n",
        "\n",
        "if __name__ == \"__main__\":\n",
        "    main()\n"
      ],
      "metadata": {
        "colab": {
          "base_uri": "https://localhost:8080/"
        },
        "id": "8CD8w0cDoVHX",
        "outputId": "9a03579b-531b-4cc0-eff8-f9c30740dcf6"
      },
      "execution_count": null,
      "outputs": [
        {
          "output_type": "stream",
          "name": "stdout",
          "text": [
            "The result is: 15.0\n"
          ]
        }
      ]
    },
    {
      "cell_type": "markdown",
      "source": [
        "The Walrus Operator in Python"
      ],
      "metadata": {
        "id": "5Bw7UUS2ojoi"
      }
    },
    {
      "cell_type": "markdown",
      "source": [
        "Here's an example of how you can use the Walrus Operator in a while loop:"
      ],
      "metadata": {
        "id": "XHV-forRom0h"
      }
    },
    {
      "cell_type": "code",
      "source": [
        "numbers = [1, 2, 3, 4, 5]\n",
        "\n",
        "while (n := len(numbers)) > 0:\n",
        "    print(numbers.pop())"
      ],
      "metadata": {
        "colab": {
          "base_uri": "https://localhost:8080/"
        },
        "id": "9dQwWHZxokLr",
        "outputId": "27b3c13b-278a-478a-efea-9366cf1cc42d"
      },
      "execution_count": null,
      "outputs": [
        {
          "output_type": "stream",
          "name": "stdout",
          "text": [
            "5\n",
            "4\n",
            "3\n",
            "2\n",
            "1\n"
          ]
        }
      ]
    },
    {
      "cell_type": "markdown",
      "source": [
        "Another example of using the Walrus Operator in an if statement:"
      ],
      "metadata": {
        "id": "DGPwai6AorCk"
      }
    },
    {
      "cell_type": "code",
      "source": [
        "names = [\"Siva\", \"Jane\", \"Jim\"]\n",
        "\n",
        "if (name := input(\"Enter a name: \")) in names:\n",
        "    print(f\"Hello, {name}!\")\n",
        "else:\n",
        "    print(\"Name not found.\")"
      ],
      "metadata": {
        "colab": {
          "base_uri": "https://localhost:8080/"
        },
        "id": "-W-ejH4Fooz1",
        "outputId": "edee11c6-4608-431c-badb-0878df037c8e"
      },
      "execution_count": null,
      "outputs": [
        {
          "output_type": "stream",
          "name": "stdout",
          "text": [
            "Enter a name: Siva\n",
            "Hello, Siva!\n"
          ]
        }
      ]
    },
    {
      "cell_type": "code",
      "source": [
        "# # walrus operator :=\n",
        "\n",
        "# # new to Python 3.8\n",
        "# # assignment expression aka walrus operator\n",
        "# # assigns values to variables as part of a larger expression\n",
        "\n",
        "# happy = True\n",
        "# print(happy)\n",
        "\n",
        "# print(happy := True)\n",
        "\n",
        "# foods = list()\n",
        "# while True:\n",
        "#   food = input(\"What food do you like?: \")\n",
        "#       if food == \"quit\":\n",
        "#           break\n",
        "#   foods.append(food)\n",
        "\n",
        "# # foods = list()\n",
        "# while (food := input(\"What food do you like?: \")) != \"quit\":\n",
        "#     foods.append(food)"
      ],
      "metadata": {
        "id": "__UT_1I9o0w9"
      },
      "execution_count": null,
      "outputs": []
    },
    {
      "cell_type": "code",
      "source": [],
      "metadata": {
        "id": "kV3J__8npFgW"
      },
      "execution_count": null,
      "outputs": []
    },
    {
      "cell_type": "markdown",
      "source": [
        "Shutil Module in Python"
      ],
      "metadata": {
        "id": "kkPEwlJLpGLC"
      }
    },
    {
      "cell_type": "markdown",
      "source": [
        "Importing shutil"
      ],
      "metadata": {
        "id": "fBJK3Oc2pJ18"
      }
    },
    {
      "cell_type": "code",
      "source": [
        "import shutil"
      ],
      "metadata": {
        "id": "dIHASjRopFjy"
      },
      "execution_count": null,
      "outputs": []
    },
    {
      "cell_type": "markdown",
      "source": [
        "Examples"
      ],
      "metadata": {
        "id": "Z7-Bt57opR3P"
      }
    },
    {
      "cell_type": "code",
      "source": [
        "import shutil\n",
        "\n",
        "# Copying a file\n",
        "shutil.copy(\"src.txt\", \"dst.txt\")\n",
        "\n",
        "# Copying a directory\n",
        "shutil.copytree(\"src_dir\", \"dst_dir\")\n",
        "\n",
        "# Moving a file\n",
        "shutil.move(\"src.txt\", \"dst.txt\")\n",
        "\n",
        "# Deleting a directory\n",
        "shutil.rmtree(\"dir\")"
      ],
      "metadata": {
        "id": "hI7g5F_OpOBL"
      },
      "execution_count": null,
      "outputs": []
    },
    {
      "cell_type": "code",
      "source": [
        "import shutil\n",
        "\n",
        "def copy_file(src, dst):\n",
        "    \"\"\"Copy a file from src to dst\"\"\"\n",
        "    try:\n",
        "        shutil.copy(src, dst)\n",
        "        print(f\"File {src} copied to {dst}\")\n",
        "    except FileNotFoundError:\n",
        "        print(f\"File {src} not found\")\n",
        "    except PermissionError:\n",
        "        print(f\"Permission denied to copy {src}\")\n",
        "\n",
        "# Usage\n",
        "copy_file('source.txt', 'destination.txt')\n"
      ],
      "metadata": {
        "colab": {
          "base_uri": "https://localhost:8080/"
        },
        "id": "Dge7qpbFpdMg",
        "outputId": "96f676d4-ba29-4d0c-ba7f-a97d7777f542"
      },
      "execution_count": null,
      "outputs": [
        {
          "output_type": "stream",
          "name": "stdout",
          "text": [
            "File source.txt not found\n"
          ]
        }
      ]
    },
    {
      "cell_type": "code",
      "source": [
        "import shutil\n",
        "\n",
        "def copy_directory(src, dst):\n",
        "    \"\"\"Copy a directory from src to dst\"\"\"\n",
        "    try:\n",
        "        shutil.copytree(src, dst)\n",
        "        print(f\"Directory {src} copied to {dst}\")\n",
        "    except FileExistsError:\n",
        "        print(f\"Directory {dst} already exists\")\n",
        "    except FileNotFoundError:\n",
        "        print(f\"Directory {src} not found\")\n",
        "    except PermissionError:\n",
        "        print(f\"Permission denied to copy {src}\")\n",
        "\n",
        "# Usage\n",
        "copy_directory('source_dir', 'destination_dir')\n",
        "\n"
      ],
      "metadata": {
        "colab": {
          "base_uri": "https://localhost:8080/"
        },
        "id": "G-VOEpoCsMsN",
        "outputId": "8494a0ad-8be2-4167-bc97-9cef60642da6"
      },
      "execution_count": null,
      "outputs": [
        {
          "output_type": "stream",
          "name": "stdout",
          "text": [
            "Directory source_dir not found\n"
          ]
        }
      ]
    },
    {
      "cell_type": "code",
      "source": [
        "import shutil\n",
        "\n",
        "def get_disk_usage(path):\n",
        "    \"\"\"Get disk usage statistics about the given path\"\"\"\n",
        "    usage = shutil.disk_usage(path)\n",
        "    print(f\"Total: {usage.total / (1024**3):.2f} GB\")\n",
        "    print(f\"Used: {usage.used / (1024**3):.2f} GB\")\n",
        "    print(f\"Free: {usage.free / (1024**3):.2f} GB\")\n",
        "\n",
        "# Usage\n",
        "get_disk_usage('/')\n"
      ],
      "metadata": {
        "colab": {
          "base_uri": "https://localhost:8080/"
        },
        "id": "9NSmH4EHsRWW",
        "outputId": "cc923a0a-0b49-48e7-82e6-1713c6516770"
      },
      "execution_count": null,
      "outputs": [
        {
          "output_type": "stream",
          "name": "stdout",
          "text": [
            "Total: 107.72 GB\n",
            "Used: 27.19 GB\n",
            "Free: 80.51 GB\n"
          ]
        }
      ]
    },
    {
      "cell_type": "code",
      "source": [
        "import shutil\n",
        "\n",
        "def make_archive(base_name, format, root_dir):\n",
        "    \"\"\"Create an archive file (zip, tar, etc.) from a directory\"\"\"\n",
        "    try:\n",
        "        archive_path = shutil.make_archive(base_name, format, root_dir)\n",
        "        print(f\"Archive created at {archive_path}\")\n",
        "    except FileNotFoundError:\n",
        "        print(f\"Directory {root_dir} not found\")\n",
        "    except PermissionError:\n",
        "        print(f\"Permission denied to archive {root_dir}\")\n",
        "\n",
        "# Usage\n",
        "make_archive('my_archive', 'zip', 'dir_to_archive')\n"
      ],
      "metadata": {
        "id": "3k8G1BNNsV2O",
        "outputId": "87903c67-8283-4ce8-ed3d-7fa8a34d830e",
        "colab": {
          "base_uri": "https://localhost:8080/"
        }
      },
      "execution_count": null,
      "outputs": [
        {
          "output_type": "stream",
          "name": "stdout",
          "text": [
            "Archive created at /content/my_archive.zip\n"
          ]
        }
      ]
    },
    {
      "cell_type": "markdown",
      "source": [
        "Write a program to pronounce list of names using win32 API. If you are given a list l as follows:\n",
        "\n",
        "l = [\"Rahul\", \"Nishant\", \"Harry\"]\n",
        "Your program should pronouce:\n",
        "\n",
        "Shoutout to Rahul\n",
        "Shoutout to Nishant\n",
        "Shoutout to Harry\n",
        "Note: If you are not using windows, try to figure out how to do the same thing using some other package"
      ],
      "metadata": {
        "id": "Xa8xpHZdpnBt"
      }
    },
    {
      "cell_type": "code",
      "source": [
        "# For Mac\n",
        "from os import system\n",
        "names = [\"StupidProgramm1\",\"AayushGarg15\", \"Yuniek\", \"NiteshUpadhyay2\", \"RAMESHKUMAR69\", \"AshishKushwaha4\", \"AshokBhatt\", \"MILLANDREME\", \"ValorantAccoun4\", \"Sanjeevthakur8\", \"vivekRaogaddema\", \"NilutpalBaruah\", \"Priyanshu48\", \"KenZi2\", \"RahulGoyal14\", \"KartikeySurbhi\", \"AnirbanPati\", \"RohanPudasaini\", \"TechBlogs\", \"joelthomas1103\", \"dhairyapawaia\", \"PrithviSingh15\", \"GoogolChad\", \"Moinhusen\", \"mahi98989897\", \"Blitzfan1\", \"umang001\", \"AvijitManna1\", \"Mr-NeonNeon\", \"MaryamTatheer\", \"NishantJaiswal2\", \"AnonymousBuddy1\", \"MaryamTatheer\", \"GyanKumar1\", \"StarVipin\", \"vivekRaogaddema\", \"RaviSharma34\", \"AhsanTariq3\", \"gagankj\", \"ProgrammerShray\", \"AvijitDey5\", \"Anshuman097\", \"AnchalGupta9\", \"StupidProgramm1\", \"HimanshuKumar96\", \"hnxpriyanshu\", \"MaxM50\", \"piyushgoyall\", \"DEMANDHERE\", \"KrishnaAnand2\", \"SurajVishwaka10\", \"NominathKuwar\", \"firozeeIII\", \"jawad9899\", \"ArunavaAdhikari\", \"Quazi-Misbah-Raza\", \"HistoricMind\", \"Rajbir98\", \"AkshayNivate\", \"vivekRaogaddema\", \"maanitgill\", \"krushnsinh\", \"universelhome\", \"OPGAMEROPGAMERm\", \"universelhome\", \"learningtocodewithabdullah\", \"Abdullah426351\", \"SagarPathak3\", \"SAMARTH-VERMA\", \"PrithvirajPati3\", \"SAURABHTRIPATH6\", \"SumanRajak\", \"Swayam2004\", \"Joydip2002\", \"PulkitPareek\", \"RatnakarGautam221b\", \"tassawerzaidi\", \"GRyHacker\", \"uatta8088\", \"Athcode\", \"PrasoonShrivast\", \"piyushgoyall\", \"Saptak291\", \"PratyakshDhankh\", \"ZayanAhmad2\", \"Ali-RazaRaza9\", \"TridevJha\", \"KrrishHalder\", \"HeroProgrammin1\", \"Sanjeev-Kumar78\", \"AryanKushwaha2\", \"GalluBhai\", \"AB265\", \"AayushGarg15\", \"StupidProgramm1\", \"dheerajkumar68\", \"ArpitJaiswal2\", \"Fighters006\", \"AviPandit\", \"mrz004\", \"AviPandit\", \"MihirSingh4\", \"Nks-hkhk\", \"msCoder5\", \"SURAJGUSAIN1\", \"DivyanandPandey\", \"AhmadShuja\", \"JaydeepSindhav\", \"Champ7239\", \"piyushgoyall\", \"Joydip2002\", \"MukulVerma8745\", \"V-Durgeshwar-Ra\", \"SaacheKapoor\", \"41-GauravGaurav\", \"VeersinghZanka1\", \"LegendVibhu\", \"YashAgr\", \"vivekRaogaddema\", \"Priyanshu-kundu\", \"iamarghamallick\", \"samad90\", \"iamarghamallick\", \"MukulVerma8745\", \"MaxM50\", \"ItZgooseBoy\", \"piyushgoyall\", \"pavanteja14\", \"sologamerq1\", \"YugamTiwana\", \"piyushgoyall\", \"ShubhamSaini12\", \"AvishJain24\", \"ItZgooseBoy\", \"Iswastikmishra\", \"srisridmulti\", \"AvishJain24\", \"MFaizan3\", \"anukoolchauhan\", \"codeWithPrawar\", \"ArshitRupani\", \"Muhammad-Anas11\"]\n",
        "for name in names:\n",
        "  system(f'say Shoutout to {name}')"
      ],
      "metadata": {
        "id": "UQwiyMBRpmWu"
      },
      "execution_count": null,
      "outputs": []
    },
    {
      "cell_type": "code",
      "source": [
        "pip install pyttsx3\n"
      ],
      "metadata": {
        "colab": {
          "base_uri": "https://localhost:8080/"
        },
        "id": "cg9-hgtlp8VF",
        "outputId": "346131cb-0221-4725-f99d-a115f16bcb1d"
      },
      "execution_count": null,
      "outputs": [
        {
          "output_type": "stream",
          "name": "stdout",
          "text": [
            "Collecting pyttsx3\n",
            "  Downloading pyttsx3-2.90-py3-none-any.whl (39 kB)\n",
            "Installing collected packages: pyttsx3\n",
            "Successfully installed pyttsx3-2.90\n"
          ]
        }
      ]
    },
    {
      "cell_type": "code",
      "source": [],
      "metadata": {
        "id": "XK-WWZckp_cW"
      },
      "execution_count": null,
      "outputs": []
    }
  ]
}