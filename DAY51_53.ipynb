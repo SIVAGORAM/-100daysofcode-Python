{
  "nbformat": 4,
  "nbformat_minor": 0,
  "metadata": {
    "colab": {
      "provenance": [],
      "authorship_tag": "ABX9TyMew0sPaMdhtM+h/csatxXm",
      "include_colab_link": true
    },
    "kernelspec": {
      "name": "python3",
      "display_name": "Python 3"
    },
    "language_info": {
      "name": "python"
    }
  },
  "cells": [
    {
      "cell_type": "markdown",
      "metadata": {
        "id": "view-in-github",
        "colab_type": "text"
      },
      "source": [
        "<a href=\"https://colab.research.google.com/github/SIVAGORAM/-100daysofcode-Python/blob/main/DAY51_53.ipynb\" target=\"_parent\"><img src=\"https://colab.research.google.com/assets/colab-badge.svg\" alt=\"Open In Colab\"/></a>"
      ]
    },
    {
      "cell_type": "markdown",
      "source": [
        "readlines() method:"
      ],
      "metadata": {
        "id": "p1MwH6-KUEOq"
      }
    },
    {
      "cell_type": "code",
      "execution_count": 1,
      "metadata": {
        "colab": {
          "base_uri": "https://localhost:8080/"
        },
        "id": "PYo6FHTYTzzd",
        "outputId": "840b2549-fc9f-4958-d1a1-c9c97db12104"
      },
      "outputs": [
        {
          "output_type": "stream",
          "name": "stdout",
          "text": [
            "Hello, world!Hello, world!Hello, world!Hello, world!Hello, world!Hey I am inside with\n"
          ]
        }
      ],
      "source": [
        "f = open('myfile.txt', 'r')\n",
        "while True:\n",
        "    line = f.readline()\n",
        "    if not line:\n",
        "        break\n",
        "    print(line)\n"
      ]
    },
    {
      "cell_type": "markdown",
      "source": [
        "writelines() method"
      ],
      "metadata": {
        "id": "6Sy4fia5UNcr"
      }
    },
    {
      "cell_type": "code",
      "source": [
        "f = open('myfile.txt', 'w')\n",
        "lines = ['line 1\\n', 'line 2\\n', 'line 3\\n']\n",
        "f.writelines(lines)\n",
        "f.close()"
      ],
      "metadata": {
        "id": "cPH6h8LIUHuO"
      },
      "execution_count": 2,
      "outputs": []
    },
    {
      "cell_type": "code",
      "source": [
        "f = open('myfile.txt', 'w')\n",
        "lines = ['line 1', 'line 2', 'line 3']\n",
        "for line in lines:\n",
        "    f.write(line + '\\n')\n",
        "f.close()"
      ],
      "metadata": {
        "id": "9vIqbXaaUQfz"
      },
      "execution_count": 3,
      "outputs": []
    },
    {
      "cell_type": "markdown",
      "source": [
        "seek() functions:"
      ],
      "metadata": {
        "id": "DsReVgFgUfZq"
      }
    },
    {
      "cell_type": "code",
      "source": [
        "with open('/content/myfile.txt', 'r') as f:\n",
        "  # Move to the 10th byte in the file\n",
        "  f.seek(10)\n",
        "\n",
        "  # Read the next 5 bytes\n",
        "  data = f.read(5)"
      ],
      "metadata": {
        "id": "kQ0yL5KXUcg7"
      },
      "execution_count": 5,
      "outputs": []
    },
    {
      "cell_type": "markdown",
      "source": [
        "tell() function"
      ],
      "metadata": {
        "id": "KuN8Zst7UfCS"
      }
    },
    {
      "cell_type": "code",
      "source": [
        "with open('/content/myfile.txt', 'r') as f:\n",
        "  # Read the first 10 bytes\n",
        "  data = f.read(10)\n",
        "\n",
        "  # Save the current position\n",
        "  current_position = f.tell()\n",
        "\n",
        "  # Seek to the saved position\n",
        "  f.seek(current_position)"
      ],
      "metadata": {
        "id": "x--fMojUUcjz"
      },
      "execution_count": 7,
      "outputs": []
    },
    {
      "cell_type": "markdown",
      "source": [
        "truncate() function"
      ],
      "metadata": {
        "id": "BI5jmLHaU0FD"
      }
    },
    {
      "cell_type": "code",
      "source": [
        "with open('sample.txt', 'w') as f:\n",
        "  f.write('Hello World!')\n",
        "  f.truncate(5)\n",
        "\n",
        "with open('sample.txt', 'r') as f:\n",
        "  print(f.read())\n"
      ],
      "metadata": {
        "colab": {
          "base_uri": "https://localhost:8080/"
        },
        "id": "5F7rG9_WUzdg",
        "outputId": "c82b61b9-d977-433d-a769-14c53c8703f1"
      },
      "execution_count": 8,
      "outputs": [
        {
          "output_type": "stream",
          "name": "stdout",
          "text": [
            "Hello\n"
          ]
        }
      ]
    },
    {
      "cell_type": "markdown",
      "source": [
        "Lambda Functions in Python"
      ],
      "metadata": {
        "id": "mUFCeHFmVRPi"
      }
    },
    {
      "cell_type": "code",
      "source": [
        "#Syntax:\n",
        "lambda arguments: expression"
      ],
      "metadata": {
        "id": "Eih2LPfuVPbX"
      },
      "execution_count": null,
      "outputs": []
    },
    {
      "cell_type": "code",
      "source": [
        "# Function to double the input\n",
        "def double(x):\n",
        "  return x * 2\n",
        "\n",
        "# Lambda function to double the input\n",
        "lambda x: x * 2"
      ],
      "metadata": {
        "colab": {
          "base_uri": "https://localhost:8080/"
        },
        "id": "3idytVqHVTO1",
        "outputId": "04e5079b-47bc-487c-a8af-a363b767b341"
      },
      "execution_count": 9,
      "outputs": [
        {
          "output_type": "execute_result",
          "data": {
            "text/plain": [
              "<function __main__.<lambda>(x)>"
            ]
          },
          "metadata": {},
          "execution_count": 9
        }
      ]
    },
    {
      "cell_type": "code",
      "source": [
        "# Function to calculate the product of two numbers\n",
        "def multiply(x, y):\n",
        "    return x * y\n",
        "\n",
        "# Lambda function to calculate the product of two numbers\n",
        "lambda x, y: x * y"
      ],
      "metadata": {
        "colab": {
          "base_uri": "https://localhost:8080/"
        },
        "id": "pcrGoNg3VbZy",
        "outputId": "53290a99-2858-4eb7-8bc2-3243caed7eb2"
      },
      "execution_count": 10,
      "outputs": [
        {
          "output_type": "execute_result",
          "data": {
            "text/plain": [
              "<function __main__.<lambda>(x, y)>"
            ]
          },
          "metadata": {},
          "execution_count": 10
        }
      ]
    },
    {
      "cell_type": "code",
      "source": [
        "# Lambda function to calculate the product of two numbers,\n",
        "# with additional print statement\n",
        "lambda x, y: print(f'{x} * {y} = {x * y}')"
      ],
      "metadata": {
        "colab": {
          "base_uri": "https://localhost:8080/"
        },
        "id": "OMuk_xfAVbcf",
        "outputId": "c0d5ab91-51d8-47df-87c7-914300b319c7"
      },
      "execution_count": 11,
      "outputs": [
        {
          "output_type": "execute_result",
          "data": {
            "text/plain": [
              "<function __main__.<lambda>(x, y)>"
            ]
          },
          "metadata": {},
          "execution_count": 11
        }
      ]
    },
    {
      "cell_type": "markdown",
      "source": [
        "Basic Lambda Function:"
      ],
      "metadata": {
        "id": "W1ULhiQ4Vjem"
      }
    },
    {
      "cell_type": "code",
      "source": [
        "# Basic lambda function to add two numbers\n",
        "add = lambda x, y: x + y\n",
        "print(add(3, 5))  # Output: 8\n"
      ],
      "metadata": {
        "colab": {
          "base_uri": "https://localhost:8080/"
        },
        "id": "edToO_SFVhfE",
        "outputId": "a379c21a-88df-452f-cc97-e06807f2f3c7"
      },
      "execution_count": 12,
      "outputs": [
        {
          "output_type": "stream",
          "name": "stdout",
          "text": [
            "8\n"
          ]
        }
      ]
    },
    {
      "cell_type": "markdown",
      "source": [
        "Using Lambda with Built-in Functions:"
      ],
      "metadata": {
        "id": "k5Hz24qZVmPm"
      }
    },
    {
      "cell_type": "code",
      "source": [
        "# Sorting a list of tuples based on the second element\n",
        "pairs = [(1, 'one'), (3, 'three'), (2, 'two'), (4, 'four')]\n",
        "pairs.sort(key=lambda pair: pair[1])\n",
        "print(pairs)  # Output: [(4, 'four'), (1, 'one'), (3, 'three'), (2, 'two')]\n"
      ],
      "metadata": {
        "colab": {
          "base_uri": "https://localhost:8080/"
        },
        "id": "xn-FlD7iVhht",
        "outputId": "446de16a-4f83-4420-cbbf-2579adf1cdc4"
      },
      "execution_count": 13,
      "outputs": [
        {
          "output_type": "stream",
          "name": "stdout",
          "text": [
            "[(4, 'four'), (1, 'one'), (3, 'three'), (2, 'two')]\n"
          ]
        }
      ]
    },
    {
      "cell_type": "markdown",
      "source": [
        "Lambda Functions in Map():"
      ],
      "metadata": {
        "id": "Son1yJMRVr75"
      }
    },
    {
      "cell_type": "code",
      "source": [
        "# Doubling each element in a list using map() with lambda\n",
        "numbers = [1, 2, 3, 4, 5]\n",
        "doubled = list(map(lambda x: x * 2, numbers))\n",
        "print(doubled)  # Output: [2, 4, 6, 8, 10]\n"
      ],
      "metadata": {
        "colab": {
          "base_uri": "https://localhost:8080/"
        },
        "id": "nZ2fXWJ-Vhl5",
        "outputId": "356c2438-0b72-4a0f-88e0-a8bd984c3308"
      },
      "execution_count": 14,
      "outputs": [
        {
          "output_type": "stream",
          "name": "stdout",
          "text": [
            "[2, 4, 6, 8, 10]\n"
          ]
        }
      ]
    },
    {
      "cell_type": "markdown",
      "source": [
        "Lambda Functions in Filter():"
      ],
      "metadata": {
        "id": "Qd0lR9YCVvGj"
      }
    },
    {
      "cell_type": "code",
      "source": [
        "# Filtering even numbers from a list using filter() with lambda\n",
        "numbers = [1, 2, 3, 4, 5, 6, 7, 8, 9, 10]\n",
        "even_numbers = list(filter(lambda x: x % 2 == 0, numbers))\n",
        "print(even_numbers)  # Output: [2, 4, 6, 8, 10]\n"
      ],
      "metadata": {
        "colab": {
          "base_uri": "https://localhost:8080/"
        },
        "id": "7C6DlM4cVho0",
        "outputId": "24c66c8d-5100-46a4-a154-1f575dec51c0"
      },
      "execution_count": 15,
      "outputs": [
        {
          "output_type": "stream",
          "name": "stdout",
          "text": [
            "[2, 4, 6, 8, 10]\n"
          ]
        }
      ]
    },
    {
      "cell_type": "markdown",
      "source": [
        "Lambda Functions in Reduce():"
      ],
      "metadata": {
        "id": "Xe2YQ3zCVzLT"
      }
    },
    {
      "cell_type": "code",
      "source": [
        "from functools import reduce\n",
        "\n",
        "# Summing up all elements in a list using reduce() with lambda\n",
        "numbers = [1, 2, 3, 4, 5]\n",
        "sum_all = reduce(lambda x, y: x + y, numbers)\n",
        "print(sum_all)  # Output: 15\n"
      ],
      "metadata": {
        "colab": {
          "base_uri": "https://localhost:8080/"
        },
        "id": "FOZMKyQwVhrW",
        "outputId": "aed47b74-723e-4e15-f2ac-7e4692afb90e"
      },
      "execution_count": 16,
      "outputs": [
        {
          "output_type": "stream",
          "name": "stdout",
          "text": [
            "15\n"
          ]
        }
      ]
    },
    {
      "cell_type": "markdown",
      "source": [
        "Lambda Functions with Conditional Expressions:"
      ],
      "metadata": {
        "id": "VxAtMQtsV2xP"
      }
    },
    {
      "cell_type": "code",
      "source": [
        "# Lambda function with conditional expression to find maximum of two numbers\n",
        "max_value = lambda x, y: x if x > y else y\n",
        "print(max_value(5, 10))  # Output: 10\n"
      ],
      "metadata": {
        "colab": {
          "base_uri": "https://localhost:8080/"
        },
        "id": "aK2Eoj03V1-3",
        "outputId": "908093b3-9b48-486a-d648-6dfb9bc78e76"
      },
      "execution_count": 17,
      "outputs": [
        {
          "output_type": "stream",
          "name": "stdout",
          "text": [
            "10\n"
          ]
        }
      ]
    },
    {
      "cell_type": "markdown",
      "source": [
        "Advanced Example - Using Lambda with Sorted():"
      ],
      "metadata": {
        "id": "HECQ-YswV5io"
      }
    },
    {
      "cell_type": "code",
      "source": [
        "# Sorting a list of dictionaries based on a specific key using sorted() with lambda\n",
        "users = [\n",
        "    {'name': 'John', 'age': 30},\n",
        "    {'name': 'Jane', 'age': 25},\n",
        "    {'name': 'Dave', 'age': 35}\n",
        "]\n",
        "sorted_users = sorted(users, key=lambda user: user['age'])\n",
        "print(sorted_users)\n",
        "# Output: [{'name': 'Jane', 'age': 25}, {'name': 'John', 'age': 30}, {'name': 'Dave', 'age': 35}]\n"
      ],
      "metadata": {
        "colab": {
          "base_uri": "https://localhost:8080/"
        },
        "id": "6E-PGIO8V2Bw",
        "outputId": "44448b28-5139-4c35-8033-9a9e10b5e5be"
      },
      "execution_count": 18,
      "outputs": [
        {
          "output_type": "stream",
          "name": "stdout",
          "text": [
            "[{'name': 'Jane', 'age': 25}, {'name': 'John', 'age': 30}, {'name': 'Dave', 'age': 35}]\n"
          ]
        }
      ]
    }
  ]
}