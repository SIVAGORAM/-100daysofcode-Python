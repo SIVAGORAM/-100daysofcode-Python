{
  "nbformat": 4,
  "nbformat_minor": 0,
  "metadata": {
    "colab": {
      "provenance": [],
      "authorship_tag": "ABX9TyMHR+Z+Xo5MIusQOsCTJ8/f",
      "include_colab_link": true
    },
    "kernelspec": {
      "name": "python3",
      "display_name": "Python 3"
    },
    "language_info": {
      "name": "python"
    }
  },
  "cells": [
    {
      "cell_type": "markdown",
      "metadata": {
        "id": "view-in-github",
        "colab_type": "text"
      },
      "source": [
        "<a href=\"https://colab.research.google.com/github/SIVAGORAM/-100daysofcode-Python/blob/main/DAY_26.ipynb\" target=\"_parent\"><img src=\"https://colab.research.google.com/assets/colab-badge.svg\" alt=\"Open In Colab\"/></a>"
      ]
    },
    {
      "cell_type": "code",
      "source": [
        "import time\n",
        "timestamp = time.strftime('%H:%M:%S')\n",
        "print(timestamp)\n",
        "timestamp = time.strftime('%H')\n",
        "print(timestamp)\n",
        "timestamp = time.strftime('%M')\n",
        "print(timestamp)\n",
        "timestamp = time.strftime('%S')\n",
        "print(timestamp)\n",
        "# https://docs.python.org/3/library/time.html#time.strftime"
      ],
      "metadata": {
        "colab": {
          "base_uri": "https://localhost:8080/"
        },
        "id": "KLL0moCsQS7b",
        "outputId": "e4e7d1d8-2849-4bbf-f8c4-98a2f3da2f7b"
      },
      "execution_count": 3,
      "outputs": [
        {
          "output_type": "stream",
          "name": "stdout",
          "text": [
            "14:25:31\n",
            "14\n",
            "25\n",
            "31\n"
          ]
        }
      ]
    },
    {
      "cell_type": "code",
      "source": [
        "#Create a python program capable of greeting you with Good Morning, Good Afternoon and Good Evening.\n",
        "#Your program should use time module to get the current hour. Here is a sample program and documentation link for you:"
      ],
      "metadata": {
        "id": "4HAKcUJ_P_0O"
      },
      "execution_count": null,
      "outputs": []
    },
    {
      "cell_type": "code",
      "source": [
        "import time\n",
        "t = time.strftime('%H:%M:%S')\n",
        "hour = int(time.strftime('%H'))\n",
        "# hour = int(input(\"Enter hour: \"))\n",
        "# print(hour)\n",
        "\n",
        "if(hour>=0 and hour<12):\n",
        "  print(\"Good Morning Sir!\")\n",
        "elif(hour>=12 and hour<17):\n",
        "  print(\"Good Afternoon Sir!\")\n",
        "elif(hour>=17 and hour<0):\n",
        "  print(\"Good Night Sir!\")"
      ],
      "metadata": {
        "colab": {
          "base_uri": "https://localhost:8080/"
        },
        "id": "OGIMShuKQHOt",
        "outputId": "994b29cb-39c1-493a-8114-8d541c66bd9e"
      },
      "execution_count": 2,
      "outputs": [
        {
          "output_type": "stream",
          "name": "stdout",
          "text": [
            "Good Afternoon Sir!\n"
          ]
        }
      ]
    },
    {
      "cell_type": "code",
      "source": [
        "#Create a program capable of displaying questions to the user like KBC. Use List data type to store the questions\n",
        "#and their correct answers. Display the final amount the person is taking home after playing the game."
      ],
      "metadata": {
        "id": "L9cjvfsPQWyk"
      },
      "execution_count": null,
      "outputs": []
    },
    {
      "cell_type": "code",
      "source": [
        "def kbc_game(questions):\n",
        "    total_prize = 0\n",
        "\n",
        "    print(\"Welcome to Kaun Banega Crorepati!\")\n",
        "    print(\"Answer the following questions to win money:\")\n",
        "    print()\n",
        "\n",
        "    for i, (question, options, correct_answer, prize) in enumerate(questions, start=1):\n",
        "        print(f\"Question {i}: {question}\")\n",
        "        print(\"Options:\")\n",
        "        for idx, option in enumerate(options, start=1):\n",
        "            print(f\"{idx}. {option}\")\n",
        "        user_answer = int(input(\"Enter your answer (1, 2, 3, or 4): \"))\n",
        "\n",
        "        if user_answer == correct_answer:\n",
        "            print(\"Correct Answer!\")\n",
        "            total_prize += prize\n",
        "        else:\n",
        "            print(\"Wrong Answer!\")\n",
        "            break\n",
        "\n",
        "        print()\n",
        "\n",
        "    print(\"Congratulations! You have completed the game.\")\n",
        "    print(f\"Total Prize Money: ${total_prize}\")\n",
        "\n",
        "# List of questions with their options, correct answers, and prize money\n",
        "questions_list = [\n",
        "    (\"What is the capital of France?\", [\"1. London\", \"2. Paris\", \"3. Rome\", \"4. Berlin\"], 2, 1000),\n",
        "    (\"Which planet is known as the Red Planet?\", [\"1. Mars\", \"2. Jupiter\", \"3. Saturn\", \"4. Venus\"], 1, 2000),\n",
        "    (\"Who wrote 'Romeo and Juliet'?\", [\"1. William Shakespeare\", \"2. Charles Dickens\", \"3. Jane Austen\", \"4. Mark Twain\"], 1, 5000),\n",
        "    (\"What is the chemical symbol for water?\", [\"1. Wo\", \"2. Wa\", \"3. H2O\", \"4. Hy\"], 3, 10000),\n",
        "    (\"Which animal is known as the 'Ship of the Desert'?\", [\"1. Elephant\", \"2. Camel\", \"3. Lion\", \"4. Horse\"], 2, 20000)\n",
        "]\n",
        "\n",
        "# Call the function to start the game\n",
        "kbc_game(questions_list)\n"
      ],
      "metadata": {
        "colab": {
          "base_uri": "https://localhost:8080/"
        },
        "id": "fSHaFfyDQw_c",
        "outputId": "cd034033-a494-4be5-e2ad-44d27a3a5292"
      },
      "execution_count": 8,
      "outputs": [
        {
          "output_type": "stream",
          "name": "stdout",
          "text": [
            "Welcome to Kaun Banega Crorepati!\n",
            "Answer the following questions to win money:\n",
            "\n",
            "Question 1: What is the capital of France?\n",
            "Options:\n",
            "1. 1. London\n",
            "2. 2. Paris\n",
            "3. 3. Rome\n",
            "4. 4. Berlin\n",
            "Enter your answer (1, 2, 3, or 4): 2\n",
            "Correct Answer!\n",
            "\n",
            "Question 2: Which planet is known as the Red Planet?\n",
            "Options:\n",
            "1. 1. Mars\n",
            "2. 2. Jupiter\n",
            "3. 3. Saturn\n",
            "4. 4. Venus\n",
            "Enter your answer (1, 2, 3, or 4): 2\n",
            "Wrong Answer!\n",
            "Congratulations! You have completed the game.\n",
            "Total Prize Money: $1000\n"
          ]
        }
      ]
    }
  ]
}