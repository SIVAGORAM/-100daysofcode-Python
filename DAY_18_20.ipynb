{
  "nbformat": 4,
  "nbformat_minor": 0,
  "metadata": {
    "colab": {
      "provenance": [],
      "authorship_tag": "ABX9TyMhtIayyn9YmBILXgIcPdet",
      "include_colab_link": true
    },
    "kernelspec": {
      "name": "python3",
      "display_name": "Python 3"
    },
    "language_info": {
      "name": "python"
    }
  },
  "cells": [
    {
      "cell_type": "markdown",
      "metadata": {
        "id": "view-in-github",
        "colab_type": "text"
      },
      "source": [
        "<a href=\"https://colab.research.google.com/github/SIVAGORAM/-100daysofcode-Python/blob/main/DAY_18_20.ipynb\" target=\"_parent\"><img src=\"https://colab.research.google.com/assets/colab-badge.svg\" alt=\"Open In Colab\"/></a>"
      ]
    },
    {
      "cell_type": "code",
      "execution_count": null,
      "metadata": {
        "colab": {
          "base_uri": "https://localhost:8080/"
        },
        "id": "1q6cYdSuOc5J",
        "outputId": "2b32b2ea-f6b9-40ae-f62d-c22f1b62b98f"
      },
      "outputs": [
        {
          "output_type": "stream",
          "name": "stdout",
          "text": [
            "Hello, Amy Jhon Whatson\n"
          ]
        }
      ],
      "source": [
        "#Default arguments:\n",
        "def name(fname, mname = \"Jhon\", lname = \"Whatson\"):\n",
        "    print(\"Hello,\", fname, mname, lname)\n",
        "\n",
        "name(\"Amy\")"
      ]
    },
    {
      "cell_type": "code",
      "source": [
        "#Keyword arguments:\n",
        "def name(fname, mname, lname):\n",
        "    print(\"Hello,\", fname, mname, lname)\n",
        "\n",
        "name(mname = \"Peter\", lname = \"Wesker\", fname = \"Jade\")"
      ],
      "metadata": {
        "colab": {
          "base_uri": "https://localhost:8080/"
        },
        "id": "x9qChz2qRYFw",
        "outputId": "f4b5604f-e486-4867-8409-fbba8045df60"
      },
      "execution_count": null,
      "outputs": [
        {
          "output_type": "stream",
          "name": "stdout",
          "text": [
            "Hello, Jade Peter Wesker\n"
          ]
        }
      ]
    },
    {
      "cell_type": "code",
      "source": [
        "# Required arguments:\n",
        "#Example 1: when number of arguments passed does not match to the actual function definition.\n",
        "def name(fname, mname, lname):\n",
        "    print(\"Hello,\", fname, mname, lname)\n",
        "\n",
        "name(\"Peter\", \"Quill\")"
      ],
      "metadata": {
        "colab": {
          "base_uri": "https://localhost:8080/",
          "height": 176
        },
        "id": "q2iiAityRch7",
        "outputId": "d0e9546b-091d-4843-e37d-6524852b72f9"
      },
      "execution_count": null,
      "outputs": [
        {
          "output_type": "error",
          "ename": "TypeError",
          "evalue": "name() missing 1 required positional argument: 'lname'",
          "traceback": [
            "\u001b[0;31m---------------------------------------------------------------------------\u001b[0m",
            "\u001b[0;31mTypeError\u001b[0m                                 Traceback (most recent call last)",
            "\u001b[0;32m<ipython-input-3-3ba81ea0a875>\u001b[0m in \u001b[0;36m<cell line: 5>\u001b[0;34m()\u001b[0m\n\u001b[1;32m      3\u001b[0m     \u001b[0mprint\u001b[0m\u001b[0;34m(\u001b[0m\u001b[0;34m\"Hello,\"\u001b[0m\u001b[0;34m,\u001b[0m \u001b[0mfname\u001b[0m\u001b[0;34m,\u001b[0m \u001b[0mmname\u001b[0m\u001b[0;34m,\u001b[0m \u001b[0mlname\u001b[0m\u001b[0;34m)\u001b[0m\u001b[0;34m\u001b[0m\u001b[0;34m\u001b[0m\u001b[0m\n\u001b[1;32m      4\u001b[0m \u001b[0;34m\u001b[0m\u001b[0m\n\u001b[0;32m----> 5\u001b[0;31m \u001b[0mname\u001b[0m\u001b[0;34m(\u001b[0m\u001b[0;34m\"Peter\"\u001b[0m\u001b[0;34m,\u001b[0m \u001b[0;34m\"Quill\"\u001b[0m\u001b[0;34m)\u001b[0m\u001b[0;34m\u001b[0m\u001b[0;34m\u001b[0m\u001b[0m\n\u001b[0m",
            "\u001b[0;31mTypeError\u001b[0m: name() missing 1 required positional argument: 'lname'"
          ]
        }
      ]
    },
    {
      "cell_type": "code",
      "source": [
        "#Example 2: when number of arguments passed matches to the actual function definition.\n",
        "def name(fname, mname, lname):\n",
        "    print(\"Hello,\", fname, mname, lname)\n",
        "\n",
        "name(\"Peter\", \"Ego\", \"Quill\")"
      ],
      "metadata": {
        "colab": {
          "base_uri": "https://localhost:8080/"
        },
        "id": "eQlGOPenRt-i",
        "outputId": "3e5181a9-349b-4152-d164-38e34dafcc79"
      },
      "execution_count": null,
      "outputs": [
        {
          "output_type": "stream",
          "name": "stdout",
          "text": [
            "Hello, Peter Ego Quill\n"
          ]
        }
      ]
    },
    {
      "cell_type": "code",
      "source": [
        "# Variable-length arguments:\n",
        "#Arbitrary Arguments:\n",
        "def name(*name):\n",
        "    print(\"Hello,\", name[0], name[1], name[2])\n",
        "\n",
        "name(\"James\", \"Buchanan\", \"Barnes\")"
      ],
      "metadata": {
        "colab": {
          "base_uri": "https://localhost:8080/"
        },
        "id": "d72DqEXyR3j5",
        "outputId": "b20fcd1f-6eb6-4e30-dbdb-8765af0b1248"
      },
      "execution_count": null,
      "outputs": [
        {
          "output_type": "stream",
          "name": "stdout",
          "text": [
            "Hello, James Buchanan Barnes\n"
          ]
        }
      ]
    },
    {
      "cell_type": "code",
      "source": [
        "# Keyword Arbitrary Arguments:\n",
        "def name(**name):\n",
        "    print(\"Hello,\", name[\"fname\"], name[\"mname\"], name[\"lname\"])\n",
        "\n",
        "name(mname = \"Buchanan\", lname = \"Barnes\", fname = \"James\")"
      ],
      "metadata": {
        "colab": {
          "base_uri": "https://localhost:8080/"
        },
        "id": "vjNUFrs2SCo9",
        "outputId": "e8add09e-1ce1-483a-ed29-fe724c8f55d9"
      },
      "execution_count": null,
      "outputs": [
        {
          "output_type": "stream",
          "name": "stdout",
          "text": [
            "Hello, James Buchanan Barnes\n"
          ]
        }
      ]
    },
    {
      "cell_type": "code",
      "source": [
        "# return Statement\n",
        "def name(fname, mname, lname):\n",
        "    return \"Hello, \" + fname + \" \" + mname + \" \" + lname\n",
        "\n",
        "print(name(\"James\", \"Buchanan\", \"Barnes\"))"
      ],
      "metadata": {
        "colab": {
          "base_uri": "https://localhost:8080/"
        },
        "id": "w1JVPZLxSMWe",
        "outputId": "d81447bf-833b-458a-8e6a-08f57b3ebd36"
      },
      "execution_count": null,
      "outputs": [
        {
          "output_type": "stream",
          "name": "stdout",
          "text": [
            "Hello, James Buchanan Barnes\n"
          ]
        }
      ]
    },
    {
      "cell_type": "code",
      "source": [
        "def average(a, b, c=1):\n",
        "  print(\"The average is \", (a + b + c) / 2)\n",
        "average(2,4)\n"
      ],
      "metadata": {
        "colab": {
          "base_uri": "https://localhost:8080/"
        },
        "id": "6_TLoKQASjlI",
        "outputId": "b9535a15-f4c6-4cf0-b61e-763d7c342c8e"
      },
      "execution_count": null,
      "outputs": [
        {
          "output_type": "stream",
          "name": "stdout",
          "text": [
            "The average is  3.5\n"
          ]
        }
      ]
    },
    {
      "cell_type": "code",
      "source": [
        "def average(*numbers):\n",
        "  print(type(numbers))\n",
        "  sum = 0\n",
        "  for i in numbers:\n",
        "    sum = sum + i\n",
        "  print(\"Average is: \", sum / len(numbers))\n",
        "  return 7\n",
        "  return sum / len(numbers)\n",
        "\n",
        "\n",
        "average(4, 6)\n",
        "\n",
        "\n",
        "c = average(5, 6, 7, 1)\n",
        "print(c)"
      ],
      "metadata": {
        "colab": {
          "base_uri": "https://localhost:8080/"
        },
        "id": "pNlmXHrCSmfo",
        "outputId": "42be40c5-5ef5-4714-b637-a7a12b20bd0d"
      },
      "execution_count": null,
      "outputs": [
        {
          "output_type": "stream",
          "name": "stdout",
          "text": [
            "<class 'tuple'>\n",
            "Average is:  5.0\n",
            "<class 'tuple'>\n",
            "Average is:  4.75\n",
            "7\n"
          ]
        }
      ]
    },
    {
      "cell_type": "code",
      "source": [
        "def name(**name):\n",
        "  print(type(name))\n",
        "  print(\"Hello,\", name[\"fname\"], name[\"mname\"], name[\"lname\"])\n",
        "\n",
        "\n",
        "name(mname=\"Buchanan\", lname=\"Barnes\", fname=\"James\")"
      ],
      "metadata": {
        "colab": {
          "base_uri": "https://localhost:8080/"
        },
        "id": "eNYXPuHISmi6",
        "outputId": "08d48ce4-e605-493c-fb2f-e9ac9b44cf48"
      },
      "execution_count": null,
      "outputs": [
        {
          "output_type": "stream",
          "name": "stdout",
          "text": [
            "<class 'dict'>\n",
            "Hello, James Buchanan Barnes\n"
          ]
        }
      ]
    },
    {
      "cell_type": "code",
      "source": [
        "#Function with Positional Arguments:\n",
        "def greet(name):\n",
        "    print(\"Hello,\", name)\n",
        "\n",
        "greet(\"Alice\")\n"
      ],
      "metadata": {
        "colab": {
          "base_uri": "https://localhost:8080/"
        },
        "id": "huJyTOALSmnl",
        "outputId": "9506726e-7086-47ef-b93f-e96465c196da"
      },
      "execution_count": null,
      "outputs": [
        {
          "output_type": "stream",
          "name": "stdout",
          "text": [
            "Hello, Alice\n"
          ]
        }
      ]
    },
    {
      "cell_type": "code",
      "source": [
        "# Function with Default Argument:\n",
        "def greet(name=\"Guest\"):\n",
        "    print(\"Hello,\", name)\n",
        "\n",
        "greet()\n"
      ],
      "metadata": {
        "colab": {
          "base_uri": "https://localhost:8080/"
        },
        "id": "LkxsIwkiTSl7",
        "outputId": "9be57124-371d-42bd-db3d-d993aa0c50ce"
      },
      "execution_count": null,
      "outputs": [
        {
          "output_type": "stream",
          "name": "stdout",
          "text": [
            "Hello, Guest\n"
          ]
        }
      ]
    },
    {
      "cell_type": "code",
      "source": [
        "#Function with Keyword Arguments:\n",
        "def greet(name, age):\n",
        "    print(\"Hello,\", name, \"you are\", age, \"years old.\")\n",
        "\n",
        "greet(age=25, name=\"Alice\")\n"
      ],
      "metadata": {
        "colab": {
          "base_uri": "https://localhost:8080/"
        },
        "id": "lZppA3I5TSqs",
        "outputId": "04d929a7-3004-48d9-f9a2-f6c4f399288c"
      },
      "execution_count": null,
      "outputs": [
        {
          "output_type": "stream",
          "name": "stdout",
          "text": [
            "Hello, Alice you are 25 years old.\n"
          ]
        }
      ]
    },
    {
      "cell_type": "code",
      "source": [
        "#Intermediate Examples:"
      ],
      "metadata": {
        "id": "22zTPtEiTSt7"
      },
      "execution_count": null,
      "outputs": []
    },
    {
      "cell_type": "code",
      "source": [
        "# Function with Arbitrary Number of Arguments:\n",
        "def average(*args):\n",
        "    return sum(args) / len(args)\n",
        "\n",
        "print(average(3, 5, 7, 9))\n"
      ],
      "metadata": {
        "colab": {
          "base_uri": "https://localhost:8080/"
        },
        "id": "nz6l_fEeTnCR",
        "outputId": "494eb03e-6406-40f6-ad06-ddfadc7a59bf"
      },
      "execution_count": null,
      "outputs": [
        {
          "output_type": "stream",
          "name": "stdout",
          "text": [
            "6.0\n"
          ]
        }
      ]
    },
    {
      "cell_type": "code",
      "source": [
        "#Function with Arbitrary Keyword Arguments:\n",
        "def details(**kwargs):\n",
        "    for key, value in kwargs.items():\n",
        "        print(key + \":\", value)\n",
        "\n",
        "details(name=\"Alice\", age=25, country=\"USA\")\n"
      ],
      "metadata": {
        "colab": {
          "base_uri": "https://localhost:8080/"
        },
        "id": "pBQyL8NMTq9p",
        "outputId": "a5d65de7-9805-4fd7-e2f4-3c1f97efa479"
      },
      "execution_count": null,
      "outputs": [
        {
          "output_type": "stream",
          "name": "stdout",
          "text": [
            "name: Alice\n",
            "age: 25\n",
            "country: USA\n"
          ]
        }
      ]
    },
    {
      "cell_type": "code",
      "source": [
        "#Function with Mix of Regular, Default, and Arbitrary Arguments:\n",
        "def mix_args(a, b=10, *args, **kwargs):\n",
        "    print(\"a =\", a)\n",
        "    print(\"b =\", b)\n",
        "    print(\"args =\", args)\n",
        "    print(\"kwargs =\", kwargs)\n",
        "\n",
        "mix_args(1, 2, 3, 4, 5, c=\"cat\", d=\"dog\")\n"
      ],
      "metadata": {
        "colab": {
          "base_uri": "https://localhost:8080/"
        },
        "id": "3SoTldwWTuja",
        "outputId": "1c9cb04c-a9f0-4fd3-d27c-b4762e5a9609"
      },
      "execution_count": null,
      "outputs": [
        {
          "output_type": "stream",
          "name": "stdout",
          "text": [
            "a = 1\n",
            "b = 2\n",
            "args = (3, 4, 5)\n",
            "kwargs = {'c': 'cat', 'd': 'dog'}\n"
          ]
        }
      ]
    },
    {
      "cell_type": "code",
      "source": [
        "#Advanced Examples:"
      ],
      "metadata": {
        "id": "iApX9ERYTys4"
      },
      "execution_count": null,
      "outputs": []
    },
    {
      "cell_type": "code",
      "source": [],
      "metadata": {
        "colab": {
          "base_uri": "https://localhost:8080/"
        },
        "id": "1UPeBBcMT1Ea",
        "outputId": "a3db9ca1-0c4a-4b81-fb40-beb65f8cec4e"
      },
      "execution_count": null,
      "outputs": [
        {
          "output_type": "stream",
          "name": "stdout",
          "text": [
            "15\n"
          ]
        }
      ]
    },
    {
      "cell_type": "code",
      "source": [
        "#Function with Type Annotations:\n",
        "def add(x: int, y: int) -> int:\n",
        "    return x + y\n",
        "\n",
        "result = add(3, 5)\n",
        "print(result)  # Output: 8\n"
      ],
      "metadata": {
        "colab": {
          "base_uri": "https://localhost:8080/"
        },
        "id": "rjUB9BH9T53f",
        "outputId": "4590e843-0331-4f09-d62a-cd61614c48bc"
      },
      "execution_count": null,
      "outputs": [
        {
          "output_type": "stream",
          "name": "stdout",
          "text": [
            "8\n"
          ]
        }
      ]
    },
    {
      "cell_type": "code",
      "source": [
        "#Function with Lambda Function as Argument:\n",
        "def apply_operation(x, y, operation):\n",
        "    return operation(x, y)\n",
        "\n",
        "result = apply_operation(5, 3, lambda x, y: x * y)\n",
        "print(result)  # Output: 15\n"
      ],
      "metadata": {
        "colab": {
          "base_uri": "https://localhost:8080/"
        },
        "id": "Hp-A1D7TT96y",
        "outputId": "bcf380d2-2673-447e-939a-cd9760f2126e"
      },
      "execution_count": null,
      "outputs": [
        {
          "output_type": "stream",
          "name": "stdout",
          "text": [
            "15\n"
          ]
        }
      ]
    }
  ]
}