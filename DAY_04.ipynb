{
  "nbformat": 4,
  "nbformat_minor": 0,
  "metadata": {
    "colab": {
      "provenance": [],
      "authorship_tag": "ABX9TyOwi44L1iI+QRBtXZSj7dBm",
      "include_colab_link": true
    },
    "kernelspec": {
      "name": "python3",
      "display_name": "Python 3"
    },
    "language_info": {
      "name": "python"
    }
  },
  "cells": [
    {
      "cell_type": "markdown",
      "metadata": {
        "id": "view-in-github",
        "colab_type": "text"
      },
      "source": [
        "<a href=\"https://colab.research.google.com/github/SIVAGORAM/-100daysofcode-Python/blob/main/DAY_04.ipynb\" target=\"_parent\"><img src=\"https://colab.research.google.com/assets/colab-badge.svg\" alt=\"Open In Colab\"/></a>"
      ]
    },
    {
      "cell_type": "code",
      "execution_count": null,
      "metadata": {
        "colab": {
          "base_uri": "https://localhost:8080/"
        },
        "id": "nqyIfXSwPb8f",
        "outputId": "d41a82a6-ebb6-48cb-d73d-6257567bec3b"
      },
      "outputs": [
        {
          "output_type": "stream",
          "name": "stdout",
          "text": [
            "This is a print statement.\n"
          ]
        }
      ],
      "source": [
        "#This is a 'Single-Line Comment'\n",
        "print(\"This is a print statement.\")"
      ]
    },
    {
      "cell_type": "code",
      "source": [
        "print(\"Hello World !!!\") #Printing Hello World"
      ],
      "metadata": {
        "colab": {
          "base_uri": "https://localhost:8080/"
        },
        "id": "mvndmaDNRkMD",
        "outputId": "e5a361a8-a2ee-47b2-e578-ef91abe5447d"
      },
      "execution_count": null,
      "outputs": [
        {
          "output_type": "stream",
          "name": "stdout",
          "text": [
            "Hello World !!!\n"
          ]
        }
      ]
    },
    {
      "cell_type": "code",
      "source": [
        "print(\"Python Program\")\n",
        "#print(\"Python Program\")"
      ],
      "metadata": {
        "colab": {
          "base_uri": "https://localhost:8080/"
        },
        "id": "80Xvhn4_RkOv",
        "outputId": "66e93547-cfd3-49f3-e5a6-995be16e2082"
      },
      "execution_count": null,
      "outputs": [
        {
          "output_type": "stream",
          "name": "stdout",
          "text": [
            "Python Program\n"
          ]
        }
      ]
    },
    {
      "cell_type": "code",
      "source": [
        "#Multi-Line Comments:\n",
        "#It will execute a block of code if a specified condition is true.\n",
        "#If the condition is false then it will execute another block of code.\n",
        "p = 7\n",
        "if (p > 5):\n",
        "    print(\"p is greater than 5.\")\n",
        "else:\n",
        "    print(\"p is not greater than 5.\")"
      ],
      "metadata": {
        "colab": {
          "base_uri": "https://localhost:8080/"
        },
        "id": "IoPrHmJ3RkRV",
        "outputId": "d17179c7-3f60-4f7f-befd-f60c82dcf3bb"
      },
      "execution_count": null,
      "outputs": [
        {
          "output_type": "stream",
          "name": "stdout",
          "text": [
            "p is greater than 5.\n"
          ]
        }
      ]
    },
    {
      "cell_type": "code",
      "source": [
        "#Multi-Line Comments:\n",
        "\"\"\"This is an if-else statement.\n",
        "It will execute a block of code if a specified condition is true.\n",
        "If the condition is false then it will execute another block of code.\"\"\"\n",
        "p = 7\n",
        "if (p > 5):\n",
        "    print(\"p is greater than 5.\")\n",
        "else:\n",
        "    print(\"p is not greater than 5.\")"
      ],
      "metadata": {
        "colab": {
          "base_uri": "https://localhost:8080/"
        },
        "id": "Ita1igzIRkTh",
        "outputId": "65305e70-1c6a-4c99-a3b1-39b6deb83cc4"
      },
      "execution_count": null,
      "outputs": [
        {
          "output_type": "stream",
          "name": "stdout",
          "text": [
            "p is greater than 5.\n"
          ]
        }
      ]
    },
    {
      "cell_type": "code",
      "source": [
        "#Escape Sequence Characters\n",
        "print(\"This doesnt \"execute\")\n",
        "print(\"This will \\\" execute\")"
      ],
      "metadata": {
        "colab": {
          "base_uri": "https://localhost:8080/"
        },
        "id": "oTnU45uVRkV0",
        "outputId": "8b1462ee-dd95-43aa-e100-cd8a459fe305"
      },
      "execution_count": null,
      "outputs": [
        {
          "output_type": "stream",
          "name": "stdout",
          "text": [
            "This doesntexecute\n",
            "This will \" execute\n"
          ]
        }
      ]
    },
    {
      "cell_type": "code",
      "source": [
        "#More on Print statement\n",
        "print(object(s), sep=separator, end=end, file=file, flush=flush)"
      ],
      "metadata": {
        "id": "Vy_ZqMCURkZV"
      },
      "execution_count": null,
      "outputs": []
    }
  ]
}