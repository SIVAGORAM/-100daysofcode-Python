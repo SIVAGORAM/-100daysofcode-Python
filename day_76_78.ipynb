{
  "nbformat": 4,
  "nbformat_minor": 0,
  "metadata": {
    "colab": {
      "provenance": [],
      "authorship_tag": "ABX9TyOx0ouTC+c+hDENGO2FNHKx",
      "include_colab_link": true
    },
    "kernelspec": {
      "name": "python3",
      "display_name": "Python 3"
    },
    "language_info": {
      "name": "python"
    }
  },
  "cells": [
    {
      "cell_type": "markdown",
      "metadata": {
        "id": "view-in-github",
        "colab_type": "text"
      },
      "source": [
        "<a href=\"https://colab.research.google.com/github/SIVAGORAM/-100daysofcode-Python/blob/main/day_76_78.ipynb\" target=\"_parent\"><img src=\"https://colab.research.google.com/assets/colab-badge.svg\" alt=\"Open In Colab\"/></a>"
      ]
    },
    {
      "cell_type": "code",
      "execution_count": null,
      "metadata": {
        "colab": {
          "base_uri": "https://localhost:8080/"
        },
        "id": "rAGfCoqXUzDF",
        "outputId": "69465620-0c12-43df-f7bf-ae9ed0089275"
      },
      "outputs": [
        {
          "output_type": "stream",
          "name": "stdout",
          "text": [
            "This is the child method.\n",
            "This is the parent method.\n"
          ]
        }
      ],
      "source": [
        "class ParentClass:\n",
        "    def parent_method(self):\n",
        "        print(\"This is the parent method.\")\n",
        "\n",
        "class ChildClass(ParentClass):\n",
        "    def child_method(self):\n",
        "        print(\"This is the child method.\")\n",
        "        super().parent_method()\n",
        "\n",
        "child_object = ChildClass()\n",
        "child_object.child_method()"
      ]
    },
    {
      "cell_type": "code",
      "source": [
        "class ParentClass1:\n",
        "    def parent_method(self):\n",
        "        print(\"This is the parent method of ParentClass1.\")\n",
        "\n",
        "class ParentClass2:\n",
        "    def parent_method(self):\n",
        "        print(\"This is the parent method of ParentClass2.\")\n",
        "\n",
        "class ChildClass(ParentClass1, ParentClass2):\n",
        "    def child_method(self):\n",
        "        print(\"This is the child method.\")\n",
        "        super().parent_method()\n",
        "\n",
        "child_object = ChildClass()\n",
        "child_object.child_method()"
      ],
      "metadata": {
        "colab": {
          "base_uri": "https://localhost:8080/"
        },
        "id": "xYIfIWdkViKs",
        "outputId": "1bc8a5dc-d4e6-44d6-8949-8af805a21934"
      },
      "execution_count": null,
      "outputs": [
        {
          "output_type": "stream",
          "name": "stdout",
          "text": [
            "This is the child method.\n",
            "This is the parent method of ParentClass1.\n"
          ]
        }
      ]
    },
    {
      "cell_type": "markdown",
      "source": [
        "Basic Single Inheritance with super'"
      ],
      "metadata": {
        "id": "T7VjZigpWWzw"
      }
    },
    {
      "cell_type": "code",
      "source": [
        "class Person:\n",
        "    def __init__(self, name, age):\n",
        "        self.name = name\n",
        "        self.age = age\n",
        "\n",
        "    def display(self):\n",
        "        print(f'Name: {self.name}, Age: {self.age}')\n",
        "\n",
        "class Student(Person):\n",
        "    def __init__(self, name, age, student_id):\n",
        "        super().__init__(name, age)  # Call the parent class's __init__ method\n",
        "        self.student_id = student_id\n",
        "\n",
        "    def display(self):\n",
        "        super().display()  # Call the parent class's display method\n",
        "        print(f'Student ID: {self.student_id}')\n",
        "\n",
        "# Creating an instance of Student\n",
        "student = Student('Alice', 20, 'S12345')\n",
        "student.display()\n",
        "# Output:\n",
        "# Name: Alice, Age: 20\n",
        "# Student ID: S12345\n"
      ],
      "metadata": {
        "colab": {
          "base_uri": "https://localhost:8080/"
        },
        "id": "jF2IPPDxVnSk",
        "outputId": "1f6c89ec-f823-458f-84c0-2216c200b727"
      },
      "execution_count": null,
      "outputs": [
        {
          "output_type": "stream",
          "name": "stdout",
          "text": [
            "Name: Alice, Age: 20\n",
            "Student ID: S12345\n"
          ]
        }
      ]
    },
    {
      "cell_type": "markdown",
      "source": [
        "Method Overriding with super"
      ],
      "metadata": {
        "id": "SnzSwfKLWceV"
      }
    },
    {
      "cell_type": "code",
      "source": [
        "class Animal:\n",
        "    def sound(self):\n",
        "        print('Some generic animal sound')\n",
        "\n",
        "class Dog(Animal):\n",
        "    def sound(self):\n",
        "        super().sound()  # Call the parent class's sound method\n",
        "        print('Bark! Bark!')\n",
        "\n",
        "# Creating an instance of Dog\n",
        "dog = Dog()\n",
        "dog.sound()\n",
        "# Output:\n",
        "# Some generic animal sound\n",
        "# Bark! Bark!\n"
      ],
      "metadata": {
        "colab": {
          "base_uri": "https://localhost:8080/"
        },
        "id": "096Q7hZLWZ2_",
        "outputId": "4e94d970-8e22-43f2-eea4-e88f22009041"
      },
      "execution_count": null,
      "outputs": [
        {
          "output_type": "stream",
          "name": "stdout",
          "text": [
            "Some generic animal sound\n",
            "Bark! Bark!\n"
          ]
        }
      ]
    },
    {
      "cell_type": "markdown",
      "source": [
        "Using super to Initialize Parent Class Attributes"
      ],
      "metadata": {
        "id": "N1URl17lWhoS"
      }
    },
    {
      "cell_type": "code",
      "source": [
        "class Employee:\n",
        "    def __init__(self, name, salary):\n",
        "        self.name = name\n",
        "        self.salary = salary\n",
        "\n",
        "    def display(self):\n",
        "        print(f'Name: {self.name}, Salary: {self.salary}')\n",
        "\n",
        "class Manager(Employee):\n",
        "    def __init__(self, name, salary, department):\n",
        "        super().__init__(name, salary)  # Initialize name and salary from Employee\n",
        "        self.department = department\n",
        "\n",
        "    def display(self):\n",
        "        super().display()  # Call the parent class's display method\n",
        "        print(f'Department: {self.department}')\n",
        "\n",
        "# Creating an instance of Manager\n",
        "manager = Manager('John Doe', 90000, 'Sales')\n",
        "manager.display()\n",
        "# Output:\n",
        "# Name: John Doe, Salary: 90000\n",
        "# Department: Sales\n"
      ],
      "metadata": {
        "colab": {
          "base_uri": "https://localhost:8080/"
        },
        "id": "9VC1xfkIWZ5u",
        "outputId": "2845f3d6-5880-4809-95a5-5c4b64e1e527"
      },
      "execution_count": null,
      "outputs": [
        {
          "output_type": "stream",
          "name": "stdout",
          "text": [
            "Name: John Doe, Salary: 90000\n",
            "Department: Sales\n"
          ]
        }
      ]
    },
    {
      "cell_type": "markdown",
      "source": [
        "Multiple Inheritance with super"
      ],
      "metadata": {
        "id": "7xKQQA0RWmJa"
      }
    },
    {
      "cell_type": "code",
      "source": [
        "class A:\n",
        "    def __init__(self):\n",
        "        print('A __init__')\n",
        "\n",
        "    def method(self):\n",
        "        print('Method from class A')\n",
        "\n",
        "class B(A):\n",
        "    def __init__(self):\n",
        "        super().__init__()\n",
        "        print('B __init__')\n",
        "\n",
        "    def method(self):\n",
        "        super().method()\n",
        "        print('Method from class B')\n",
        "\n",
        "class C(A):\n",
        "    def __init__(self):\n",
        "        super().__init__()\n",
        "        print('C __init__')\n",
        "\n",
        "    def method(self):\n",
        "        super().method()\n",
        "        print('Method from class C')\n",
        "\n",
        "class D(B, C):\n",
        "    def __init__(self):\n",
        "        super().__init__()\n",
        "        print('D __init__')\n",
        "\n",
        "    def method(self):\n",
        "        super().method()\n",
        "        print('Method from class D')\n",
        "\n",
        "# Creating an instance of D\n",
        "d = D()\n",
        "d.method()\n",
        "# Output:\n",
        "# A __init__\n",
        "# C __init__\n",
        "# B __init__\n",
        "# D __init__\n",
        "# Method from class A\n",
        "# Method from class C\n",
        "# Method from class B\n",
        "# Method from class D\n"
      ],
      "metadata": {
        "colab": {
          "base_uri": "https://localhost:8080/"
        },
        "id": "Chc6qtn5WZ8O",
        "outputId": "156d46df-dad9-4ff5-abbc-4ef7a0ed1c2c"
      },
      "execution_count": null,
      "outputs": [
        {
          "output_type": "stream",
          "name": "stdout",
          "text": [
            "A __init__\n",
            "C __init__\n",
            "B __init__\n",
            "D __init__\n",
            "Method from class A\n",
            "Method from class C\n",
            "Method from class B\n",
            "Method from class D\n"
          ]
        }
      ]
    },
    {
      "cell_type": "markdown",
      "source": [
        "Using super with Property Getters and Setters"
      ],
      "metadata": {
        "id": "fLtF9r8KWqP3"
      }
    },
    {
      "cell_type": "code",
      "source": [
        "class Base:\n",
        "    def __init__(self):\n",
        "        self._value = 0\n",
        "\n",
        "    @property\n",
        "    def value(self):\n",
        "        return self._value\n",
        "\n",
        "    @value.setter\n",
        "    def value(self, val):\n",
        "        self._value = val\n",
        "\n",
        "class Derived(Base):\n",
        "    @property\n",
        "    def value(self):\n",
        "        return super().value * 2\n",
        "\n",
        "    @value.setter\n",
        "    def value(self, val):\n",
        "        super(Derived, Derived).value.__set__(self, val / 2)\n",
        "\n",
        "# Creating an instance of Derived\n",
        "d = Derived()\n",
        "d.value = 10\n",
        "print(d.value)  # Output: 10 (since internally it's stored as 5)\n",
        "print(d._value)  # Output: 5 (internal value stored in Base)\n"
      ],
      "metadata": {
        "colab": {
          "base_uri": "https://localhost:8080/"
        },
        "id": "lnreSzi4WZ_o",
        "outputId": "c2b3cca0-f333-4062-d00d-25b10ec629d5"
      },
      "execution_count": null,
      "outputs": [
        {
          "output_type": "stream",
          "name": "stdout",
          "text": [
            "10.0\n",
            "5.0\n"
          ]
        }
      ]
    },
    {
      "cell_type": "markdown",
      "source": [
        "Magic/Dunder Methods in Python"
      ],
      "metadata": {
        "id": "ebBA5TX0ZgYq"
      }
    },
    {
      "cell_type": "markdown",
      "source": [
        "Example 1: __init__ and __str__ : The __init__ method is the initializer or constructor, and the __str__ method is used to provide a string representation of the object."
      ],
      "metadata": {
        "id": "zgSyPeGsZhfV"
      }
    },
    {
      "cell_type": "code",
      "source": [
        "class Person:\n",
        "    def __init__(self, name, age):\n",
        "        self.name = name\n",
        "        self.age = age\n",
        "\n",
        "    def __str__(self):\n",
        "        return f'Person(name={self.name}, age={self.age})'\n",
        "\n",
        "# Creating an instance of Person\n",
        "p = Person('Alice', 30)\n",
        "print(p)  # Output: Person(name=Alice, age=30)\n"
      ],
      "metadata": {
        "colab": {
          "base_uri": "https://localhost:8080/"
        },
        "id": "7I_XQq0EWvBA",
        "outputId": "38b09c0a-4e75-4e70-b60a-006794c8b369"
      },
      "execution_count": null,
      "outputs": [
        {
          "output_type": "stream",
          "name": "stdout",
          "text": [
            "Person(name=Alice, age=30)\n"
          ]
        }
      ]
    },
    {
      "cell_type": "markdown",
      "source": [
        "Example 2: __repr__ : The __repr__ method provides an official string representation of the object, which can be used to recreate the object."
      ],
      "metadata": {
        "id": "ysg3Z5kNZoRL"
      }
    },
    {
      "cell_type": "code",
      "source": [
        "class Person:\n",
        "    def __init__(self, name, age):\n",
        "        self.name = name\n",
        "        self.age = age\n",
        "\n",
        "    def __repr__(self):\n",
        "        return f'Person(name={self.name!r}, age={self.age})'\n",
        "\n",
        "# Creating an instance of Person\n",
        "p = Person('Bob', 25)\n",
        "print(repr(p))  # Output: Person(name='Bob', age=25)\n"
      ],
      "metadata": {
        "colab": {
          "base_uri": "https://localhost:8080/"
        },
        "id": "08xvOjHyWvDK",
        "outputId": "84060701-4079-43a1-bbbd-faa5e24954fb"
      },
      "execution_count": null,
      "outputs": [
        {
          "output_type": "stream",
          "name": "stdout",
          "text": [
            "Person(name='Bob', age=25)\n"
          ]
        }
      ]
    },
    {
      "cell_type": "markdown",
      "source": [
        "Example 3: __add__ : The __add__ method is used to define the behavior of the addition operator (+) for custom objects."
      ],
      "metadata": {
        "id": "JBH7bRBUZsZg"
      }
    },
    {
      "cell_type": "code",
      "source": [
        "class Vector:\n",
        "    def __init__(self, x, y):\n",
        "        self.x = x\n",
        "        self.y = y\n",
        "\n",
        "    def __add__(self, other):\n",
        "        return Vector(self.x + other.x, self.y + other.y)\n",
        "\n",
        "    def __repr__(self):\n",
        "        return f'Vector({self.x}, {self.y})'\n",
        "\n",
        "# Creating instances of Vector\n",
        "v1 = Vector(1, 2)\n",
        "v2 = Vector(3, 4)\n",
        "v3 = v1 + v2\n",
        "print(v3)  # Output: Vector(4, 6)\n"
      ],
      "metadata": {
        "colab": {
          "base_uri": "https://localhost:8080/"
        },
        "id": "1yvz0wteWvGr",
        "outputId": "9eb312ee-c020-4f67-e372-d7768ffbde84"
      },
      "execution_count": null,
      "outputs": [
        {
          "output_type": "stream",
          "name": "stdout",
          "text": [
            "Vector(4, 6)\n"
          ]
        }
      ]
    },
    {
      "cell_type": "markdown",
      "source": [
        "Example 4: __len__ : The __len__ method is used to define the behavior of the len() function for custom objects."
      ],
      "metadata": {
        "id": "NcVFiMqPZxi9"
      }
    },
    {
      "cell_type": "code",
      "source": [
        "class MyList:\n",
        "    def __init__(self, items):\n",
        "        self.items = items\n",
        "\n",
        "    def __len__(self):\n",
        "        return len(self.items)\n",
        "\n",
        "# Creating an instance of MyList\n",
        "my_list = MyList([1, 2, 3, 4, 5])\n",
        "print(len(my_list))  # Output: 5\n"
      ],
      "metadata": {
        "colab": {
          "base_uri": "https://localhost:8080/"
        },
        "id": "f5PyiQv7Zu8T",
        "outputId": "044d908d-2c8c-4036-ae19-d3c18d33c249"
      },
      "execution_count": null,
      "outputs": [
        {
          "output_type": "stream",
          "name": "stdout",
          "text": [
            "5\n"
          ]
        }
      ]
    },
    {
      "cell_type": "markdown",
      "source": [
        "Example 5: __getitem__ and __setitem__ : The __getitem__ and __setitem__ methods define the behavior of indexing and assignment to an index for custom objects."
      ],
      "metadata": {
        "id": "_u6Xu5BsZ1tZ"
      }
    },
    {
      "cell_type": "code",
      "source": [
        "class MyList:\n",
        "    def __init__(self, items):\n",
        "        self.items = items\n",
        "\n",
        "    def __getitem__(self, index):\n",
        "        return self.items[index]\n",
        "\n",
        "    def __setitem__(self, index, value):\n",
        "        self.items[index] = value\n",
        "\n",
        "# Creating an instance of MyList\n",
        "my_list = MyList([1, 2, 3, 4, 5])\n",
        "print(my_list[2])  # Output: 3\n",
        "my_list[2] = 10\n",
        "print(my_list[2])  # Output: 10\n"
      ],
      "metadata": {
        "colab": {
          "base_uri": "https://localhost:8080/"
        },
        "id": "u-ck_KU7ZvAW",
        "outputId": "ac9729dc-6310-48b2-f44e-72c0cae39f2a"
      },
      "execution_count": null,
      "outputs": [
        {
          "output_type": "stream",
          "name": "stdout",
          "text": [
            "3\n",
            "10\n"
          ]
        }
      ]
    },
    {
      "cell_type": "markdown",
      "source": [
        "Example 6: __contains__ : The __contains__ method defines the behavior of the in operator for custom objects."
      ],
      "metadata": {
        "id": "9yOC5rdrZ6PA"
      }
    },
    {
      "cell_type": "code",
      "source": [
        "class MyList:\n",
        "    def __init__(self, items):\n",
        "        self.items = items\n",
        "\n",
        "    def __contains__(self, item):\n",
        "        return item in self.items\n",
        "\n",
        "# Creating an instance of MyList\n",
        "my_list = MyList([1, 2, 3, 4, 5])\n",
        "print(3 in my_list)  # Output: True\n",
        "print(6 in my_list)  # Output: False\n"
      ],
      "metadata": {
        "colab": {
          "base_uri": "https://localhost:8080/"
        },
        "id": "QZs85rxEZvCx",
        "outputId": "9da1b753-441d-43d1-ccf3-070294f1abb8"
      },
      "execution_count": null,
      "outputs": [
        {
          "output_type": "stream",
          "name": "stdout",
          "text": [
            "True\n",
            "False\n"
          ]
        }
      ]
    },
    {
      "cell_type": "markdown",
      "source": [
        "Example 7: __call__ : The __call__ method makes an instance of the class callable like a regular function."
      ],
      "metadata": {
        "id": "v9tutEvWZ9oJ"
      }
    },
    {
      "cell_type": "code",
      "source": [
        "class Adder:\n",
        "    def __init__(self, value):\n",
        "        self.value = value\n",
        "\n",
        "    def __call__(self, x):\n",
        "        return self.value + x\n",
        "\n",
        "# Creating an instance of Adder\n",
        "add_five = Adder(5)\n",
        "print(add_five(10))  # Output: 15\n"
      ],
      "metadata": {
        "colab": {
          "base_uri": "https://localhost:8080/"
        },
        "id": "Lr9p56NqZvGR",
        "outputId": "e3e65c26-10cd-4896-ff8b-999846f5a053"
      },
      "execution_count": null,
      "outputs": [
        {
          "output_type": "stream",
          "name": "stdout",
          "text": [
            "15\n"
          ]
        }
      ]
    },
    {
      "cell_type": "markdown",
      "source": [
        "Example 8: __eq__ and __lt__ : The __eq__ method is used to define the behavior of the equality operator (==), and the __lt__ method is used to define the behavior of the less-than operator (<)."
      ],
      "metadata": {
        "id": "hgHI38COaBrY"
      }
    },
    {
      "cell_type": "code",
      "source": [
        "class Person:\n",
        "    def __init__(self, name, age):\n",
        "        self.name = name\n",
        "        self.age = age\n",
        "\n",
        "    def __eq__(self, other):\n",
        "        return self.age == other.age\n",
        "\n",
        "    def __lt__(self, other):\n",
        "        return self.age < other.age\n",
        "\n",
        "# Creating instances of Person\n",
        "p1 = Person('Alice', 30)\n",
        "p2 = Person('Bob', 25)\n",
        "p3 = Person('Charlie', 30)\n",
        "\n",
        "print(p1 == p2)  # Output: False\n",
        "print(p1 == p3)  # Output: True\n",
        "print(p1 < p2)   # Output: False\n",
        "print(p2 < p1)   # Output: True\n"
      ],
      "metadata": {
        "colab": {
          "base_uri": "https://localhost:8080/"
        },
        "id": "oPV_Omf2Z_v8",
        "outputId": "aa350605-d3e5-4eb2-8206-6ebc809ede98"
      },
      "execution_count": null,
      "outputs": [
        {
          "output_type": "stream",
          "name": "stdout",
          "text": [
            "False\n",
            "True\n",
            "False\n",
            "True\n"
          ]
        }
      ]
    },
    {
      "cell_type": "code",
      "source": [],
      "metadata": {
        "id": "-QLseQCbZ_za"
      },
      "execution_count": null,
      "outputs": []
    },
    {
      "cell_type": "code",
      "source": [],
      "metadata": {
        "id": "tHNWyECXaAAU"
      },
      "execution_count": null,
      "outputs": []
    },
    {
      "cell_type": "code",
      "source": [],
      "metadata": {
        "id": "2vM0udh_aACZ"
      },
      "execution_count": null,
      "outputs": []
    },
    {
      "cell_type": "code",
      "source": [],
      "metadata": {
        "id": "yeuhI2nyaAF5"
      },
      "execution_count": null,
      "outputs": []
    }
  ]
}