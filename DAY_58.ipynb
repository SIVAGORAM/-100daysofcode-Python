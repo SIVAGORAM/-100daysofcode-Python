{
  "nbformat": 4,
  "nbformat_minor": 0,
  "metadata": {
    "colab": {
      "provenance": [],
      "authorship_tag": "ABX9TyNCqg5/UX8O8CY/wT7I9wm2",
      "include_colab_link": true
    },
    "kernelspec": {
      "name": "python3",
      "display_name": "Python 3"
    },
    "language_info": {
      "name": "python"
    }
  },
  "cells": [
    {
      "cell_type": "markdown",
      "metadata": {
        "id": "view-in-github",
        "colab_type": "text"
      },
      "source": [
        "<a href=\"https://colab.research.google.com/github/SIVAGORAM/-100daysofcode-Python/blob/main/DAY_58.ipynb\" target=\"_parent\"><img src=\"https://colab.research.google.com/assets/colab-badge.svg\" alt=\"Open In Colab\"/></a>"
      ]
    },
    {
      "cell_type": "markdown",
      "source": [
        "Polymorphism:"
      ],
      "metadata": {
        "id": "TLX8wlHJPJSZ"
      }
    },
    {
      "cell_type": "code",
      "execution_count": null,
      "metadata": {
        "colab": {
          "base_uri": "https://localhost:8080/"
        },
        "id": "S8BW-BgjOvBy",
        "outputId": "d20b3b4b-c80b-4cdb-902a-c25dcb2ee1b1"
      },
      "outputs": [
        {
          "output_type": "stream",
          "name": "stdout",
          "text": [
            "Dog barks\n",
            "Cat meows\n"
          ]
        }
      ],
      "source": [
        "class Animal:\n",
        "    def speak(self):\n",
        "        print(\"Animal speaks\")\n",
        "\n",
        "class Dog(Animal):\n",
        "    def speak(self):\n",
        "        print(\"Dog barks\")\n",
        "\n",
        "class Cat(Animal):\n",
        "    def speak(self):\n",
        "        print(\"Cat meows\")\n",
        "\n",
        "# Polymorphism: Same method name, different behavior based on object type\n",
        "def make_sound(animal):\n",
        "    animal.speak()\n",
        "\n",
        "# Creating instances of different classes\n",
        "dog = Dog()\n",
        "cat = Cat()\n",
        "\n",
        "# Calling the same method with different objects\n",
        "make_sound(dog)  # Output: Dog barks\n",
        "make_sound(cat)  # Output: Cat meows\n"
      ]
    },
    {
      "cell_type": "markdown",
      "source": [
        "Method Overriding:"
      ],
      "metadata": {
        "id": "R2lIZub5PTmc"
      }
    },
    {
      "cell_type": "code",
      "source": [
        "class Animal:\n",
        "    def sound(self):\n",
        "        print(\"Animal makes a sound\")\n",
        "\n",
        "class Dog(Animal):\n",
        "    def sound(self):  # Method overriding\n",
        "        print(\"Dog barks\")\n",
        "\n",
        "class Cat(Animal):\n",
        "    def sound(self):  # Method overriding\n",
        "        print(\"Cat meows\")\n",
        "\n",
        "# Polymorphism: Same method name, different behavior based on object type\n",
        "dog = Dog()\n",
        "cat = Cat()\n",
        "dog.sound()  # Output: Dog barks\n",
        "cat.sound()  # Output: Cat meows\n"
      ],
      "metadata": {
        "colab": {
          "base_uri": "https://localhost:8080/"
        },
        "id": "jtoEQFtcPOgJ",
        "outputId": "c2fe7e21-347c-429e-a1e6-dd9d9f67da3a"
      },
      "execution_count": null,
      "outputs": [
        {
          "output_type": "stream",
          "name": "stdout",
          "text": [
            "Dog barks\n",
            "Cat meows\n"
          ]
        }
      ]
    },
    {
      "cell_type": "markdown",
      "source": [
        "Method Overloading:"
      ],
      "metadata": {
        "id": "Tvmw3fxhPUuz"
      }
    },
    {
      "cell_type": "code",
      "source": [
        "class Calculator:\n",
        "    def add(self, a, b):\n",
        "        return a + b\n",
        "\n",
        "    def add(self, a, b, c):  # Method overloading using default arguments\n",
        "        return a + b + c\n",
        "\n",
        "# Polymorphism: Same method name, different number of arguments\n",
        "calc = Calculator()\n",
        "print(calc.add(2,3,2))      # Output: TypeError: add() missing 1 required positional argument: 'c'\n",
        "print(calc.add(2, 3, 4))   # Output: 9\n"
      ],
      "metadata": {
        "colab": {
          "base_uri": "https://localhost:8080/"
        },
        "id": "5mG6-9ebPOiv",
        "outputId": "26270d1d-8a71-4e95-96a1-58719c6b8647"
      },
      "execution_count": null,
      "outputs": [
        {
          "output_type": "stream",
          "name": "stdout",
          "text": [
            "7\n",
            "9\n"
          ]
        }
      ]
    },
    {
      "cell_type": "markdown",
      "source": [
        "Using Polymorphism with Inheritance:"
      ],
      "metadata": {
        "id": "9p9ZwbBkPij4"
      }
    },
    {
      "cell_type": "code",
      "source": [
        "class Shape:\n",
        "    def draw(self):\n",
        "        pass\n",
        "\n",
        "class Circle(Shape):\n",
        "    def draw(self):\n",
        "        print(\"Drawing Circle\")\n",
        "\n",
        "class Square(Shape):\n",
        "    def draw(self):\n",
        "        print(\"Drawing Square\")\n",
        "\n",
        "# Polymorphism: Different subclasses, same method name\n",
        "def draw_shapes(shapes):\n",
        "    for shape in shapes:\n",
        "        shape.draw()\n",
        "\n",
        "# Creating instances of different shape classes\n",
        "circle = Circle()\n",
        "square = Square()\n",
        "\n",
        "# Calling the same method with different objects\n",
        "draw_shapes([circle, square])\n",
        "# Output:\n",
        "# Drawing Circle\n",
        "# Drawing Square\n"
      ],
      "metadata": {
        "colab": {
          "base_uri": "https://localhost:8080/"
        },
        "id": "f-PUSOKbPhzN",
        "outputId": "8265ea39-08f2-4809-9a1a-f49ae57510ef"
      },
      "execution_count": null,
      "outputs": [
        {
          "output_type": "stream",
          "name": "stdout",
          "text": [
            "Drawing Circle\n",
            "Drawing Square\n"
          ]
        }
      ]
    },
    {
      "cell_type": "markdown",
      "source": [
        "Polymorphism with Method Overloading (using default arguments):"
      ],
      "metadata": {
        "id": "shpERflRPmu_"
      }
    },
    {
      "cell_type": "code",
      "source": [
        "class Calculator:\n",
        "    def add(self, a, b, c=0):\n",
        "        return a + b + c\n",
        "\n",
        "# Polymorphism: Same method name, different number of arguments\n",
        "calc = Calculator()\n",
        "print(calc.add(2, 3))      # Output: 5\n",
        "print(calc.add(2, 3, 4))   # Output: 9\n"
      ],
      "metadata": {
        "colab": {
          "base_uri": "https://localhost:8080/"
        },
        "id": "NqbuVMf4Pl5l",
        "outputId": "6d7bce70-4f3b-4c6c-99d2-93ef3dcdcab2"
      },
      "execution_count": null,
      "outputs": [
        {
          "output_type": "stream",
          "name": "stdout",
          "text": [
            "5\n",
            "9\n"
          ]
        }
      ]
    },
    {
      "cell_type": "markdown",
      "source": [
        " Polymorphism with Function Overriding:"
      ],
      "metadata": {
        "id": "_zBHRePrPp4E"
      }
    },
    {
      "cell_type": "code",
      "source": [
        "class Vehicle:\n",
        "    def move(self):\n",
        "        print(\"Vehicle moves\")\n",
        "\n",
        "class Car(Vehicle):\n",
        "    def move(self):\n",
        "        print(\"Car drives\")\n",
        "\n",
        "class Plane(Vehicle):\n",
        "    def move(self):\n",
        "        print(\"Plane flies\")\n",
        "\n",
        "# Polymorphism: Same method name overridden in different subclasses\n",
        "vehicles = [Vehicle(), Car(), Plane()]\n",
        "\n",
        "for vehicle in vehicles:\n",
        "    vehicle.move()\n",
        "# Output:\n",
        "# Vehicle moves\n",
        "# Car drives\n",
        "# Plane flies\n"
      ],
      "metadata": {
        "colab": {
          "base_uri": "https://localhost:8080/"
        },
        "id": "e1bj3hUEPl-E",
        "outputId": "02d6801e-c2a2-463e-e9f4-4d66c5355b4e"
      },
      "execution_count": null,
      "outputs": [
        {
          "output_type": "stream",
          "name": "stdout",
          "text": [
            "Vehicle moves\n",
            "Car drives\n",
            "Plane flies\n"
          ]
        }
      ]
    },
    {
      "cell_type": "code",
      "source": [],
      "metadata": {
        "id": "Xh1PpnL7PmAc"
      },
      "execution_count": null,
      "outputs": []
    },
    {
      "cell_type": "markdown",
      "source": [
        "\n",
        "Encapsulation"
      ],
      "metadata": {
        "id": "K7Tl8B7YQ3p9"
      }
    },
    {
      "cell_type": "markdown",
      "source": [
        " Basic Example with Private Attributes and Getter/Setter Methods:"
      ],
      "metadata": {
        "id": "mQLuxrY_RDcC"
      }
    },
    {
      "cell_type": "code",
      "source": [
        "class Car:\n",
        "    def __init__(self, make, model):\n",
        "        self._make = make  # Protected attribute\n",
        "        self._model = model  # Protected attribute\n",
        "\n",
        "    def get_make(self):  # Getter method\n",
        "        return self._make\n",
        "\n",
        "    def set_make(self, make):  # Setter method\n",
        "        self._make = make\n",
        "\n",
        "# Creating an instance of the class\n",
        "my_car = Car(\"Toyota\", \"Camry\")\n",
        "\n",
        "# Accessing and modifying attributes using getter and setter methods\n",
        "print(my_car.get_make())  # Output: Toyota\n",
        "my_car.set_make(\"Honda\")\n",
        "print(my_car.get_make())  # Output: Honda\n"
      ],
      "metadata": {
        "colab": {
          "base_uri": "https://localhost:8080/"
        },
        "id": "lbnH2W4hPmEx",
        "outputId": "1eb7c85a-8356-44ab-b867-d4c501681bd9"
      },
      "execution_count": null,
      "outputs": [
        {
          "output_type": "stream",
          "name": "stdout",
          "text": [
            "Toyota\n",
            "Honda\n"
          ]
        }
      ]
    },
    {
      "cell_type": "markdown",
      "source": [
        "Using Property Decorators for Getter and Setter:"
      ],
      "metadata": {
        "id": "kIC3MHBgRHrR"
      }
    },
    {
      "cell_type": "code",
      "source": [
        "class Car:\n",
        "    def __init__(self, make, model):\n",
        "        self._make = make\n",
        "        self._model = model\n",
        "\n",
        "    @property\n",
        "    def make(self):  # Getter property\n",
        "        return self._make\n",
        "\n",
        "    @make.setter\n",
        "    def make(self, make):  # Setter property\n",
        "        self._make = make\n",
        "\n",
        "# Creating an instance of the class\n",
        "my_car = Car(\"Toyota\", \"Camry\")\n",
        "\n",
        "# Accessing and modifying attribute using property decorator\n",
        "print(my_car.make)  # Output: Toyota\n",
        "my_car.make = \"Honda\"\n",
        "print(my_car.make)  # Output: Honda\n"
      ],
      "metadata": {
        "colab": {
          "base_uri": "https://localhost:8080/"
        },
        "id": "I4y7cnY_RHGf",
        "outputId": "8a33c2b8-2f7f-42af-bb94-97cb4e51253f"
      },
      "execution_count": null,
      "outputs": [
        {
          "output_type": "stream",
          "name": "stdout",
          "text": [
            "Toyota\n",
            "Honda\n"
          ]
        }
      ]
    },
    {
      "cell_type": "markdown",
      "source": [
        "Encapsulation with Methods:"
      ],
      "metadata": {
        "id": "9dMx9tHjRMTa"
      }
    },
    {
      "cell_type": "code",
      "source": [
        "class BankAccount:\n",
        "    def __init__(self, account_number, balance):\n",
        "        self._account_number = account_number\n",
        "        self._balance = balance\n",
        "\n",
        "    def deposit(self, amount):\n",
        "        self._balance += amount\n",
        "\n",
        "    def withdraw(self, amount):\n",
        "        if amount <= self._balance:\n",
        "            self._balance -= amount\n",
        "        else:\n",
        "            print(\"Insufficient balance\")\n",
        "\n",
        "    def get_balance(self):\n",
        "        return self._balance\n",
        "\n",
        "# Creating an instance of the class\n",
        "my_account = BankAccount(\"123456\", 1000)\n",
        "\n",
        "# Depositing and withdrawing money using methods\n",
        "my_account.deposit(500)\n",
        "my_account.withdraw(200)\n",
        "print(my_account.get_balance())  # Output: 1300\n"
      ],
      "metadata": {
        "colab": {
          "base_uri": "https://localhost:8080/"
        },
        "id": "BQ4InRigRHJY",
        "outputId": "c33cacff-a0db-4ad6-c20c-313cb941d163"
      },
      "execution_count": null,
      "outputs": [
        {
          "output_type": "stream",
          "name": "stdout",
          "text": [
            "1300\n"
          ]
        }
      ]
    },
    {
      "cell_type": "markdown",
      "source": [
        "Advanced Example with Data Encapsulation and Abstraction:"
      ],
      "metadata": {
        "id": "bP1ogC6GRP8A"
      }
    },
    {
      "cell_type": "code",
      "source": [
        "class Employee:\n",
        "    def __init__(self, name, salary):\n",
        "        self._name = name\n",
        "        self._salary = salary\n",
        "\n",
        "    def get_name(self):\n",
        "        return self._name\n",
        "\n",
        "    def get_salary(self):\n",
        "        return self._salary\n",
        "\n",
        "    def calculate_bonus(self):\n",
        "        return self._salary * 0.1  # Bonus calculation logic encapsulated within the class\n",
        "\n",
        "# Creating an instance of the class\n",
        "emp = Employee(\"John\", 50000)\n",
        "\n",
        "# Accessing attributes and invoking methods to calculate bonus\n",
        "print(f\"Employee: {emp.get_name()}, Salary: {emp.get_salary()}, Bonus: {emp.calculate_bonus()}\")\n"
      ],
      "metadata": {
        "colab": {
          "base_uri": "https://localhost:8080/"
        },
        "id": "CItVxSixRHNv",
        "outputId": "81c23548-9f4d-4275-c318-99f0893779d1"
      },
      "execution_count": null,
      "outputs": [
        {
          "output_type": "stream",
          "name": "stdout",
          "text": [
            "Employee: John, Salary: 50000, Bonus: 5000.0\n"
          ]
        }
      ]
    },
    {
      "cell_type": "code",
      "source": [],
      "metadata": {
        "id": "gRdiTndHRTAJ"
      },
      "execution_count": null,
      "outputs": []
    },
    {
      "cell_type": "markdown",
      "source": [
        "Abstraction"
      ],
      "metadata": {
        "id": "GMG8nxh7Ru7v"
      }
    },
    {
      "cell_type": "markdown",
      "source": [
        "Basic Example:"
      ],
      "metadata": {
        "id": "LunMedwKRxnQ"
      }
    },
    {
      "cell_type": "code",
      "source": [
        "from abc import ABC, abstractmethod\n",
        "\n",
        "class Shape(ABC):\n",
        "    @abstractmethod\n",
        "    def area(self):\n",
        "        pass\n",
        "\n",
        "class Rectangle(Shape):\n",
        "    def __init__(self, length, width):\n",
        "        self.length = length\n",
        "        self.width = width\n",
        "\n",
        "    def area(self):\n",
        "        return self.length * self.width\n",
        "\n",
        "class Circle(Shape):\n",
        "    def __init__(self, radius):\n",
        "        self.radius = radius\n",
        "\n",
        "    def area(self):\n",
        "        return 3.14 * self.radius * self.radius\n",
        "\n",
        "# Creating instances of different shapes\n",
        "rectangle = Rectangle(5, 4)\n",
        "circle = Circle(3)\n",
        "\n",
        "# Calculating areas without knowing the implementation details\n",
        "print(\"Area of Rectangle:\", rectangle.area())  # Output: 20\n",
        "print(\"Area of Circle:\", circle.area())        # Output: 28.26\n"
      ],
      "metadata": {
        "colab": {
          "base_uri": "https://localhost:8080/"
        },
        "id": "tTUAevVVRTC7",
        "outputId": "bbf26de3-81f7-4d98-8c7c-fc4357e7c8b4"
      },
      "execution_count": null,
      "outputs": [
        {
          "output_type": "stream",
          "name": "stdout",
          "text": [
            "Area of Rectangle: 20\n",
            "Area of Circle: 28.259999999999998\n"
          ]
        }
      ]
    },
    {
      "cell_type": "markdown",
      "source": [
        "Abstraction and Inheritance:"
      ],
      "metadata": {
        "id": "hdEGM-5uR6kr"
      }
    },
    {
      "cell_type": "code",
      "source": [
        "class Animal(ABC):\n",
        "    def __init__(self, name):\n",
        "        self.name = name\n",
        "\n",
        "    @abstractmethod\n",
        "    def sound(self):\n",
        "        pass\n",
        "\n",
        "class Dog(Animal):\n",
        "    def sound(self):\n",
        "        return \"Woof\"\n",
        "\n",
        "class Cat(Animal):\n",
        "    def sound(self):\n",
        "        return \"Meow\"\n",
        "\n",
        "# Creating instances of different animals without knowing the implementation details\n",
        "dog = Dog(\"Buddy\")\n",
        "cat = Cat(\"Whiskers\")\n",
        "\n",
        "# Getting sounds without knowing the implementation details\n",
        "print(dog.name, \"says\", dog.sound())  # Output: Buddy says Woof\n",
        "print(cat.name, \"says\", cat.sound())  # Output: Whiskers says Meow\n"
      ],
      "metadata": {
        "colab": {
          "base_uri": "https://localhost:8080/"
        },
        "id": "o4_G47OCRz0d",
        "outputId": "94ef3356-c4c1-4348-dd73-b4c37829792f"
      },
      "execution_count": null,
      "outputs": [
        {
          "output_type": "stream",
          "name": "stdout",
          "text": [
            "Buddy says Woof\n",
            "Whiskers says Meow\n"
          ]
        }
      ]
    },
    {
      "cell_type": "markdown",
      "source": [
        " Abstraction with Composition:"
      ],
      "metadata": {
        "id": "Fcr8gLx0R9wN"
      }
    },
    {
      "cell_type": "code",
      "source": [
        "class Engine:\n",
        "    def start(self):\n",
        "        print(\"Engine started\")\n",
        "\n",
        "    def stop(self):\n",
        "        print(\"Engine stopped\")\n",
        "\n",
        "class Car:\n",
        "    def __init__(self):\n",
        "        self.engine = Engine()  # Composition: Car has an Engine\n",
        "\n",
        "    def start(self):\n",
        "        self.engine.start()\n",
        "\n",
        "    def stop(self):\n",
        "        self.engine.stop()\n",
        "\n",
        "# Using Car without knowing the internal details of Engine\n",
        "my_car = Car()\n",
        "my_car.start()  # Output: Engine started\n",
        "my_car.stop()   # Output: Engine stopped\n"
      ],
      "metadata": {
        "colab": {
          "base_uri": "https://localhost:8080/"
        },
        "id": "HBNd-HOYRz2_",
        "outputId": "00b24f41-49c2-447c-a2c9-8e50f139c0b2"
      },
      "execution_count": null,
      "outputs": [
        {
          "output_type": "stream",
          "name": "stdout",
          "text": [
            "Engine started\n",
            "Engine stopped\n"
          ]
        }
      ]
    },
    {
      "cell_type": "markdown",
      "source": [
        "Abstract Base Classes (ABCs) in Collections:"
      ],
      "metadata": {
        "id": "_naQWQbISBkj"
      }
    },
    {
      "cell_type": "code",
      "source": [
        "from collections.abc import MutableSequence\n",
        "\n",
        "class CustomList(MutableSequence):\n",
        "    def __init__(self, *args):\n",
        "        self.elements = list(args)\n",
        "\n",
        "    def __len__(self):\n",
        "        return len(self.elements)\n",
        "\n",
        "    def __getitem__(self, i):\n",
        "        return self.elements[i]\n",
        "\n",
        "    def __delitem__(self, i):\n",
        "        del self.elements[i]\n",
        "\n",
        "    def __setitem__(self, i, value):\n",
        "        self.elements[i] = value\n",
        "\n",
        "    def insert(self, i, value):\n",
        "        self.elements.insert(i, value)\n",
        "\n",
        "# Creating a custom list without knowing the implementation details\n",
        "my_list = CustomList(1, 2, 3, 4)\n",
        "\n",
        "# Using the custom list like a built-in list\n",
        "my_list.append(5)\n",
        "print(my_list)  # Output: [1, 2, 3, 4, 5]\n"
      ],
      "metadata": {
        "colab": {
          "base_uri": "https://localhost:8080/"
        },
        "id": "l12T1QBjRz5t",
        "outputId": "2cd5f7f7-9e9e-4fa3-c4e3-7fda2950f61a"
      },
      "execution_count": null,
      "outputs": [
        {
          "output_type": "stream",
          "name": "stdout",
          "text": [
            "<__main__.CustomList object at 0x7ff388331ff0>\n"
          ]
        }
      ]
    },
    {
      "cell_type": "markdown",
      "source": [
        "Banking System Abstraction:"
      ],
      "metadata": {
        "id": "lr5Ebi8ISI7l"
      }
    },
    {
      "cell_type": "code",
      "source": [
        "from abc import ABC, abstractmethod\n",
        "\n",
        "class Account(ABC):\n",
        "    def __init__(self, account_number, balance):\n",
        "        self.account_number = account_number\n",
        "        self.balance = balance\n",
        "\n",
        "    @abstractmethod\n",
        "    def deposit(self, amount):\n",
        "        pass\n",
        "\n",
        "    @abstractmethod\n",
        "    def withdraw(self, amount):\n",
        "        pass\n",
        "\n",
        "class SavingsAccount(Account):\n",
        "    def deposit(self, amount):\n",
        "        self.balance += amount\n",
        "\n",
        "    def withdraw(self, amount):\n",
        "        if amount <= self.balance:\n",
        "            self.balance -= amount\n",
        "            print(f\"Withdrew {amount} from Savings Account\")\n",
        "        else:\n",
        "            print(\"Insufficient balance\")\n",
        "\n",
        "class CurrentAccount(Account):\n",
        "    def deposit(self, amount):\n",
        "        self.balance += amount\n",
        "\n",
        "    def withdraw(self, amount):\n",
        "        if amount <= self.balance:\n",
        "            self.balance -= amount\n",
        "            print(f\"Withdrew {amount} from Current Account\")\n",
        "        else:\n",
        "            print(\"Insufficient balance\")\n",
        "\n",
        "# Creating instances of different account types without knowing the implementation details\n",
        "savings_account = SavingsAccount(\"123456\", 5000)\n",
        "current_account = CurrentAccount(\"789012\", 10000)\n",
        "\n",
        "# Depositing and withdrawing money without knowing the internal details\n",
        "savings_account.deposit(2000)\n",
        "current_account.withdraw(500)\n"
      ],
      "metadata": {
        "colab": {
          "base_uri": "https://localhost:8080/"
        },
        "id": "HVckNrtgSDEW",
        "outputId": "3a90ef82-4876-4d8a-ee1f-0796f067ecc9"
      },
      "execution_count": null,
      "outputs": [
        {
          "output_type": "stream",
          "name": "stdout",
          "text": [
            "Withdrew 500 from Current Account\n"
          ]
        }
      ]
    },
    {
      "cell_type": "markdown",
      "source": [
        " Remote Control Abstraction:"
      ],
      "metadata": {
        "id": "OCUKetsMSRRp"
      }
    },
    {
      "cell_type": "code",
      "source": [
        "from abc import ABC, abstractmethod\n",
        "\n",
        "class Device(ABC):\n",
        "    @abstractmethod\n",
        "    def turn_on(self):\n",
        "        pass\n",
        "\n",
        "    @abstractmethod\n",
        "    def turn_off(self):\n",
        "        pass\n",
        "\n",
        "class TV(Device):\n",
        "    def turn_on(self):\n",
        "        print(\"Turning on the TV\")\n",
        "\n",
        "    def turn_off(self):\n",
        "        print(\"Turning off the TV\")\n",
        "\n",
        "class AC(Device):\n",
        "    def turn_on(self):\n",
        "        print(\"Turning on the AC\")\n",
        "\n",
        "    def turn_off(self):\n",
        "        print(\"Turning off the AC\")\n",
        "\n",
        "# Using different devices through a common interface without knowing the implementation details\n",
        "tv = TV()\n",
        "ac = AC()\n",
        "\n",
        "tv.turn_on()\n",
        "ac.turn_off()\n"
      ],
      "metadata": {
        "colab": {
          "base_uri": "https://localhost:8080/"
        },
        "id": "TjFvZmzYSDHO",
        "outputId": "3ef54edb-29b9-4b89-c89d-9d1349bd0e68"
      },
      "execution_count": null,
      "outputs": [
        {
          "output_type": "stream",
          "name": "stdout",
          "text": [
            "Turning on the TV\n",
            "Turning off the AC\n"
          ]
        }
      ]
    },
    {
      "cell_type": "code",
      "source": [],
      "metadata": {
        "id": "R28VUvQ6SHHc"
      },
      "execution_count": null,
      "outputs": []
    },
    {
      "cell_type": "code",
      "source": [],
      "metadata": {
        "id": "T_-xXYkOSHKb"
      },
      "execution_count": null,
      "outputs": []
    }
  ]
}